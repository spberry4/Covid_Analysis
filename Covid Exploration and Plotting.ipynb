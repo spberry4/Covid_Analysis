{
  "cells": [
    {
      "cell_type": "markdown",
      "metadata": {
        "id": "view-in-github",
        "colab_type": "text"
      },
      "source": [
        "<a href=\"https://colab.research.google.com/github/spberry4/Covid_Analysis/blob/main/Covid%20Exploration%20and%20Plotting.ipynb\" target=\"_parent\"><img src=\"https://colab.research.google.com/assets/colab-badge.svg\" alt=\"Open In Colab\"/></a>"
      ]
    },
    {
      "cell_type": "code",
      "source": [
        "!pip install sodapy"
      ],
      "metadata": {
        "colab": {
          "base_uri": "https://localhost:8080/"
        },
        "id": "hkYEHiMYPkbF",
        "outputId": "22c20aad-53f7-49f7-a724-20e95fb32aa7"
      },
      "id": "hkYEHiMYPkbF",
      "execution_count": 3,
      "outputs": [
        {
          "output_type": "stream",
          "name": "stdout",
          "text": [
            "Looking in indexes: https://pypi.org/simple, https://us-python.pkg.dev/colab-wheels/public/simple/\n",
            "Collecting sodapy\n",
            "  Downloading sodapy-2.2.0-py2.py3-none-any.whl (15 kB)\n",
            "Collecting requests>=2.28.1\n",
            "  Downloading requests-2.28.2-py3-none-any.whl (62 kB)\n",
            "\u001b[2K     \u001b[90m━━━━━━━━━━━━━━━━━━━━━━━━━━━━━━━━━━━━━━━━\u001b[0m \u001b[32m62.8/62.8 KB\u001b[0m \u001b[31m3.6 MB/s\u001b[0m eta \u001b[36m0:00:00\u001b[0m\n",
            "\u001b[?25hRequirement already satisfied: certifi>=2017.4.17 in /usr/local/lib/python3.9/dist-packages (from requests>=2.28.1->sodapy) (2022.12.7)\n",
            "Requirement already satisfied: urllib3<1.27,>=1.21.1 in /usr/local/lib/python3.9/dist-packages (from requests>=2.28.1->sodapy) (1.26.15)\n",
            "Requirement already satisfied: idna<4,>=2.5 in /usr/local/lib/python3.9/dist-packages (from requests>=2.28.1->sodapy) (3.4)\n",
            "Requirement already satisfied: charset-normalizer<4,>=2 in /usr/local/lib/python3.9/dist-packages (from requests>=2.28.1->sodapy) (2.0.12)\n",
            "Installing collected packages: requests, sodapy\n",
            "  Attempting uninstall: requests\n",
            "    Found existing installation: requests 2.27.1\n",
            "    Uninstalling requests-2.27.1:\n",
            "      Successfully uninstalled requests-2.27.1\n",
            "Successfully installed requests-2.28.2 sodapy-2.2.0\n"
          ]
        }
      ]
    },
    {
      "cell_type": "code",
      "execution_count": 4,
      "id": "3f863931",
      "metadata": {
        "id": "3f863931"
      },
      "outputs": [],
      "source": [
        "#Various libraries that are needed to work with the data\n",
        "\n",
        "import plotly.express as px\n",
        "import pandas as pd\n",
        "import plotly.io as pio\n",
        "import plotly.graph_objects as go\n",
        "from plotly.subplots import make_subplots\n",
        "from sodapy import Socrata"
      ]
    },
    {
      "cell_type": "code",
      "execution_count": 5,
      "id": "40615b6f",
      "metadata": {
        "colab": {
          "base_uri": "https://localhost:8080/"
        },
        "id": "40615b6f",
        "outputId": "fa748f54-9908-47d6-fe62-2b09518e2862"
      },
      "outputs": [
        {
          "output_type": "stream",
          "name": "stderr",
          "text": [
            "WARNING:root:Requests made without an app_token will be subject to strict throttling limits.\n"
          ]
        }
      ],
      "source": [
        "#data retreived from CDC https://data.cdc.gov/Case-Surveillance/United-States-COVID-19-Cases-and-Deaths-by-State-o/9mfq-cb36\n",
        "#variants https://www.who.int/en/activities/tracking-SARS-CoV-2-variants/\n",
        "\n",
        "client = Socrata(\"data.cdc.gov\", None)\n",
        "\n",
        "results = client.get(\"9mfq-cb36\", limit = 100000)\n",
        "\n",
        "covid = pd.DataFrame.from_records(results)"
      ]
    },
    {
      "cell_type": "markdown",
      "id": "f1b92948",
      "metadata": {
        "id": "f1b92948"
      },
      "source": [
        "# Exploration and Cleaning"
      ]
    },
    {
      "cell_type": "code",
      "execution_count": 6,
      "id": "67e5631a",
      "metadata": {
        "scrolled": true,
        "colab": {
          "base_uri": "https://localhost:8080/",
          "height": 357
        },
        "id": "67e5631a",
        "outputId": "58688378-17c0-43aa-a0ec-c018138299a7"
      },
      "outputs": [
        {
          "output_type": "execute_result",
          "data": {
            "text/plain": [
              "           submission_date state tot_cases conf_cases prob_cases new_case  \\\n",
              "0  2021-03-11T00:00:00.000    KS    297229   241035.0      56194      0.0   \n",
              "1  2021-12-01T00:00:00.000    ND    163565   135705.0      27860    589.0   \n",
              "2  2022-01-02T00:00:00.000    AS        11        NaN        NaN      0.0   \n",
              "3  2021-11-22T00:00:00.000    AL    841461   620483.0     220978    703.0   \n",
              "4  2022-05-30T00:00:00.000    AK    251425        NaN        NaN      0.0   \n",
              "\n",
              "  pnew_case tot_death new_death pnew_death               created_at  \\\n",
              "0         0      4851       0.0          0  2021-03-12T15:20:13.190   \n",
              "1       220      1907       9.0          0  2021-12-02T14:35:20.922   \n",
              "2         0         0       0.0          0  2022-01-03T15:18:16.200   \n",
              "3       357     16377       7.0          3  2021-11-22T00:00:00.000   \n",
              "4         0      1252       0.0          0  2022-05-31T13:20:20.883   \n",
              "\n",
              "  consent_cases consent_deaths conf_death prob_death  \n",
              "0         Agree            N/A        NaN        NaN  \n",
              "1         Agree      Not agree        NaN        NaN  \n",
              "2           NaN            NaN        NaN        NaN  \n",
              "3         Agree          Agree    12727.0       3650  \n",
              "4           N/A            N/A        NaN        NaN  "
            ],
            "text/html": [
              "\n",
              "  <div id=\"df-e8e489d4-f3e5-4f4c-92de-b94da1b103b1\">\n",
              "    <div class=\"colab-df-container\">\n",
              "      <div>\n",
              "<style scoped>\n",
              "    .dataframe tbody tr th:only-of-type {\n",
              "        vertical-align: middle;\n",
              "    }\n",
              "\n",
              "    .dataframe tbody tr th {\n",
              "        vertical-align: top;\n",
              "    }\n",
              "\n",
              "    .dataframe thead th {\n",
              "        text-align: right;\n",
              "    }\n",
              "</style>\n",
              "<table border=\"1\" class=\"dataframe\">\n",
              "  <thead>\n",
              "    <tr style=\"text-align: right;\">\n",
              "      <th></th>\n",
              "      <th>submission_date</th>\n",
              "      <th>state</th>\n",
              "      <th>tot_cases</th>\n",
              "      <th>conf_cases</th>\n",
              "      <th>prob_cases</th>\n",
              "      <th>new_case</th>\n",
              "      <th>pnew_case</th>\n",
              "      <th>tot_death</th>\n",
              "      <th>new_death</th>\n",
              "      <th>pnew_death</th>\n",
              "      <th>created_at</th>\n",
              "      <th>consent_cases</th>\n",
              "      <th>consent_deaths</th>\n",
              "      <th>conf_death</th>\n",
              "      <th>prob_death</th>\n",
              "    </tr>\n",
              "  </thead>\n",
              "  <tbody>\n",
              "    <tr>\n",
              "      <th>0</th>\n",
              "      <td>2021-03-11T00:00:00.000</td>\n",
              "      <td>KS</td>\n",
              "      <td>297229</td>\n",
              "      <td>241035.0</td>\n",
              "      <td>56194</td>\n",
              "      <td>0.0</td>\n",
              "      <td>0</td>\n",
              "      <td>4851</td>\n",
              "      <td>0.0</td>\n",
              "      <td>0</td>\n",
              "      <td>2021-03-12T15:20:13.190</td>\n",
              "      <td>Agree</td>\n",
              "      <td>N/A</td>\n",
              "      <td>NaN</td>\n",
              "      <td>NaN</td>\n",
              "    </tr>\n",
              "    <tr>\n",
              "      <th>1</th>\n",
              "      <td>2021-12-01T00:00:00.000</td>\n",
              "      <td>ND</td>\n",
              "      <td>163565</td>\n",
              "      <td>135705.0</td>\n",
              "      <td>27860</td>\n",
              "      <td>589.0</td>\n",
              "      <td>220</td>\n",
              "      <td>1907</td>\n",
              "      <td>9.0</td>\n",
              "      <td>0</td>\n",
              "      <td>2021-12-02T14:35:20.922</td>\n",
              "      <td>Agree</td>\n",
              "      <td>Not agree</td>\n",
              "      <td>NaN</td>\n",
              "      <td>NaN</td>\n",
              "    </tr>\n",
              "    <tr>\n",
              "      <th>2</th>\n",
              "      <td>2022-01-02T00:00:00.000</td>\n",
              "      <td>AS</td>\n",
              "      <td>11</td>\n",
              "      <td>NaN</td>\n",
              "      <td>NaN</td>\n",
              "      <td>0.0</td>\n",
              "      <td>0</td>\n",
              "      <td>0</td>\n",
              "      <td>0.0</td>\n",
              "      <td>0</td>\n",
              "      <td>2022-01-03T15:18:16.200</td>\n",
              "      <td>NaN</td>\n",
              "      <td>NaN</td>\n",
              "      <td>NaN</td>\n",
              "      <td>NaN</td>\n",
              "    </tr>\n",
              "    <tr>\n",
              "      <th>3</th>\n",
              "      <td>2021-11-22T00:00:00.000</td>\n",
              "      <td>AL</td>\n",
              "      <td>841461</td>\n",
              "      <td>620483.0</td>\n",
              "      <td>220978</td>\n",
              "      <td>703.0</td>\n",
              "      <td>357</td>\n",
              "      <td>16377</td>\n",
              "      <td>7.0</td>\n",
              "      <td>3</td>\n",
              "      <td>2021-11-22T00:00:00.000</td>\n",
              "      <td>Agree</td>\n",
              "      <td>Agree</td>\n",
              "      <td>12727.0</td>\n",
              "      <td>3650</td>\n",
              "    </tr>\n",
              "    <tr>\n",
              "      <th>4</th>\n",
              "      <td>2022-05-30T00:00:00.000</td>\n",
              "      <td>AK</td>\n",
              "      <td>251425</td>\n",
              "      <td>NaN</td>\n",
              "      <td>NaN</td>\n",
              "      <td>0.0</td>\n",
              "      <td>0</td>\n",
              "      <td>1252</td>\n",
              "      <td>0.0</td>\n",
              "      <td>0</td>\n",
              "      <td>2022-05-31T13:20:20.883</td>\n",
              "      <td>N/A</td>\n",
              "      <td>N/A</td>\n",
              "      <td>NaN</td>\n",
              "      <td>NaN</td>\n",
              "    </tr>\n",
              "  </tbody>\n",
              "</table>\n",
              "</div>\n",
              "      <button class=\"colab-df-convert\" onclick=\"convertToInteractive('df-e8e489d4-f3e5-4f4c-92de-b94da1b103b1')\"\n",
              "              title=\"Convert this dataframe to an interactive table.\"\n",
              "              style=\"display:none;\">\n",
              "        \n",
              "  <svg xmlns=\"http://www.w3.org/2000/svg\" height=\"24px\"viewBox=\"0 0 24 24\"\n",
              "       width=\"24px\">\n",
              "    <path d=\"M0 0h24v24H0V0z\" fill=\"none\"/>\n",
              "    <path d=\"M18.56 5.44l.94 2.06.94-2.06 2.06-.94-2.06-.94-.94-2.06-.94 2.06-2.06.94zm-11 1L8.5 8.5l.94-2.06 2.06-.94-2.06-.94L8.5 2.5l-.94 2.06-2.06.94zm10 10l.94 2.06.94-2.06 2.06-.94-2.06-.94-.94-2.06-.94 2.06-2.06.94z\"/><path d=\"M17.41 7.96l-1.37-1.37c-.4-.4-.92-.59-1.43-.59-.52 0-1.04.2-1.43.59L10.3 9.45l-7.72 7.72c-.78.78-.78 2.05 0 2.83L4 21.41c.39.39.9.59 1.41.59.51 0 1.02-.2 1.41-.59l7.78-7.78 2.81-2.81c.8-.78.8-2.07 0-2.86zM5.41 20L4 18.59l7.72-7.72 1.47 1.35L5.41 20z\"/>\n",
              "  </svg>\n",
              "      </button>\n",
              "      \n",
              "  <style>\n",
              "    .colab-df-container {\n",
              "      display:flex;\n",
              "      flex-wrap:wrap;\n",
              "      gap: 12px;\n",
              "    }\n",
              "\n",
              "    .colab-df-convert {\n",
              "      background-color: #E8F0FE;\n",
              "      border: none;\n",
              "      border-radius: 50%;\n",
              "      cursor: pointer;\n",
              "      display: none;\n",
              "      fill: #1967D2;\n",
              "      height: 32px;\n",
              "      padding: 0 0 0 0;\n",
              "      width: 32px;\n",
              "    }\n",
              "\n",
              "    .colab-df-convert:hover {\n",
              "      background-color: #E2EBFA;\n",
              "      box-shadow: 0px 1px 2px rgba(60, 64, 67, 0.3), 0px 1px 3px 1px rgba(60, 64, 67, 0.15);\n",
              "      fill: #174EA6;\n",
              "    }\n",
              "\n",
              "    [theme=dark] .colab-df-convert {\n",
              "      background-color: #3B4455;\n",
              "      fill: #D2E3FC;\n",
              "    }\n",
              "\n",
              "    [theme=dark] .colab-df-convert:hover {\n",
              "      background-color: #434B5C;\n",
              "      box-shadow: 0px 1px 3px 1px rgba(0, 0, 0, 0.15);\n",
              "      filter: drop-shadow(0px 1px 2px rgba(0, 0, 0, 0.3));\n",
              "      fill: #FFFFFF;\n",
              "    }\n",
              "  </style>\n",
              "\n",
              "      <script>\n",
              "        const buttonEl =\n",
              "          document.querySelector('#df-e8e489d4-f3e5-4f4c-92de-b94da1b103b1 button.colab-df-convert');\n",
              "        buttonEl.style.display =\n",
              "          google.colab.kernel.accessAllowed ? 'block' : 'none';\n",
              "\n",
              "        async function convertToInteractive(key) {\n",
              "          const element = document.querySelector('#df-e8e489d4-f3e5-4f4c-92de-b94da1b103b1');\n",
              "          const dataTable =\n",
              "            await google.colab.kernel.invokeFunction('convertToInteractive',\n",
              "                                                     [key], {});\n",
              "          if (!dataTable) return;\n",
              "\n",
              "          const docLinkHtml = 'Like what you see? Visit the ' +\n",
              "            '<a target=\"_blank\" href=https://colab.research.google.com/notebooks/data_table.ipynb>data table notebook</a>'\n",
              "            + ' to learn more about interactive tables.';\n",
              "          element.innerHTML = '';\n",
              "          dataTable['output_type'] = 'display_data';\n",
              "          await google.colab.output.renderOutput(dataTable, element);\n",
              "          const docLink = document.createElement('div');\n",
              "          docLink.innerHTML = docLinkHtml;\n",
              "          element.appendChild(docLink);\n",
              "        }\n",
              "      </script>\n",
              "    </div>\n",
              "  </div>\n",
              "  "
            ]
          },
          "metadata": {},
          "execution_count": 6
        }
      ],
      "source": [
        "covid.head()"
      ]
    },
    {
      "cell_type": "code",
      "execution_count": 7,
      "id": "13e49e5c",
      "metadata": {
        "colab": {
          "base_uri": "https://localhost:8080/"
        },
        "id": "13e49e5c",
        "outputId": "866e2f35-9cd2-455a-dbb4-e981798a3a90"
      },
      "outputs": [
        {
          "output_type": "execute_result",
          "data": {
            "text/plain": [
              "60060"
            ]
          },
          "metadata": {},
          "execution_count": 7
        }
      ],
      "source": [
        "len(covid)"
      ]
    },
    {
      "cell_type": "code",
      "execution_count": 8,
      "id": "4913d592",
      "metadata": {
        "colab": {
          "base_uri": "https://localhost:8080/"
        },
        "id": "4913d592",
        "outputId": "09868322-7128-495c-f4e2-8fd032e3b542"
      },
      "outputs": [
        {
          "output_type": "execute_result",
          "data": {
            "text/plain": [
              "submission_date        0\n",
              "state                  0\n",
              "tot_cases              0\n",
              "conf_cases         26026\n",
              "prob_cases         26098\n",
              "new_case               0\n",
              "pnew_case           3526\n",
              "tot_death              0\n",
              "new_death              0\n",
              "pnew_death          3494\n",
              "created_at             0\n",
              "consent_cases       4009\n",
              "consent_deaths      5005\n",
              "conf_death         26787\n",
              "prob_death         26787\n",
              "dtype: int64"
            ]
          },
          "metadata": {},
          "execution_count": 8
        }
      ],
      "source": [
        "covid.isnull().sum()"
      ]
    },
    {
      "cell_type": "code",
      "execution_count": 9,
      "id": "8be4fdaa",
      "metadata": {
        "colab": {
          "base_uri": "https://localhost:8080/"
        },
        "id": "8be4fdaa",
        "outputId": "f9e5f917-0316-4752-b48b-3ad33db69ab6"
      },
      "outputs": [
        {
          "output_type": "execute_result",
          "data": {
            "text/plain": [
              "submission_date    object\n",
              "state              object\n",
              "tot_cases          object\n",
              "conf_cases         object\n",
              "prob_cases         object\n",
              "new_case           object\n",
              "pnew_case          object\n",
              "tot_death          object\n",
              "new_death          object\n",
              "pnew_death         object\n",
              "created_at         object\n",
              "consent_cases      object\n",
              "consent_deaths     object\n",
              "conf_death         object\n",
              "prob_death         object\n",
              "dtype: object"
            ]
          },
          "metadata": {},
          "execution_count": 9
        }
      ],
      "source": [
        "covid.dtypes"
      ]
    },
    {
      "cell_type": "code",
      "execution_count": 10,
      "id": "26d0c1db",
      "metadata": {
        "id": "26d0c1db"
      },
      "outputs": [],
      "source": [
        "covid.submission_date = pd.to_datetime(covid.submission_date, infer_datetime_format = True)\n",
        "covid.tot_cases = pd.to_numeric(covid.tot_cases)\n",
        "covid.conf_cases = pd.to_numeric(covid.conf_cases)\n",
        "covid.prob_cases = pd.to_numeric(covid.prob_cases)\n",
        "covid.new_case = pd.to_numeric(covid.new_case)\n",
        "covid.pnew_case = pd.to_numeric(covid.pnew_case)\n",
        "covid.tot_death = pd.to_numeric(covid.tot_death)\n",
        "covid.new_death = pd.to_numeric(covid.new_death)\n",
        "covid.pnew_death = pd.to_numeric(covid.pnew_death)\n",
        "covid.created_at = pd.to_datetime(covid.created_at, infer_datetime_format = True)\n",
        "covid.conf_death = pd.to_numeric(covid.conf_death)\n",
        "covid.prob_death = pd.to_numeric(covid.prob_death)"
      ]
    },
    {
      "cell_type": "code",
      "execution_count": 11,
      "id": "e944d187",
      "metadata": {
        "colab": {
          "base_uri": "https://localhost:8080/"
        },
        "id": "e944d187",
        "outputId": "e6d40c5e-dac6-4256-b030-f26840eba713"
      },
      "outputs": [
        {
          "output_type": "execute_result",
          "data": {
            "text/plain": [
              "submission_date    datetime64[ns]\n",
              "state                      object\n",
              "tot_cases                   int64\n",
              "conf_cases                float64\n",
              "prob_cases                float64\n",
              "new_case                  float64\n",
              "pnew_case                 float64\n",
              "tot_death                   int64\n",
              "new_death                 float64\n",
              "pnew_death                float64\n",
              "created_at         datetime64[ns]\n",
              "consent_cases              object\n",
              "consent_deaths             object\n",
              "conf_death                float64\n",
              "prob_death                float64\n",
              "dtype: object"
            ]
          },
          "metadata": {},
          "execution_count": 11
        }
      ],
      "source": [
        "covid.dtypes"
      ]
    },
    {
      "cell_type": "code",
      "execution_count": 12,
      "id": "1a2212bc",
      "metadata": {
        "id": "1a2212bc"
      },
      "outputs": [],
      "source": [
        "sorted_covid = covid.sort_values(by = \"submission_date\", ascending = False)"
      ]
    },
    {
      "cell_type": "code",
      "execution_count": 13,
      "id": "31f9e0c6",
      "metadata": {
        "colab": {
          "base_uri": "https://localhost:8080/",
          "height": 661
        },
        "id": "31f9e0c6",
        "outputId": "f7f0db57-1bc9-43a6-c39c-ef578f6959d0"
      },
      "outputs": [
        {
          "output_type": "execute_result",
          "data": {
            "text/plain": [
              "      submission_date state  tot_cases  conf_cases  prob_cases  new_case  \\\n",
              "59910      2022-10-18    IN    1930022         NaN         NaN       0.0   \n",
              "49839      2022-10-18    KS     883063    655917.0    227146.0       0.0   \n",
              "16137      2022-10-18    VA    2106527   1490236.0    616291.0     942.0   \n",
              "58417      2022-10-18    GU      58703         NaN         NaN       0.0   \n",
              "28617      2022-10-18    CA   11309237  10458792.0    850445.0       0.0   \n",
              "...               ...   ...        ...         ...         ...       ...   \n",
              "51294      2020-01-22    WV          0         NaN         NaN       0.0   \n",
              "28909      2020-01-22    WY          0         NaN         NaN       0.0   \n",
              "17053      2020-01-22    DC          0         NaN         NaN       0.0   \n",
              "34863      2020-01-22    VT          0         NaN         NaN       0.0   \n",
              "36529      2020-01-22   FSM          0         0.0         0.0       0.0   \n",
              "\n",
              "       pnew_case  tot_death  new_death  pnew_death              created_at  \\\n",
              "59910        0.0      24816        0.0         0.0 2022-10-19 13:15:24.690   \n",
              "49839        0.0       9590        0.0         0.0 2022-10-19 13:15:24.690   \n",
              "16137      434.0      22057       16.0         2.0 2022-10-19 13:15:24.690   \n",
              "58417        0.0        401        0.0         0.0 2022-10-19 13:15:24.690   \n",
              "28617        0.0      95604        0.0         0.0 2022-10-19 13:15:24.690   \n",
              "...          ...        ...        ...         ...                     ...   \n",
              "51294        NaN          0        0.0         NaN 2020-03-26 16:22:39.452   \n",
              "28909        NaN          0        0.0         NaN 2020-03-26 16:22:39.452   \n",
              "17053        NaN          0        0.0         NaN 2020-03-26 16:22:39.452   \n",
              "34863        NaN          0        0.0         NaN 2020-03-26 16:22:39.452   \n",
              "36529        0.0          0        0.0         0.0 2020-01-22 00:00:00.000   \n",
              "\n",
              "      consent_cases consent_deaths  conf_death  prob_death  \n",
              "59910     Not agree          Agree     23745.0      1071.0  \n",
              "49839         Agree            N/A         NaN         NaN  \n",
              "16137         Agree          Agree     18326.0      3731.0  \n",
              "58417     Not agree      Not agree         NaN         NaN  \n",
              "28617         Agree      Not agree         NaN         NaN  \n",
              "...             ...            ...         ...         ...  \n",
              "51294         Agree      Not agree         NaN         NaN  \n",
              "28909         Agree          Agree         NaN         NaN  \n",
              "17053           NaN            NaN         NaN         NaN  \n",
              "34863     Not agree      Not agree         NaN         NaN  \n",
              "36529         Agree          Agree         0.0         0.0  \n",
              "\n",
              "[60050 rows x 15 columns]"
            ],
            "text/html": [
              "\n",
              "  <div id=\"df-8a704dca-71fc-47af-9a83-512674e1ecda\">\n",
              "    <div class=\"colab-df-container\">\n",
              "      <div>\n",
              "<style scoped>\n",
              "    .dataframe tbody tr th:only-of-type {\n",
              "        vertical-align: middle;\n",
              "    }\n",
              "\n",
              "    .dataframe tbody tr th {\n",
              "        vertical-align: top;\n",
              "    }\n",
              "\n",
              "    .dataframe thead th {\n",
              "        text-align: right;\n",
              "    }\n",
              "</style>\n",
              "<table border=\"1\" class=\"dataframe\">\n",
              "  <thead>\n",
              "    <tr style=\"text-align: right;\">\n",
              "      <th></th>\n",
              "      <th>submission_date</th>\n",
              "      <th>state</th>\n",
              "      <th>tot_cases</th>\n",
              "      <th>conf_cases</th>\n",
              "      <th>prob_cases</th>\n",
              "      <th>new_case</th>\n",
              "      <th>pnew_case</th>\n",
              "      <th>tot_death</th>\n",
              "      <th>new_death</th>\n",
              "      <th>pnew_death</th>\n",
              "      <th>created_at</th>\n",
              "      <th>consent_cases</th>\n",
              "      <th>consent_deaths</th>\n",
              "      <th>conf_death</th>\n",
              "      <th>prob_death</th>\n",
              "    </tr>\n",
              "  </thead>\n",
              "  <tbody>\n",
              "    <tr>\n",
              "      <th>59910</th>\n",
              "      <td>2022-10-18</td>\n",
              "      <td>IN</td>\n",
              "      <td>1930022</td>\n",
              "      <td>NaN</td>\n",
              "      <td>NaN</td>\n",
              "      <td>0.0</td>\n",
              "      <td>0.0</td>\n",
              "      <td>24816</td>\n",
              "      <td>0.0</td>\n",
              "      <td>0.0</td>\n",
              "      <td>2022-10-19 13:15:24.690</td>\n",
              "      <td>Not agree</td>\n",
              "      <td>Agree</td>\n",
              "      <td>23745.0</td>\n",
              "      <td>1071.0</td>\n",
              "    </tr>\n",
              "    <tr>\n",
              "      <th>49839</th>\n",
              "      <td>2022-10-18</td>\n",
              "      <td>KS</td>\n",
              "      <td>883063</td>\n",
              "      <td>655917.0</td>\n",
              "      <td>227146.0</td>\n",
              "      <td>0.0</td>\n",
              "      <td>0.0</td>\n",
              "      <td>9590</td>\n",
              "      <td>0.0</td>\n",
              "      <td>0.0</td>\n",
              "      <td>2022-10-19 13:15:24.690</td>\n",
              "      <td>Agree</td>\n",
              "      <td>N/A</td>\n",
              "      <td>NaN</td>\n",
              "      <td>NaN</td>\n",
              "    </tr>\n",
              "    <tr>\n",
              "      <th>16137</th>\n",
              "      <td>2022-10-18</td>\n",
              "      <td>VA</td>\n",
              "      <td>2106527</td>\n",
              "      <td>1490236.0</td>\n",
              "      <td>616291.0</td>\n",
              "      <td>942.0</td>\n",
              "      <td>434.0</td>\n",
              "      <td>22057</td>\n",
              "      <td>16.0</td>\n",
              "      <td>2.0</td>\n",
              "      <td>2022-10-19 13:15:24.690</td>\n",
              "      <td>Agree</td>\n",
              "      <td>Agree</td>\n",
              "      <td>18326.0</td>\n",
              "      <td>3731.0</td>\n",
              "    </tr>\n",
              "    <tr>\n",
              "      <th>58417</th>\n",
              "      <td>2022-10-18</td>\n",
              "      <td>GU</td>\n",
              "      <td>58703</td>\n",
              "      <td>NaN</td>\n",
              "      <td>NaN</td>\n",
              "      <td>0.0</td>\n",
              "      <td>0.0</td>\n",
              "      <td>401</td>\n",
              "      <td>0.0</td>\n",
              "      <td>0.0</td>\n",
              "      <td>2022-10-19 13:15:24.690</td>\n",
              "      <td>Not agree</td>\n",
              "      <td>Not agree</td>\n",
              "      <td>NaN</td>\n",
              "      <td>NaN</td>\n",
              "    </tr>\n",
              "    <tr>\n",
              "      <th>28617</th>\n",
              "      <td>2022-10-18</td>\n",
              "      <td>CA</td>\n",
              "      <td>11309237</td>\n",
              "      <td>10458792.0</td>\n",
              "      <td>850445.0</td>\n",
              "      <td>0.0</td>\n",
              "      <td>0.0</td>\n",
              "      <td>95604</td>\n",
              "      <td>0.0</td>\n",
              "      <td>0.0</td>\n",
              "      <td>2022-10-19 13:15:24.690</td>\n",
              "      <td>Agree</td>\n",
              "      <td>Not agree</td>\n",
              "      <td>NaN</td>\n",
              "      <td>NaN</td>\n",
              "    </tr>\n",
              "    <tr>\n",
              "      <th>...</th>\n",
              "      <td>...</td>\n",
              "      <td>...</td>\n",
              "      <td>...</td>\n",
              "      <td>...</td>\n",
              "      <td>...</td>\n",
              "      <td>...</td>\n",
              "      <td>...</td>\n",
              "      <td>...</td>\n",
              "      <td>...</td>\n",
              "      <td>...</td>\n",
              "      <td>...</td>\n",
              "      <td>...</td>\n",
              "      <td>...</td>\n",
              "      <td>...</td>\n",
              "      <td>...</td>\n",
              "    </tr>\n",
              "    <tr>\n",
              "      <th>51294</th>\n",
              "      <td>2020-01-22</td>\n",
              "      <td>WV</td>\n",
              "      <td>0</td>\n",
              "      <td>NaN</td>\n",
              "      <td>NaN</td>\n",
              "      <td>0.0</td>\n",
              "      <td>NaN</td>\n",
              "      <td>0</td>\n",
              "      <td>0.0</td>\n",
              "      <td>NaN</td>\n",
              "      <td>2020-03-26 16:22:39.452</td>\n",
              "      <td>Agree</td>\n",
              "      <td>Not agree</td>\n",
              "      <td>NaN</td>\n",
              "      <td>NaN</td>\n",
              "    </tr>\n",
              "    <tr>\n",
              "      <th>28909</th>\n",
              "      <td>2020-01-22</td>\n",
              "      <td>WY</td>\n",
              "      <td>0</td>\n",
              "      <td>NaN</td>\n",
              "      <td>NaN</td>\n",
              "      <td>0.0</td>\n",
              "      <td>NaN</td>\n",
              "      <td>0</td>\n",
              "      <td>0.0</td>\n",
              "      <td>NaN</td>\n",
              "      <td>2020-03-26 16:22:39.452</td>\n",
              "      <td>Agree</td>\n",
              "      <td>Agree</td>\n",
              "      <td>NaN</td>\n",
              "      <td>NaN</td>\n",
              "    </tr>\n",
              "    <tr>\n",
              "      <th>17053</th>\n",
              "      <td>2020-01-22</td>\n",
              "      <td>DC</td>\n",
              "      <td>0</td>\n",
              "      <td>NaN</td>\n",
              "      <td>NaN</td>\n",
              "      <td>0.0</td>\n",
              "      <td>NaN</td>\n",
              "      <td>0</td>\n",
              "      <td>0.0</td>\n",
              "      <td>NaN</td>\n",
              "      <td>2020-03-26 16:22:39.452</td>\n",
              "      <td>NaN</td>\n",
              "      <td>NaN</td>\n",
              "      <td>NaN</td>\n",
              "      <td>NaN</td>\n",
              "    </tr>\n",
              "    <tr>\n",
              "      <th>34863</th>\n",
              "      <td>2020-01-22</td>\n",
              "      <td>VT</td>\n",
              "      <td>0</td>\n",
              "      <td>NaN</td>\n",
              "      <td>NaN</td>\n",
              "      <td>0.0</td>\n",
              "      <td>NaN</td>\n",
              "      <td>0</td>\n",
              "      <td>0.0</td>\n",
              "      <td>NaN</td>\n",
              "      <td>2020-03-26 16:22:39.452</td>\n",
              "      <td>Not agree</td>\n",
              "      <td>Not agree</td>\n",
              "      <td>NaN</td>\n",
              "      <td>NaN</td>\n",
              "    </tr>\n",
              "    <tr>\n",
              "      <th>36529</th>\n",
              "      <td>2020-01-22</td>\n",
              "      <td>FSM</td>\n",
              "      <td>0</td>\n",
              "      <td>0.0</td>\n",
              "      <td>0.0</td>\n",
              "      <td>0.0</td>\n",
              "      <td>0.0</td>\n",
              "      <td>0</td>\n",
              "      <td>0.0</td>\n",
              "      <td>0.0</td>\n",
              "      <td>2020-01-22 00:00:00.000</td>\n",
              "      <td>Agree</td>\n",
              "      <td>Agree</td>\n",
              "      <td>0.0</td>\n",
              "      <td>0.0</td>\n",
              "    </tr>\n",
              "  </tbody>\n",
              "</table>\n",
              "<p>60050 rows × 15 columns</p>\n",
              "</div>\n",
              "      <button class=\"colab-df-convert\" onclick=\"convertToInteractive('df-8a704dca-71fc-47af-9a83-512674e1ecda')\"\n",
              "              title=\"Convert this dataframe to an interactive table.\"\n",
              "              style=\"display:none;\">\n",
              "        \n",
              "  <svg xmlns=\"http://www.w3.org/2000/svg\" height=\"24px\"viewBox=\"0 0 24 24\"\n",
              "       width=\"24px\">\n",
              "    <path d=\"M0 0h24v24H0V0z\" fill=\"none\"/>\n",
              "    <path d=\"M18.56 5.44l.94 2.06.94-2.06 2.06-.94-2.06-.94-.94-2.06-.94 2.06-2.06.94zm-11 1L8.5 8.5l.94-2.06 2.06-.94-2.06-.94L8.5 2.5l-.94 2.06-2.06.94zm10 10l.94 2.06.94-2.06 2.06-.94-2.06-.94-.94-2.06-.94 2.06-2.06.94z\"/><path d=\"M17.41 7.96l-1.37-1.37c-.4-.4-.92-.59-1.43-.59-.52 0-1.04.2-1.43.59L10.3 9.45l-7.72 7.72c-.78.78-.78 2.05 0 2.83L4 21.41c.39.39.9.59 1.41.59.51 0 1.02-.2 1.41-.59l7.78-7.78 2.81-2.81c.8-.78.8-2.07 0-2.86zM5.41 20L4 18.59l7.72-7.72 1.47 1.35L5.41 20z\"/>\n",
              "  </svg>\n",
              "      </button>\n",
              "      \n",
              "  <style>\n",
              "    .colab-df-container {\n",
              "      display:flex;\n",
              "      flex-wrap:wrap;\n",
              "      gap: 12px;\n",
              "    }\n",
              "\n",
              "    .colab-df-convert {\n",
              "      background-color: #E8F0FE;\n",
              "      border: none;\n",
              "      border-radius: 50%;\n",
              "      cursor: pointer;\n",
              "      display: none;\n",
              "      fill: #1967D2;\n",
              "      height: 32px;\n",
              "      padding: 0 0 0 0;\n",
              "      width: 32px;\n",
              "    }\n",
              "\n",
              "    .colab-df-convert:hover {\n",
              "      background-color: #E2EBFA;\n",
              "      box-shadow: 0px 1px 2px rgba(60, 64, 67, 0.3), 0px 1px 3px 1px rgba(60, 64, 67, 0.15);\n",
              "      fill: #174EA6;\n",
              "    }\n",
              "\n",
              "    [theme=dark] .colab-df-convert {\n",
              "      background-color: #3B4455;\n",
              "      fill: #D2E3FC;\n",
              "    }\n",
              "\n",
              "    [theme=dark] .colab-df-convert:hover {\n",
              "      background-color: #434B5C;\n",
              "      box-shadow: 0px 1px 3px 1px rgba(0, 0, 0, 0.15);\n",
              "      filter: drop-shadow(0px 1px 2px rgba(0, 0, 0, 0.3));\n",
              "      fill: #FFFFFF;\n",
              "    }\n",
              "  </style>\n",
              "\n",
              "      <script>\n",
              "        const buttonEl =\n",
              "          document.querySelector('#df-8a704dca-71fc-47af-9a83-512674e1ecda button.colab-df-convert');\n",
              "        buttonEl.style.display =\n",
              "          google.colab.kernel.accessAllowed ? 'block' : 'none';\n",
              "\n",
              "        async function convertToInteractive(key) {\n",
              "          const element = document.querySelector('#df-8a704dca-71fc-47af-9a83-512674e1ecda');\n",
              "          const dataTable =\n",
              "            await google.colab.kernel.invokeFunction('convertToInteractive',\n",
              "                                                     [key], {});\n",
              "          if (!dataTable) return;\n",
              "\n",
              "          const docLinkHtml = 'Like what you see? Visit the ' +\n",
              "            '<a target=\"_blank\" href=https://colab.research.google.com/notebooks/data_table.ipynb>data table notebook</a>'\n",
              "            + ' to learn more about interactive tables.';\n",
              "          element.innerHTML = '';\n",
              "          dataTable['output_type'] = 'display_data';\n",
              "          await google.colab.output.renderOutput(dataTable, element);\n",
              "          const docLink = document.createElement('div');\n",
              "          docLink.innerHTML = docLinkHtml;\n",
              "          element.appendChild(docLink);\n",
              "        }\n",
              "      </script>\n",
              "    </div>\n",
              "  </div>\n",
              "  "
            ]
          },
          "metadata": {},
          "execution_count": 13
        }
      ],
      "source": [
        "sorted_covid.head(-10)"
      ]
    },
    {
      "cell_type": "code",
      "execution_count": 14,
      "id": "e91c152d",
      "metadata": {
        "scrolled": false,
        "colab": {
          "base_uri": "https://localhost:8080/",
          "height": 424
        },
        "id": "e91c152d",
        "outputId": "46f4e3d1-d845-45d1-d146-644419aefcdd"
      },
      "outputs": [
        {
          "output_type": "stream",
          "name": "stderr",
          "text": [
            "<ipython-input-14-1fb5488c2c47>:1: FutureWarning: Dropping invalid columns in DataFrameGroupBy.max is deprecated. In a future version, a TypeError will be raised. Before calling .max, select only columns which should be valid for the function.\n",
            "  stateData = covid.groupby([\"state\"]).agg(\"max\")\n"
          ]
        },
        {
          "output_type": "execute_result",
          "data": {
            "text/plain": [
              "      submission_date  tot_cases  conf_cases  prob_cases  new_case  pnew_case  \\\n",
              "state                                                                           \n",
              "AK         2022-10-18     284076         NaN         NaN    9956.0        0.0   \n",
              "AL         2022-10-18    1530803   1084554.0    446249.0   17086.0     6396.0   \n",
              "AR         2022-10-18     956424         NaN         NaN   14494.0     9154.0   \n",
              "AS         2022-10-18       8251         NaN         NaN    1016.0        0.0   \n",
              "AZ         2022-10-18    2277635   1994096.0    283539.0   27681.0     4295.0   \n",
              "\n",
              "       tot_death  new_death  pnew_death              created_at  \\\n",
              "state                                                             \n",
              "AK          1356       50.0         0.0 2022-10-19 13:15:24.690   \n",
              "AL         20526       96.0        31.0 2022-10-19 13:15:24.690   \n",
              "AR         12386      154.0       163.0 2022-10-19 13:15:24.690   \n",
              "AS            34        5.0         0.0 2022-10-19 13:15:24.690   \n",
              "AZ         31455      457.0       216.0 2022-10-19 13:15:24.690   \n",
              "\n",
              "      consent_deaths  conf_death  prob_death  \n",
              "state                                         \n",
              "AK               N/A         NaN         NaN  \n",
              "AL             Agree     15685.0      4841.0  \n",
              "AR         Not agree         NaN         NaN  \n",
              "AS               NaN         NaN         NaN  \n",
              "AZ             Agree     27408.0      4425.0  "
            ],
            "text/html": [
              "\n",
              "  <div id=\"df-52ac6315-0fed-46ef-9020-4ca31f6e8009\">\n",
              "    <div class=\"colab-df-container\">\n",
              "      <div>\n",
              "<style scoped>\n",
              "    .dataframe tbody tr th:only-of-type {\n",
              "        vertical-align: middle;\n",
              "    }\n",
              "\n",
              "    .dataframe tbody tr th {\n",
              "        vertical-align: top;\n",
              "    }\n",
              "\n",
              "    .dataframe thead th {\n",
              "        text-align: right;\n",
              "    }\n",
              "</style>\n",
              "<table border=\"1\" class=\"dataframe\">\n",
              "  <thead>\n",
              "    <tr style=\"text-align: right;\">\n",
              "      <th></th>\n",
              "      <th>submission_date</th>\n",
              "      <th>tot_cases</th>\n",
              "      <th>conf_cases</th>\n",
              "      <th>prob_cases</th>\n",
              "      <th>new_case</th>\n",
              "      <th>pnew_case</th>\n",
              "      <th>tot_death</th>\n",
              "      <th>new_death</th>\n",
              "      <th>pnew_death</th>\n",
              "      <th>created_at</th>\n",
              "      <th>consent_deaths</th>\n",
              "      <th>conf_death</th>\n",
              "      <th>prob_death</th>\n",
              "    </tr>\n",
              "    <tr>\n",
              "      <th>state</th>\n",
              "      <th></th>\n",
              "      <th></th>\n",
              "      <th></th>\n",
              "      <th></th>\n",
              "      <th></th>\n",
              "      <th></th>\n",
              "      <th></th>\n",
              "      <th></th>\n",
              "      <th></th>\n",
              "      <th></th>\n",
              "      <th></th>\n",
              "      <th></th>\n",
              "      <th></th>\n",
              "    </tr>\n",
              "  </thead>\n",
              "  <tbody>\n",
              "    <tr>\n",
              "      <th>AK</th>\n",
              "      <td>2022-10-18</td>\n",
              "      <td>284076</td>\n",
              "      <td>NaN</td>\n",
              "      <td>NaN</td>\n",
              "      <td>9956.0</td>\n",
              "      <td>0.0</td>\n",
              "      <td>1356</td>\n",
              "      <td>50.0</td>\n",
              "      <td>0.0</td>\n",
              "      <td>2022-10-19 13:15:24.690</td>\n",
              "      <td>N/A</td>\n",
              "      <td>NaN</td>\n",
              "      <td>NaN</td>\n",
              "    </tr>\n",
              "    <tr>\n",
              "      <th>AL</th>\n",
              "      <td>2022-10-18</td>\n",
              "      <td>1530803</td>\n",
              "      <td>1084554.0</td>\n",
              "      <td>446249.0</td>\n",
              "      <td>17086.0</td>\n",
              "      <td>6396.0</td>\n",
              "      <td>20526</td>\n",
              "      <td>96.0</td>\n",
              "      <td>31.0</td>\n",
              "      <td>2022-10-19 13:15:24.690</td>\n",
              "      <td>Agree</td>\n",
              "      <td>15685.0</td>\n",
              "      <td>4841.0</td>\n",
              "    </tr>\n",
              "    <tr>\n",
              "      <th>AR</th>\n",
              "      <td>2022-10-18</td>\n",
              "      <td>956424</td>\n",
              "      <td>NaN</td>\n",
              "      <td>NaN</td>\n",
              "      <td>14494.0</td>\n",
              "      <td>9154.0</td>\n",
              "      <td>12386</td>\n",
              "      <td>154.0</td>\n",
              "      <td>163.0</td>\n",
              "      <td>2022-10-19 13:15:24.690</td>\n",
              "      <td>Not agree</td>\n",
              "      <td>NaN</td>\n",
              "      <td>NaN</td>\n",
              "    </tr>\n",
              "    <tr>\n",
              "      <th>AS</th>\n",
              "      <td>2022-10-18</td>\n",
              "      <td>8251</td>\n",
              "      <td>NaN</td>\n",
              "      <td>NaN</td>\n",
              "      <td>1016.0</td>\n",
              "      <td>0.0</td>\n",
              "      <td>34</td>\n",
              "      <td>5.0</td>\n",
              "      <td>0.0</td>\n",
              "      <td>2022-10-19 13:15:24.690</td>\n",
              "      <td>NaN</td>\n",
              "      <td>NaN</td>\n",
              "      <td>NaN</td>\n",
              "    </tr>\n",
              "    <tr>\n",
              "      <th>AZ</th>\n",
              "      <td>2022-10-18</td>\n",
              "      <td>2277635</td>\n",
              "      <td>1994096.0</td>\n",
              "      <td>283539.0</td>\n",
              "      <td>27681.0</td>\n",
              "      <td>4295.0</td>\n",
              "      <td>31455</td>\n",
              "      <td>457.0</td>\n",
              "      <td>216.0</td>\n",
              "      <td>2022-10-19 13:15:24.690</td>\n",
              "      <td>Agree</td>\n",
              "      <td>27408.0</td>\n",
              "      <td>4425.0</td>\n",
              "    </tr>\n",
              "  </tbody>\n",
              "</table>\n",
              "</div>\n",
              "      <button class=\"colab-df-convert\" onclick=\"convertToInteractive('df-52ac6315-0fed-46ef-9020-4ca31f6e8009')\"\n",
              "              title=\"Convert this dataframe to an interactive table.\"\n",
              "              style=\"display:none;\">\n",
              "        \n",
              "  <svg xmlns=\"http://www.w3.org/2000/svg\" height=\"24px\"viewBox=\"0 0 24 24\"\n",
              "       width=\"24px\">\n",
              "    <path d=\"M0 0h24v24H0V0z\" fill=\"none\"/>\n",
              "    <path d=\"M18.56 5.44l.94 2.06.94-2.06 2.06-.94-2.06-.94-.94-2.06-.94 2.06-2.06.94zm-11 1L8.5 8.5l.94-2.06 2.06-.94-2.06-.94L8.5 2.5l-.94 2.06-2.06.94zm10 10l.94 2.06.94-2.06 2.06-.94-2.06-.94-.94-2.06-.94 2.06-2.06.94z\"/><path d=\"M17.41 7.96l-1.37-1.37c-.4-.4-.92-.59-1.43-.59-.52 0-1.04.2-1.43.59L10.3 9.45l-7.72 7.72c-.78.78-.78 2.05 0 2.83L4 21.41c.39.39.9.59 1.41.59.51 0 1.02-.2 1.41-.59l7.78-7.78 2.81-2.81c.8-.78.8-2.07 0-2.86zM5.41 20L4 18.59l7.72-7.72 1.47 1.35L5.41 20z\"/>\n",
              "  </svg>\n",
              "      </button>\n",
              "      \n",
              "  <style>\n",
              "    .colab-df-container {\n",
              "      display:flex;\n",
              "      flex-wrap:wrap;\n",
              "      gap: 12px;\n",
              "    }\n",
              "\n",
              "    .colab-df-convert {\n",
              "      background-color: #E8F0FE;\n",
              "      border: none;\n",
              "      border-radius: 50%;\n",
              "      cursor: pointer;\n",
              "      display: none;\n",
              "      fill: #1967D2;\n",
              "      height: 32px;\n",
              "      padding: 0 0 0 0;\n",
              "      width: 32px;\n",
              "    }\n",
              "\n",
              "    .colab-df-convert:hover {\n",
              "      background-color: #E2EBFA;\n",
              "      box-shadow: 0px 1px 2px rgba(60, 64, 67, 0.3), 0px 1px 3px 1px rgba(60, 64, 67, 0.15);\n",
              "      fill: #174EA6;\n",
              "    }\n",
              "\n",
              "    [theme=dark] .colab-df-convert {\n",
              "      background-color: #3B4455;\n",
              "      fill: #D2E3FC;\n",
              "    }\n",
              "\n",
              "    [theme=dark] .colab-df-convert:hover {\n",
              "      background-color: #434B5C;\n",
              "      box-shadow: 0px 1px 3px 1px rgba(0, 0, 0, 0.15);\n",
              "      filter: drop-shadow(0px 1px 2px rgba(0, 0, 0, 0.3));\n",
              "      fill: #FFFFFF;\n",
              "    }\n",
              "  </style>\n",
              "\n",
              "      <script>\n",
              "        const buttonEl =\n",
              "          document.querySelector('#df-52ac6315-0fed-46ef-9020-4ca31f6e8009 button.colab-df-convert');\n",
              "        buttonEl.style.display =\n",
              "          google.colab.kernel.accessAllowed ? 'block' : 'none';\n",
              "\n",
              "        async function convertToInteractive(key) {\n",
              "          const element = document.querySelector('#df-52ac6315-0fed-46ef-9020-4ca31f6e8009');\n",
              "          const dataTable =\n",
              "            await google.colab.kernel.invokeFunction('convertToInteractive',\n",
              "                                                     [key], {});\n",
              "          if (!dataTable) return;\n",
              "\n",
              "          const docLinkHtml = 'Like what you see? Visit the ' +\n",
              "            '<a target=\"_blank\" href=https://colab.research.google.com/notebooks/data_table.ipynb>data table notebook</a>'\n",
              "            + ' to learn more about interactive tables.';\n",
              "          element.innerHTML = '';\n",
              "          dataTable['output_type'] = 'display_data';\n",
              "          await google.colab.output.renderOutput(dataTable, element);\n",
              "          const docLink = document.createElement('div');\n",
              "          docLink.innerHTML = docLinkHtml;\n",
              "          element.appendChild(docLink);\n",
              "        }\n",
              "      </script>\n",
              "    </div>\n",
              "  </div>\n",
              "  "
            ]
          },
          "metadata": {},
          "execution_count": 14
        }
      ],
      "source": [
        "stateData = covid.groupby([\"state\"]).agg(\"max\")\n",
        "stateData.head()"
      ]
    },
    {
      "cell_type": "code",
      "execution_count": 15,
      "id": "6c18fa37",
      "metadata": {
        "id": "6c18fa37"
      },
      "outputs": [],
      "source": [
        "#Creating variables to show how much each state contribute to the total deaths and cases\n",
        "\n",
        "stateData[\"TotalDeathPercent\"] = stateData[\"tot_cases\"] / stateData[\"tot_cases\"].sum()\n",
        "stateData[\"TotalCasePercent\"] = stateData[\"tot_death\"]  / stateData[\"tot_death\"].sum()"
      ]
    },
    {
      "cell_type": "code",
      "execution_count": 16,
      "id": "0c5378a7",
      "metadata": {
        "id": "0c5378a7"
      },
      "outputs": [],
      "source": [
        "covid.set_index(\"submission_date\", inplace = True)"
      ]
    },
    {
      "cell_type": "code",
      "execution_count": 17,
      "id": "67665a0c",
      "metadata": {
        "colab": {
          "base_uri": "https://localhost:8080/"
        },
        "id": "67665a0c",
        "outputId": "c49f07ff-7769-4394-9f50-557103d73799"
      },
      "outputs": [
        {
          "output_type": "execute_result",
          "data": {
            "text/plain": [
              "Index(['state', 'tot_cases', 'conf_cases', 'prob_cases', 'new_case',\n",
              "       'pnew_case', 'tot_death', 'new_death', 'pnew_death', 'created_at',\n",
              "       'consent_cases', 'consent_deaths', 'conf_death', 'prob_death'],\n",
              "      dtype='object')"
            ]
          },
          "metadata": {},
          "execution_count": 17
        }
      ],
      "source": [
        "covid.columns"
      ]
    },
    {
      "cell_type": "code",
      "execution_count": 18,
      "id": "2b5c2f95",
      "metadata": {
        "id": "2b5c2f95"
      },
      "outputs": [],
      "source": [
        "grouped_covid = covid.groupby([\"submission_date\"]).agg(\"sum\")"
      ]
    },
    {
      "cell_type": "code",
      "execution_count": 19,
      "id": "b6ab251a",
      "metadata": {
        "colab": {
          "base_uri": "https://localhost:8080/"
        },
        "id": "b6ab251a",
        "outputId": "d291c858-5f5e-4cf4-98ab-c30311f655f3"
      },
      "outputs": [
        {
          "output_type": "execute_result",
          "data": {
            "text/plain": [
              "tot_cases       int64\n",
              "conf_cases    float64\n",
              "prob_cases    float64\n",
              "new_case      float64\n",
              "pnew_case     float64\n",
              "tot_death       int64\n",
              "new_death     float64\n",
              "pnew_death    float64\n",
              "conf_death    float64\n",
              "prob_death    float64\n",
              "dtype: object"
            ]
          },
          "metadata": {},
          "execution_count": 19
        }
      ],
      "source": [
        "grouped_covid.dtypes"
      ]
    },
    {
      "cell_type": "code",
      "execution_count": 20,
      "id": "f179a330",
      "metadata": {
        "id": "f179a330"
      },
      "outputs": [],
      "source": [
        "grouped_covid[\"Mortality_Rate\"] = ((grouped_covid[\"new_death\"] / grouped_covid[\"new_case\"]))"
      ]
    },
    {
      "cell_type": "code",
      "execution_count": 21,
      "id": "e66ccd21",
      "metadata": {
        "colab": {
          "base_uri": "https://localhost:8080/"
        },
        "id": "e66ccd21",
        "outputId": "a0ab0c67-027f-4a81-c447-0807ca34c000"
      },
      "outputs": [
        {
          "output_type": "stream",
          "name": "stdout",
          "text": [
            "Total Deaths:  1042962.0\n",
            "Total Cases:  96180659.0\n",
            "Overall Mortality Rate:  1.0843780972638168\n"
          ]
        }
      ],
      "source": [
        "#Calculating Totals for the pandemic so far and the Mortality Rate\n",
        "\n",
        "Total_Deaths = grouped_covid[\"new_death\"].sum()\n",
        "Total_Cases = grouped_covid[\"new_case\"].sum()\n",
        "Overall_Mortality_Rate = (Total_Deaths/Total_Cases) *100\n",
        "\n",
        "print(\"Total Deaths: \", Total_Deaths)\n",
        "print(\"Total Cases: \", Total_Cases)\n",
        "print(\"Overall Mortality Rate: \", Overall_Mortality_Rate)"
      ]
    },
    {
      "cell_type": "code",
      "execution_count": 22,
      "id": "f7c37621",
      "metadata": {
        "id": "f7c37621"
      },
      "outputs": [],
      "source": [
        "#using the rolling function to create a rolling average on a 7 day basis\n",
        "\n",
        "grouped_covid[\"cases7MA\"] = grouped_covid[\"new_case\"].rolling(window = 7).mean()\n",
        "grouped_covid[\"death7MA\"] = grouped_covid[\"new_death\"].rolling(window = 7).mean()"
      ]
    },
    {
      "cell_type": "code",
      "execution_count": 23,
      "id": "76d5974b",
      "metadata": {
        "id": "76d5974b"
      },
      "outputs": [],
      "source": [
        "#Resetting the Mortality rate to the Moving average to make it more accurate due to the lag in deaths compared\n",
        "#comparted to cases\n",
        "\n",
        "grouped_covid[\"Mortality_Rate\"] = ((grouped_covid[\"death7MA\"] / grouped_covid[\"cases7MA\"]))"
      ]
    },
    {
      "cell_type": "markdown",
      "id": "356ba31f",
      "metadata": {
        "id": "356ba31f"
      },
      "source": [
        "# Graphing and Mapping the Clean Data and Transformations"
      ]
    },
    {
      "cell_type": "code",
      "execution_count": 24,
      "id": "3389d0fe",
      "metadata": {
        "colab": {
          "base_uri": "https://localhost:8080/",
          "height": 578
        },
        "id": "3389d0fe",
        "outputId": "c331bebe-7448-4982-f4de-aa77056fef7c"
      },
      "outputs": [
        {
          "output_type": "display_data",
          "data": {
            "text/html": [
              "<html>\n",
              "<head><meta charset=\"utf-8\" /></head>\n",
              "<body>\n",
              "    <div>            <script src=\"https://cdnjs.cloudflare.com/ajax/libs/mathjax/2.7.5/MathJax.js?config=TeX-AMS-MML_SVG\"></script><script type=\"text/javascript\">if (window.MathJax) {MathJax.Hub.Config({SVG: {font: \"STIX-Web\"}});}</script>                <script type=\"text/javascript\">window.PlotlyConfig = {MathJaxConfig: 'local'};</script>\n",
              "        <script src=\"https://cdn.plot.ly/plotly-2.8.3.min.js\"></script>                <div id=\"66a3fec1-58a1-4ec5-a804-4f1cb21ed0ed\" class=\"plotly-graph-div\" style=\"height:525px; width:100%;\"></div>            <script type=\"text/javascript\">                                    window.PLOTLYENV=window.PLOTLYENV || {};                                    if (document.getElementById(\"66a3fec1-58a1-4ec5-a804-4f1cb21ed0ed\")) {                    Plotly.newPlot(                        \"66a3fec1-58a1-4ec5-a804-4f1cb21ed0ed\",                        [{\"hovertemplate\":\"%{y}<br>\",\"line\":{\"color\":\"crimson\"},\"name\":\"Cases\",\"x\":[\"2020-01-22T00:00:00\",\"2020-01-23T00:00:00\",\"2020-01-24T00:00:00\",\"2020-01-25T00:00:00\",\"2020-01-26T00:00:00\",\"2020-01-27T00:00:00\",\"2020-01-28T00:00:00\",\"2020-01-29T00:00:00\",\"2020-01-30T00:00:00\",\"2020-01-31T00:00:00\",\"2020-02-01T00:00:00\",\"2020-02-02T00:00:00\",\"2020-02-03T00:00:00\",\"2020-02-04T00:00:00\",\"2020-02-05T00:00:00\",\"2020-02-06T00:00:00\",\"2020-02-07T00:00:00\",\"2020-02-08T00:00:00\",\"2020-02-09T00:00:00\",\"2020-02-10T00:00:00\",\"2020-02-11T00:00:00\",\"2020-02-12T00:00:00\",\"2020-02-13T00:00:00\",\"2020-02-14T00:00:00\",\"2020-02-15T00:00:00\",\"2020-02-16T00:00:00\",\"2020-02-17T00:00:00\",\"2020-02-18T00:00:00\",\"2020-02-19T00:00:00\",\"2020-02-20T00:00:00\",\"2020-02-21T00:00:00\",\"2020-02-22T00:00:00\",\"2020-02-23T00:00:00\",\"2020-02-24T00:00:00\",\"2020-02-25T00:00:00\",\"2020-02-26T00:00:00\",\"2020-02-27T00:00:00\",\"2020-02-28T00:00:00\",\"2020-02-29T00:00:00\",\"2020-03-01T00:00:00\",\"2020-03-02T00:00:00\",\"2020-03-03T00:00:00\",\"2020-03-04T00:00:00\",\"2020-03-05T00:00:00\",\"2020-03-06T00:00:00\",\"2020-03-07T00:00:00\",\"2020-03-08T00:00:00\",\"2020-03-09T00:00:00\",\"2020-03-10T00:00:00\",\"2020-03-11T00:00:00\",\"2020-03-12T00:00:00\",\"2020-03-13T00:00:00\",\"2020-03-14T00:00:00\",\"2020-03-15T00:00:00\",\"2020-03-16T00:00:00\",\"2020-03-17T00:00:00\",\"2020-03-18T00:00:00\",\"2020-03-19T00:00:00\",\"2020-03-20T00:00:00\",\"2020-03-21T00:00:00\",\"2020-03-22T00:00:00\",\"2020-03-23T00:00:00\",\"2020-03-24T00:00:00\",\"2020-03-25T00:00:00\",\"2020-03-26T00:00:00\",\"2020-03-27T00:00:00\",\"2020-03-28T00:00:00\",\"2020-03-29T00:00:00\",\"2020-03-30T00:00:00\",\"2020-03-31T00:00:00\",\"2020-04-01T00:00:00\",\"2020-04-02T00:00:00\",\"2020-04-03T00:00:00\",\"2020-04-04T00:00:00\",\"2020-04-05T00:00:00\",\"2020-04-06T00:00:00\",\"2020-04-07T00:00:00\",\"2020-04-08T00:00:00\",\"2020-04-09T00:00:00\",\"2020-04-10T00:00:00\",\"2020-04-11T00:00:00\",\"2020-04-12T00:00:00\",\"2020-04-13T00:00:00\",\"2020-04-14T00:00:00\",\"2020-04-15T00:00:00\",\"2020-04-16T00:00:00\",\"2020-04-17T00:00:00\",\"2020-04-18T00:00:00\",\"2020-04-19T00:00:00\",\"2020-04-20T00:00:00\",\"2020-04-21T00:00:00\",\"2020-04-22T00:00:00\",\"2020-04-23T00:00:00\",\"2020-04-24T00:00:00\",\"2020-04-25T00:00:00\",\"2020-04-26T00:00:00\",\"2020-04-27T00:00:00\",\"2020-04-28T00:00:00\",\"2020-04-29T00:00:00\",\"2020-04-30T00:00:00\",\"2020-05-01T00:00:00\",\"2020-05-02T00:00:00\",\"2020-05-03T00:00:00\",\"2020-05-04T00:00:00\",\"2020-05-05T00:00:00\",\"2020-05-06T00:00:00\",\"2020-05-07T00:00:00\",\"2020-05-08T00:00:00\",\"2020-05-09T00:00:00\",\"2020-05-10T00:00:00\",\"2020-05-11T00:00:00\",\"2020-05-12T00:00:00\",\"2020-05-13T00:00:00\",\"2020-05-14T00:00:00\",\"2020-05-15T00:00:00\",\"2020-05-16T00:00:00\",\"2020-05-17T00:00:00\",\"2020-05-18T00:00:00\",\"2020-05-19T00:00:00\",\"2020-05-20T00:00:00\",\"2020-05-21T00:00:00\",\"2020-05-22T00:00:00\",\"2020-05-23T00:00:00\",\"2020-05-24T00:00:00\",\"2020-05-25T00:00:00\",\"2020-05-26T00:00:00\",\"2020-05-27T00:00:00\",\"2020-05-28T00:00:00\",\"2020-05-29T00:00:00\",\"2020-05-30T00:00:00\",\"2020-05-31T00:00:00\",\"2020-06-01T00:00:00\",\"2020-06-02T00:00:00\",\"2020-06-03T00:00:00\",\"2020-06-04T00:00:00\",\"2020-06-05T00:00:00\",\"2020-06-06T00:00:00\",\"2020-06-07T00:00:00\",\"2020-06-08T00:00:00\",\"2020-06-09T00:00:00\",\"2020-06-10T00:00:00\",\"2020-06-11T00:00:00\",\"2020-06-12T00:00:00\",\"2020-06-13T00:00:00\",\"2020-06-14T00:00:00\",\"2020-06-15T00:00:00\",\"2020-06-16T00:00:00\",\"2020-06-17T00:00:00\",\"2020-06-18T00:00:00\",\"2020-06-19T00:00:00\",\"2020-06-20T00:00:00\",\"2020-06-21T00:00:00\",\"2020-06-22T00:00:00\",\"2020-06-23T00:00:00\",\"2020-06-24T00:00:00\",\"2020-06-25T00:00:00\",\"2020-06-26T00:00:00\",\"2020-06-27T00:00:00\",\"2020-06-28T00:00:00\",\"2020-06-29T00:00:00\",\"2020-06-30T00:00:00\",\"2020-07-01T00:00:00\",\"2020-07-02T00:00:00\",\"2020-07-03T00:00:00\",\"2020-07-04T00:00:00\",\"2020-07-05T00:00:00\",\"2020-07-06T00:00:00\",\"2020-07-07T00:00:00\",\"2020-07-08T00:00:00\",\"2020-07-09T00:00:00\",\"2020-07-10T00:00:00\",\"2020-07-11T00:00:00\",\"2020-07-12T00:00:00\",\"2020-07-13T00:00:00\",\"2020-07-14T00:00:00\",\"2020-07-15T00:00:00\",\"2020-07-16T00:00:00\",\"2020-07-17T00:00:00\",\"2020-07-18T00:00:00\",\"2020-07-19T00:00:00\",\"2020-07-20T00:00:00\",\"2020-07-21T00:00:00\",\"2020-07-22T00:00:00\",\"2020-07-23T00:00:00\",\"2020-07-24T00:00:00\",\"2020-07-25T00:00:00\",\"2020-07-26T00:00:00\",\"2020-07-27T00:00:00\",\"2020-07-28T00:00:00\",\"2020-07-29T00:00:00\",\"2020-07-30T00:00:00\",\"2020-07-31T00:00:00\",\"2020-08-01T00:00:00\",\"2020-08-02T00:00:00\",\"2020-08-03T00:00:00\",\"2020-08-04T00:00:00\",\"2020-08-05T00:00:00\",\"2020-08-06T00:00:00\",\"2020-08-07T00:00:00\",\"2020-08-08T00:00:00\",\"2020-08-09T00:00:00\",\"2020-08-10T00:00:00\",\"2020-08-11T00:00:00\",\"2020-08-12T00:00:00\",\"2020-08-13T00:00:00\",\"2020-08-14T00:00:00\",\"2020-08-15T00:00:00\",\"2020-08-16T00:00:00\",\"2020-08-17T00:00:00\",\"2020-08-18T00:00:00\",\"2020-08-19T00:00:00\",\"2020-08-20T00:00:00\",\"2020-08-21T00:00:00\",\"2020-08-22T00:00:00\",\"2020-08-23T00:00:00\",\"2020-08-24T00:00:00\",\"2020-08-25T00:00:00\",\"2020-08-26T00:00:00\",\"2020-08-27T00:00:00\",\"2020-08-28T00:00:00\",\"2020-08-29T00:00:00\",\"2020-08-30T00:00:00\",\"2020-08-31T00:00:00\",\"2020-09-01T00:00:00\",\"2020-09-02T00:00:00\",\"2020-09-03T00:00:00\",\"2020-09-04T00:00:00\",\"2020-09-05T00:00:00\",\"2020-09-06T00:00:00\",\"2020-09-07T00:00:00\",\"2020-09-08T00:00:00\",\"2020-09-09T00:00:00\",\"2020-09-10T00:00:00\",\"2020-09-11T00:00:00\",\"2020-09-12T00:00:00\",\"2020-09-13T00:00:00\",\"2020-09-14T00:00:00\",\"2020-09-15T00:00:00\",\"2020-09-16T00:00:00\",\"2020-09-17T00:00:00\",\"2020-09-18T00:00:00\",\"2020-09-19T00:00:00\",\"2020-09-20T00:00:00\",\"2020-09-21T00:00:00\",\"2020-09-22T00:00:00\",\"2020-09-23T00:00:00\",\"2020-09-24T00:00:00\",\"2020-09-25T00:00:00\",\"2020-09-26T00:00:00\",\"2020-09-27T00:00:00\",\"2020-09-28T00:00:00\",\"2020-09-29T00:00:00\",\"2020-09-30T00:00:00\",\"2020-10-01T00:00:00\",\"2020-10-02T00:00:00\",\"2020-10-03T00:00:00\",\"2020-10-04T00:00:00\",\"2020-10-05T00:00:00\",\"2020-10-06T00:00:00\",\"2020-10-07T00:00:00\",\"2020-10-08T00:00:00\",\"2020-10-09T00:00:00\",\"2020-10-10T00:00:00\",\"2020-10-11T00:00:00\",\"2020-10-12T00:00:00\",\"2020-10-13T00:00:00\",\"2020-10-14T00:00:00\",\"2020-10-15T00:00:00\",\"2020-10-16T00:00:00\",\"2020-10-17T00:00:00\",\"2020-10-18T00:00:00\",\"2020-10-19T00:00:00\",\"2020-10-20T00:00:00\",\"2020-10-21T00:00:00\",\"2020-10-22T00:00:00\",\"2020-10-23T00:00:00\",\"2020-10-24T00:00:00\",\"2020-10-25T00:00:00\",\"2020-10-26T00:00:00\",\"2020-10-27T00:00:00\",\"2020-10-28T00:00:00\",\"2020-10-29T00:00:00\",\"2020-10-30T00:00:00\",\"2020-10-31T00:00:00\",\"2020-11-01T00:00:00\",\"2020-11-02T00:00:00\",\"2020-11-03T00:00:00\",\"2020-11-04T00:00:00\",\"2020-11-05T00:00:00\",\"2020-11-06T00:00:00\",\"2020-11-07T00:00:00\",\"2020-11-08T00:00:00\",\"2020-11-09T00:00:00\",\"2020-11-10T00:00:00\",\"2020-11-11T00:00:00\",\"2020-11-12T00:00:00\",\"2020-11-13T00:00:00\",\"2020-11-14T00:00:00\",\"2020-11-15T00:00:00\",\"2020-11-16T00:00:00\",\"2020-11-17T00:00:00\",\"2020-11-18T00:00:00\",\"2020-11-19T00:00:00\",\"2020-11-20T00:00:00\",\"2020-11-21T00:00:00\",\"2020-11-22T00:00:00\",\"2020-11-23T00:00:00\",\"2020-11-24T00:00:00\",\"2020-11-25T00:00:00\",\"2020-11-26T00:00:00\",\"2020-11-27T00:00:00\",\"2020-11-28T00:00:00\",\"2020-11-29T00:00:00\",\"2020-11-30T00:00:00\",\"2020-12-01T00:00:00\",\"2020-12-02T00:00:00\",\"2020-12-03T00:00:00\",\"2020-12-04T00:00:00\",\"2020-12-05T00:00:00\",\"2020-12-06T00:00:00\",\"2020-12-07T00:00:00\",\"2020-12-08T00:00:00\",\"2020-12-09T00:00:00\",\"2020-12-10T00:00:00\",\"2020-12-11T00:00:00\",\"2020-12-12T00:00:00\",\"2020-12-13T00:00:00\",\"2020-12-14T00:00:00\",\"2020-12-15T00:00:00\",\"2020-12-16T00:00:00\",\"2020-12-17T00:00:00\",\"2020-12-18T00:00:00\",\"2020-12-19T00:00:00\",\"2020-12-20T00:00:00\",\"2020-12-21T00:00:00\",\"2020-12-22T00:00:00\",\"2020-12-23T00:00:00\",\"2020-12-24T00:00:00\",\"2020-12-25T00:00:00\",\"2020-12-26T00:00:00\",\"2020-12-27T00:00:00\",\"2020-12-28T00:00:00\",\"2020-12-29T00:00:00\",\"2020-12-30T00:00:00\",\"2020-12-31T00:00:00\",\"2021-01-01T00:00:00\",\"2021-01-02T00:00:00\",\"2021-01-03T00:00:00\",\"2021-01-04T00:00:00\",\"2021-01-05T00:00:00\",\"2021-01-06T00:00:00\",\"2021-01-07T00:00:00\",\"2021-01-08T00:00:00\",\"2021-01-09T00:00:00\",\"2021-01-10T00:00:00\",\"2021-01-11T00:00:00\",\"2021-01-12T00:00:00\",\"2021-01-13T00:00:00\",\"2021-01-14T00:00:00\",\"2021-01-15T00:00:00\",\"2021-01-16T00:00:00\",\"2021-01-17T00:00:00\",\"2021-01-18T00:00:00\",\"2021-01-19T00:00:00\",\"2021-01-20T00:00:00\",\"2021-01-21T00:00:00\",\"2021-01-22T00:00:00\",\"2021-01-23T00:00:00\",\"2021-01-24T00:00:00\",\"2021-01-25T00:00:00\",\"2021-01-26T00:00:00\",\"2021-01-27T00:00:00\",\"2021-01-28T00:00:00\",\"2021-01-29T00:00:00\",\"2021-01-30T00:00:00\",\"2021-01-31T00:00:00\",\"2021-02-01T00:00:00\",\"2021-02-02T00:00:00\",\"2021-02-03T00:00:00\",\"2021-02-04T00:00:00\",\"2021-02-05T00:00:00\",\"2021-02-06T00:00:00\",\"2021-02-07T00:00:00\",\"2021-02-08T00:00:00\",\"2021-02-09T00:00:00\",\"2021-02-10T00:00:00\",\"2021-02-11T00:00:00\",\"2021-02-12T00:00:00\",\"2021-02-13T00:00:00\",\"2021-02-14T00:00:00\",\"2021-02-15T00:00:00\",\"2021-02-16T00:00:00\",\"2021-02-17T00:00:00\",\"2021-02-18T00:00:00\",\"2021-02-19T00:00:00\",\"2021-02-20T00:00:00\",\"2021-02-21T00:00:00\",\"2021-02-22T00:00:00\",\"2021-02-23T00:00:00\",\"2021-02-24T00:00:00\",\"2021-02-25T00:00:00\",\"2021-02-26T00:00:00\",\"2021-02-27T00:00:00\",\"2021-02-28T00:00:00\",\"2021-03-01T00:00:00\",\"2021-03-02T00:00:00\",\"2021-03-03T00:00:00\",\"2021-03-04T00:00:00\",\"2021-03-05T00:00:00\",\"2021-03-06T00:00:00\",\"2021-03-07T00:00:00\",\"2021-03-08T00:00:00\",\"2021-03-09T00:00:00\",\"2021-03-10T00:00:00\",\"2021-03-11T00:00:00\",\"2021-03-12T00:00:00\",\"2021-03-13T00:00:00\",\"2021-03-14T00:00:00\",\"2021-03-15T00:00:00\",\"2021-03-16T00:00:00\",\"2021-03-17T00:00:00\",\"2021-03-18T00:00:00\",\"2021-03-19T00:00:00\",\"2021-03-20T00:00:00\",\"2021-03-21T00:00:00\",\"2021-03-22T00:00:00\",\"2021-03-23T00:00:00\",\"2021-03-24T00:00:00\",\"2021-03-25T00:00:00\",\"2021-03-26T00:00:00\",\"2021-03-27T00:00:00\",\"2021-03-28T00:00:00\",\"2021-03-29T00:00:00\",\"2021-03-30T00:00:00\",\"2021-03-31T00:00:00\",\"2021-04-01T00:00:00\",\"2021-04-02T00:00:00\",\"2021-04-03T00:00:00\",\"2021-04-04T00:00:00\",\"2021-04-05T00:00:00\",\"2021-04-06T00:00:00\",\"2021-04-07T00:00:00\",\"2021-04-08T00:00:00\",\"2021-04-09T00:00:00\",\"2021-04-10T00:00:00\",\"2021-04-11T00:00:00\",\"2021-04-12T00:00:00\",\"2021-04-13T00:00:00\",\"2021-04-14T00:00:00\",\"2021-04-15T00:00:00\",\"2021-04-16T00:00:00\",\"2021-04-17T00:00:00\",\"2021-04-18T00:00:00\",\"2021-04-19T00:00:00\",\"2021-04-20T00:00:00\",\"2021-04-21T00:00:00\",\"2021-04-22T00:00:00\",\"2021-04-23T00:00:00\",\"2021-04-24T00:00:00\",\"2021-04-25T00:00:00\",\"2021-04-26T00:00:00\",\"2021-04-27T00:00:00\",\"2021-04-28T00:00:00\",\"2021-04-29T00:00:00\",\"2021-04-30T00:00:00\",\"2021-05-01T00:00:00\",\"2021-05-02T00:00:00\",\"2021-05-03T00:00:00\",\"2021-05-04T00:00:00\",\"2021-05-05T00:00:00\",\"2021-05-06T00:00:00\",\"2021-05-07T00:00:00\",\"2021-05-08T00:00:00\",\"2021-05-09T00:00:00\",\"2021-05-10T00:00:00\",\"2021-05-11T00:00:00\",\"2021-05-12T00:00:00\",\"2021-05-13T00:00:00\",\"2021-05-14T00:00:00\",\"2021-05-15T00:00:00\",\"2021-05-16T00:00:00\",\"2021-05-17T00:00:00\",\"2021-05-18T00:00:00\",\"2021-05-19T00:00:00\",\"2021-05-20T00:00:00\",\"2021-05-21T00:00:00\",\"2021-05-22T00:00:00\",\"2021-05-23T00:00:00\",\"2021-05-24T00:00:00\",\"2021-05-25T00:00:00\",\"2021-05-26T00:00:00\",\"2021-05-27T00:00:00\",\"2021-05-28T00:00:00\",\"2021-05-29T00:00:00\",\"2021-05-30T00:00:00\",\"2021-05-31T00:00:00\",\"2021-06-01T00:00:00\",\"2021-06-02T00:00:00\",\"2021-06-03T00:00:00\",\"2021-06-04T00:00:00\",\"2021-06-05T00:00:00\",\"2021-06-06T00:00:00\",\"2021-06-07T00:00:00\",\"2021-06-08T00:00:00\",\"2021-06-09T00:00:00\",\"2021-06-10T00:00:00\",\"2021-06-11T00:00:00\",\"2021-06-12T00:00:00\",\"2021-06-13T00:00:00\",\"2021-06-14T00:00:00\",\"2021-06-15T00:00:00\",\"2021-06-16T00:00:00\",\"2021-06-17T00:00:00\",\"2021-06-18T00:00:00\",\"2021-06-19T00:00:00\",\"2021-06-20T00:00:00\",\"2021-06-21T00:00:00\",\"2021-06-22T00:00:00\",\"2021-06-23T00:00:00\",\"2021-06-24T00:00:00\",\"2021-06-25T00:00:00\",\"2021-06-26T00:00:00\",\"2021-06-27T00:00:00\",\"2021-06-28T00:00:00\",\"2021-06-29T00:00:00\",\"2021-06-30T00:00:00\",\"2021-07-01T00:00:00\",\"2021-07-02T00:00:00\",\"2021-07-03T00:00:00\",\"2021-07-04T00:00:00\",\"2021-07-05T00:00:00\",\"2021-07-06T00:00:00\",\"2021-07-07T00:00:00\",\"2021-07-08T00:00:00\",\"2021-07-09T00:00:00\",\"2021-07-10T00:00:00\",\"2021-07-11T00:00:00\",\"2021-07-12T00:00:00\",\"2021-07-13T00:00:00\",\"2021-07-14T00:00:00\",\"2021-07-15T00:00:00\",\"2021-07-16T00:00:00\",\"2021-07-17T00:00:00\",\"2021-07-18T00:00:00\",\"2021-07-19T00:00:00\",\"2021-07-20T00:00:00\",\"2021-07-21T00:00:00\",\"2021-07-22T00:00:00\",\"2021-07-23T00:00:00\",\"2021-07-24T00:00:00\",\"2021-07-25T00:00:00\",\"2021-07-26T00:00:00\",\"2021-07-27T00:00:00\",\"2021-07-28T00:00:00\",\"2021-07-29T00:00:00\",\"2021-07-30T00:00:00\",\"2021-07-31T00:00:00\",\"2021-08-01T00:00:00\",\"2021-08-02T00:00:00\",\"2021-08-03T00:00:00\",\"2021-08-04T00:00:00\",\"2021-08-05T00:00:00\",\"2021-08-06T00:00:00\",\"2021-08-07T00:00:00\",\"2021-08-08T00:00:00\",\"2021-08-09T00:00:00\",\"2021-08-10T00:00:00\",\"2021-08-11T00:00:00\",\"2021-08-12T00:00:00\",\"2021-08-13T00:00:00\",\"2021-08-14T00:00:00\",\"2021-08-15T00:00:00\",\"2021-08-16T00:00:00\",\"2021-08-17T00:00:00\",\"2021-08-18T00:00:00\",\"2021-08-19T00:00:00\",\"2021-08-20T00:00:00\",\"2021-08-21T00:00:00\",\"2021-08-22T00:00:00\",\"2021-08-23T00:00:00\",\"2021-08-24T00:00:00\",\"2021-08-25T00:00:00\",\"2021-08-26T00:00:00\",\"2021-08-27T00:00:00\",\"2021-08-28T00:00:00\",\"2021-08-29T00:00:00\",\"2021-08-30T00:00:00\",\"2021-08-31T00:00:00\",\"2021-09-01T00:00:00\",\"2021-09-02T00:00:00\",\"2021-09-03T00:00:00\",\"2021-09-04T00:00:00\",\"2021-09-05T00:00:00\",\"2021-09-06T00:00:00\",\"2021-09-07T00:00:00\",\"2021-09-08T00:00:00\",\"2021-09-09T00:00:00\",\"2021-09-10T00:00:00\",\"2021-09-11T00:00:00\",\"2021-09-12T00:00:00\",\"2021-09-13T00:00:00\",\"2021-09-14T00:00:00\",\"2021-09-15T00:00:00\",\"2021-09-16T00:00:00\",\"2021-09-17T00:00:00\",\"2021-09-18T00:00:00\",\"2021-09-19T00:00:00\",\"2021-09-20T00:00:00\",\"2021-09-21T00:00:00\",\"2021-09-22T00:00:00\",\"2021-09-23T00:00:00\",\"2021-09-24T00:00:00\",\"2021-09-25T00:00:00\",\"2021-09-26T00:00:00\",\"2021-09-27T00:00:00\",\"2021-09-28T00:00:00\",\"2021-09-29T00:00:00\",\"2021-09-30T00:00:00\",\"2021-10-01T00:00:00\",\"2021-10-02T00:00:00\",\"2021-10-03T00:00:00\",\"2021-10-04T00:00:00\",\"2021-10-05T00:00:00\",\"2021-10-06T00:00:00\",\"2021-10-07T00:00:00\",\"2021-10-08T00:00:00\",\"2021-10-09T00:00:00\",\"2021-10-10T00:00:00\",\"2021-10-11T00:00:00\",\"2021-10-12T00:00:00\",\"2021-10-13T00:00:00\",\"2021-10-14T00:00:00\",\"2021-10-15T00:00:00\",\"2021-10-16T00:00:00\",\"2021-10-17T00:00:00\",\"2021-10-18T00:00:00\",\"2021-10-19T00:00:00\",\"2021-10-20T00:00:00\",\"2021-10-21T00:00:00\",\"2021-10-22T00:00:00\",\"2021-10-23T00:00:00\",\"2021-10-24T00:00:00\",\"2021-10-25T00:00:00\",\"2021-10-26T00:00:00\",\"2021-10-27T00:00:00\",\"2021-10-28T00:00:00\",\"2021-10-29T00:00:00\",\"2021-10-30T00:00:00\",\"2021-10-31T00:00:00\",\"2021-11-01T00:00:00\",\"2021-11-02T00:00:00\",\"2021-11-03T00:00:00\",\"2021-11-04T00:00:00\",\"2021-11-05T00:00:00\",\"2021-11-06T00:00:00\",\"2021-11-07T00:00:00\",\"2021-11-08T00:00:00\",\"2021-11-09T00:00:00\",\"2021-11-10T00:00:00\",\"2021-11-11T00:00:00\",\"2021-11-12T00:00:00\",\"2021-11-13T00:00:00\",\"2021-11-14T00:00:00\",\"2021-11-15T00:00:00\",\"2021-11-16T00:00:00\",\"2021-11-17T00:00:00\",\"2021-11-18T00:00:00\",\"2021-11-19T00:00:00\",\"2021-11-20T00:00:00\",\"2021-11-21T00:00:00\",\"2021-11-22T00:00:00\",\"2021-11-23T00:00:00\",\"2021-11-24T00:00:00\",\"2021-11-25T00:00:00\",\"2021-11-26T00:00:00\",\"2021-11-27T00:00:00\",\"2021-11-28T00:00:00\",\"2021-11-29T00:00:00\",\"2021-11-30T00:00:00\",\"2021-12-01T00:00:00\",\"2021-12-02T00:00:00\",\"2021-12-03T00:00:00\",\"2021-12-04T00:00:00\",\"2021-12-05T00:00:00\",\"2021-12-06T00:00:00\",\"2021-12-07T00:00:00\",\"2021-12-08T00:00:00\",\"2021-12-09T00:00:00\",\"2021-12-10T00:00:00\",\"2021-12-11T00:00:00\",\"2021-12-12T00:00:00\",\"2021-12-13T00:00:00\",\"2021-12-14T00:00:00\",\"2021-12-15T00:00:00\",\"2021-12-16T00:00:00\",\"2021-12-17T00:00:00\",\"2021-12-18T00:00:00\",\"2021-12-19T00:00:00\",\"2021-12-20T00:00:00\",\"2021-12-21T00:00:00\",\"2021-12-22T00:00:00\",\"2021-12-23T00:00:00\",\"2021-12-24T00:00:00\",\"2021-12-25T00:00:00\",\"2021-12-26T00:00:00\",\"2021-12-27T00:00:00\",\"2021-12-28T00:00:00\",\"2021-12-29T00:00:00\",\"2021-12-30T00:00:00\",\"2021-12-31T00:00:00\",\"2022-01-01T00:00:00\",\"2022-01-02T00:00:00\",\"2022-01-03T00:00:00\",\"2022-01-04T00:00:00\",\"2022-01-05T00:00:00\",\"2022-01-06T00:00:00\",\"2022-01-07T00:00:00\",\"2022-01-08T00:00:00\",\"2022-01-09T00:00:00\",\"2022-01-10T00:00:00\",\"2022-01-11T00:00:00\",\"2022-01-12T00:00:00\",\"2022-01-13T00:00:00\",\"2022-01-14T00:00:00\",\"2022-01-15T00:00:00\",\"2022-01-16T00:00:00\",\"2022-01-17T00:00:00\",\"2022-01-18T00:00:00\",\"2022-01-19T00:00:00\",\"2022-01-20T00:00:00\",\"2022-01-21T00:00:00\",\"2022-01-22T00:00:00\",\"2022-01-23T00:00:00\",\"2022-01-24T00:00:00\",\"2022-01-25T00:00:00\",\"2022-01-26T00:00:00\",\"2022-01-27T00:00:00\",\"2022-01-28T00:00:00\",\"2022-01-29T00:00:00\",\"2022-01-30T00:00:00\",\"2022-01-31T00:00:00\",\"2022-02-01T00:00:00\",\"2022-02-02T00:00:00\",\"2022-02-03T00:00:00\",\"2022-02-04T00:00:00\",\"2022-02-05T00:00:00\",\"2022-02-06T00:00:00\",\"2022-02-07T00:00:00\",\"2022-02-08T00:00:00\",\"2022-02-09T00:00:00\",\"2022-02-10T00:00:00\",\"2022-02-11T00:00:00\",\"2022-02-12T00:00:00\",\"2022-02-13T00:00:00\",\"2022-02-14T00:00:00\",\"2022-02-15T00:00:00\",\"2022-02-16T00:00:00\",\"2022-02-17T00:00:00\",\"2022-02-18T00:00:00\",\"2022-02-19T00:00:00\",\"2022-02-20T00:00:00\",\"2022-02-21T00:00:00\",\"2022-02-22T00:00:00\",\"2022-02-23T00:00:00\",\"2022-02-24T00:00:00\",\"2022-02-25T00:00:00\",\"2022-02-26T00:00:00\",\"2022-02-27T00:00:00\",\"2022-02-28T00:00:00\",\"2022-03-01T00:00:00\",\"2022-03-02T00:00:00\",\"2022-03-03T00:00:00\",\"2022-03-04T00:00:00\",\"2022-03-05T00:00:00\",\"2022-03-06T00:00:00\",\"2022-03-07T00:00:00\",\"2022-03-08T00:00:00\",\"2022-03-09T00:00:00\",\"2022-03-10T00:00:00\",\"2022-03-11T00:00:00\",\"2022-03-12T00:00:00\",\"2022-03-13T00:00:00\",\"2022-03-14T00:00:00\",\"2022-03-15T00:00:00\",\"2022-03-16T00:00:00\",\"2022-03-17T00:00:00\",\"2022-03-18T00:00:00\",\"2022-03-19T00:00:00\",\"2022-03-20T00:00:00\",\"2022-03-21T00:00:00\",\"2022-03-22T00:00:00\",\"2022-03-23T00:00:00\",\"2022-03-24T00:00:00\",\"2022-03-25T00:00:00\",\"2022-03-26T00:00:00\",\"2022-03-27T00:00:00\",\"2022-03-28T00:00:00\",\"2022-03-29T00:00:00\",\"2022-03-30T00:00:00\",\"2022-03-31T00:00:00\",\"2022-04-01T00:00:00\",\"2022-04-02T00:00:00\",\"2022-04-03T00:00:00\",\"2022-04-04T00:00:00\",\"2022-04-05T00:00:00\",\"2022-04-06T00:00:00\",\"2022-04-07T00:00:00\",\"2022-04-08T00:00:00\",\"2022-04-09T00:00:00\",\"2022-04-10T00:00:00\",\"2022-04-11T00:00:00\",\"2022-04-12T00:00:00\",\"2022-04-13T00:00:00\",\"2022-04-14T00:00:00\",\"2022-04-15T00:00:00\",\"2022-04-16T00:00:00\",\"2022-04-17T00:00:00\",\"2022-04-18T00:00:00\",\"2022-04-19T00:00:00\",\"2022-04-20T00:00:00\",\"2022-04-21T00:00:00\",\"2022-04-22T00:00:00\",\"2022-04-23T00:00:00\",\"2022-04-24T00:00:00\",\"2022-04-25T00:00:00\",\"2022-04-26T00:00:00\",\"2022-04-27T00:00:00\",\"2022-04-28T00:00:00\",\"2022-04-29T00:00:00\",\"2022-04-30T00:00:00\",\"2022-05-01T00:00:00\",\"2022-05-02T00:00:00\",\"2022-05-03T00:00:00\",\"2022-05-04T00:00:00\",\"2022-05-05T00:00:00\",\"2022-05-06T00:00:00\",\"2022-05-07T00:00:00\",\"2022-05-08T00:00:00\",\"2022-05-09T00:00:00\",\"2022-05-10T00:00:00\",\"2022-05-11T00:00:00\",\"2022-05-12T00:00:00\",\"2022-05-13T00:00:00\",\"2022-05-14T00:00:00\",\"2022-05-15T00:00:00\",\"2022-05-16T00:00:00\",\"2022-05-17T00:00:00\",\"2022-05-18T00:00:00\",\"2022-05-19T00:00:00\",\"2022-05-20T00:00:00\",\"2022-05-21T00:00:00\",\"2022-05-22T00:00:00\",\"2022-05-23T00:00:00\",\"2022-05-24T00:00:00\",\"2022-05-25T00:00:00\",\"2022-05-26T00:00:00\",\"2022-05-27T00:00:00\",\"2022-05-28T00:00:00\",\"2022-05-29T00:00:00\",\"2022-05-30T00:00:00\",\"2022-05-31T00:00:00\",\"2022-06-01T00:00:00\",\"2022-06-02T00:00:00\",\"2022-06-03T00:00:00\",\"2022-06-04T00:00:00\",\"2022-06-05T00:00:00\",\"2022-06-06T00:00:00\",\"2022-06-07T00:00:00\",\"2022-06-08T00:00:00\",\"2022-06-09T00:00:00\",\"2022-06-10T00:00:00\",\"2022-06-11T00:00:00\",\"2022-06-12T00:00:00\",\"2022-06-13T00:00:00\",\"2022-06-14T00:00:00\",\"2022-06-15T00:00:00\",\"2022-06-16T00:00:00\",\"2022-06-17T00:00:00\",\"2022-06-18T00:00:00\",\"2022-06-19T00:00:00\",\"2022-06-20T00:00:00\",\"2022-06-21T00:00:00\",\"2022-06-22T00:00:00\",\"2022-06-23T00:00:00\",\"2022-06-24T00:00:00\",\"2022-06-25T00:00:00\",\"2022-06-26T00:00:00\",\"2022-06-27T00:00:00\",\"2022-06-28T00:00:00\",\"2022-06-29T00:00:00\",\"2022-06-30T00:00:00\",\"2022-07-01T00:00:00\",\"2022-07-02T00:00:00\",\"2022-07-03T00:00:00\",\"2022-07-04T00:00:00\",\"2022-07-05T00:00:00\",\"2022-07-06T00:00:00\",\"2022-07-07T00:00:00\",\"2022-07-08T00:00:00\",\"2022-07-09T00:00:00\",\"2022-07-10T00:00:00\",\"2022-07-11T00:00:00\",\"2022-07-12T00:00:00\",\"2022-07-13T00:00:00\",\"2022-07-14T00:00:00\",\"2022-07-15T00:00:00\",\"2022-07-16T00:00:00\",\"2022-07-17T00:00:00\",\"2022-07-18T00:00:00\",\"2022-07-19T00:00:00\",\"2022-07-20T00:00:00\",\"2022-07-21T00:00:00\",\"2022-07-22T00:00:00\",\"2022-07-23T00:00:00\",\"2022-07-24T00:00:00\",\"2022-07-25T00:00:00\",\"2022-07-26T00:00:00\",\"2022-07-27T00:00:00\",\"2022-07-28T00:00:00\",\"2022-07-29T00:00:00\",\"2022-07-30T00:00:00\",\"2022-07-31T00:00:00\",\"2022-08-01T00:00:00\",\"2022-08-02T00:00:00\",\"2022-08-03T00:00:00\",\"2022-08-04T00:00:00\",\"2022-08-05T00:00:00\",\"2022-08-06T00:00:00\",\"2022-08-07T00:00:00\",\"2022-08-08T00:00:00\",\"2022-08-09T00:00:00\",\"2022-08-10T00:00:00\",\"2022-08-11T00:00:00\",\"2022-08-12T00:00:00\",\"2022-08-13T00:00:00\",\"2022-08-14T00:00:00\",\"2022-08-15T00:00:00\",\"2022-08-16T00:00:00\",\"2022-08-17T00:00:00\",\"2022-08-18T00:00:00\",\"2022-08-19T00:00:00\",\"2022-08-20T00:00:00\",\"2022-08-21T00:00:00\",\"2022-08-22T00:00:00\",\"2022-08-23T00:00:00\",\"2022-08-24T00:00:00\",\"2022-08-25T00:00:00\",\"2022-08-26T00:00:00\",\"2022-08-27T00:00:00\",\"2022-08-28T00:00:00\",\"2022-08-29T00:00:00\",\"2022-08-30T00:00:00\",\"2022-08-31T00:00:00\",\"2022-09-01T00:00:00\",\"2022-09-02T00:00:00\",\"2022-09-03T00:00:00\",\"2022-09-04T00:00:00\",\"2022-09-05T00:00:00\",\"2022-09-06T00:00:00\",\"2022-09-07T00:00:00\",\"2022-09-08T00:00:00\",\"2022-09-09T00:00:00\",\"2022-09-10T00:00:00\",\"2022-09-11T00:00:00\",\"2022-09-12T00:00:00\",\"2022-09-13T00:00:00\",\"2022-09-14T00:00:00\",\"2022-09-15T00:00:00\",\"2022-09-16T00:00:00\",\"2022-09-17T00:00:00\",\"2022-09-18T00:00:00\",\"2022-09-19T00:00:00\",\"2022-09-20T00:00:00\",\"2022-09-21T00:00:00\",\"2022-09-22T00:00:00\",\"2022-09-23T00:00:00\",\"2022-09-24T00:00:00\",\"2022-09-25T00:00:00\",\"2022-09-26T00:00:00\",\"2022-09-27T00:00:00\",\"2022-09-28T00:00:00\",\"2022-09-29T00:00:00\",\"2022-09-30T00:00:00\",\"2022-10-01T00:00:00\",\"2022-10-02T00:00:00\",\"2022-10-03T00:00:00\",\"2022-10-04T00:00:00\",\"2022-10-05T00:00:00\",\"2022-10-06T00:00:00\",\"2022-10-07T00:00:00\",\"2022-10-08T00:00:00\",\"2022-10-09T00:00:00\",\"2022-10-10T00:00:00\",\"2022-10-11T00:00:00\",\"2022-10-12T00:00:00\",\"2022-10-13T00:00:00\",\"2022-10-14T00:00:00\",\"2022-10-15T00:00:00\",\"2022-10-16T00:00:00\",\"2022-10-17T00:00:00\",\"2022-10-18T00:00:00\"],\"y\":[4.0,2.0,1.0,0.0,1.0,0.0,0.0,0.0,0.0,1.0,1.0,3.0,4.0,2.0,0.0,0.0,1.0,0.0,0.0,0.0,0.0,2.0,1.0,1.0,0.0,0.0,2.0,5.0,3.0,1.0,5.0,8.0,0.0,4.0,4.0,8.0,5.0,4.0,9.0,18.0,35.0,51.0,70.0,78.0,130.0,146.0,212.0,390.0,497.0,525.0,727.0,968.0,1219.0,2139.0,2372.0,3229.0,4866.0,6117.0,7564.0,9110.0,10790.0,10757.0,11332.0,14123.0,18485.0,20356.0,20688.0,26199.0,15573.0,23290.0,28689.0,29892.0,32090.0,32161.0,27005.0,28658.0,29411.0,34225.0,34807.0,33191.0,31560.0,27094.0,25267.0,25281.0,25248.0,31550.0,30351.0,28291.0,26070.0,26449.0,25941.0,30490.0,33247.0,34809.0,33611.0,26066.0,23786.0,23948.0,26799.0,31241.0,33093.0,28297.0,25928.0,22336.0,22894.0,25472.0,28564.0,28857.0,25919.0,20659.0,19971.0,23917.0,17343.0,34743.0,26638.0,26083.0,19922.0,22752.0,21944.0,23562.0,26204.0,25985.0,21480.0,20652.0,19390.0,17522.0,19532.0,24197.0,23760.0,24128.0,21470.0,17192.0,20985.0,20735.0,20895.0,24512.0,23294.0,18459.0,18157.0,18631.0,22213.0,22917.0,28345.0,26446.0,20790.0,20596.0,24788.0,25869.0,28539.0,33144.0,33467.0,27347.0,28733.0,37895.0,37388.0,47056.0,46569.0,43702.0,37613.0,38559.0,47312.0,59407.0,55655.0,60439.0,49062.0,40454.0,50835.0,56900.0,64799.0,62046.0,68753.0,68600.0,58831.0,56397.0,64708.0,72641.0,69558.0,77215.0,67325.0,60291.0,58628.0,63578.0,72718.0,73428.0,73413.0,61782.0,57964.0,54136.0,58977.0,64968.0,66739.0,68792.0,56429.0,51171.0,45623.0,52244.0,56068.0,53608.0,62912.0,52069.0,46830.0,43941.0,59196.0,54854.0,51939.0,56467.0,51589.0,42168.0,41727.0,41815.0,47034.0,46699.0,47437.0,43002.0,36464.0,35826.0,41049.0,46991.0,47201.0,46822.0,41254.0,36751.0,39110.0,39315.0,42108.0,45492.0,51420.0,41248.0,34248.0,24877.0,28621.0,34944.0,38884.0,44271.0,40593.0,33142.0,34476.0,37263.0,44513.0,45299.0,48439.0,42544.0,34507.0,41478.0,50339.0,42418.0,46286.0,50151.0,43115.0,35552.0,38758.0,39113.0,46297.0,47003.0,51005.0,48080.0,36004.0,41822.0,42074.0,52991.0,56391.0,59001.0,54467.0,44746.0,49677.0,51010.0,57537.0,63298.0,69500.0,54959.0,49325.0,61840.0,58987.0,69925.0,75185.0,83035.0,76638.0,66046.0,69724.0,75759.0,85033.0,91577.0,97941.0,93744.0,74482.0,87263.0,99004.0,114777.0,123547.0,133933.0,130314.0,111932.0,125155.0,147587.0,154329.0,163196.0,177837.0,164801.0,138135.0,153749.0,167880.0,171840.0,189763.0,195092.0,174691.0,150140.0,160625.0,175679.0,195859.0,146003.0,164201.0,145380.0,141969.0,152340.0,193157.0,210640.0,217689.0,225036.0,206518.0,177711.0,183812.0,227492.0,222969.0,209601.0,246677.0,217694.0,181754.0,198496.0,199742.0,241777.0,247697.0,237010.0,202719.0,187459.0,184179.0,198104.0,226839.0,203603.0,162209.0,147493.0,156230.0,176900.0,209343.0,236587.0,230301.0,228797.0,225940.0,205900.0,174619.0,242762.0,259535.0,270351.0,292558.0,256654.0,225488.0,204380.0,217988.0,227568.0,224151.0,238143.0,210088.0,187026.0,154394.0,149895.0,188801.0,188478.0,190409.0,166075.0,142029.0,135794.0,146258.0,159441.0,157258.0,164465.0,139439.0,112243.0,129177.0,121667.0,108760.0,122936.0,125303.0,110497.0,93188.0,80844.0,91575.0,98660.0,99962.0,97716.0,85439.0,67806.0,58184.0,56951.0,63927.0,68798.0,73844.0,65681.0,56874.0,55884.0,70265.0,72642.0,72208.0,73541.0,68596.0,52715.0,51169.0,53918.0,66259.0,65143.0,64453.0,57901.0,43894.0,42787.0,53272.0,62129.0,59933.0,64466.0,52486.0,47459.0,43606.0,51879.0,59973.0,63335.0,62379.0,58761.0,45485.0,48382.0,57803.0,68292.0,65778.0,75107.0,63832.0,53706.0,58186.0,62147.0,70072.0,74492.0,71088.0,64122.0,45929.0,56612.0,64116.0,75704.0,76869.0,77339.0,69216.0,54331.0,61441.0,72666.0,71771.0,73119.0,72182.0,78527.0,50423.0,35819.0,57839.0,64239.0,62558.0,63423.0,52424.0,41669.0,39539.0,50602.0,55199.0,56187.0,55935.0,48838.0,37050.0,33169.0,42713.0,45085.0,43236.0,45050.0,37308.0,27725.0,24445.0,33199.0,36108.0,40684.0,35362.0,30113.0,21528.0,19491.0,27748.0,27713.0,28207.0,28034.0,22475.0,16127.0,14808.0,24712.0,23679.0,22129.0,24892.0,15747.0,12424.0,9433.0,8994.0,16201.0,18266.0,18672.0,14827.0,11159.0,9917.0,14379.0,19288.0,16023.0,14032.0,12424.0,8768.0,8302.0,12672.0,13331.0,13581.0,12029.0,12405.0,9087.0,8593.0,13349.0,13921.0,15638.0,15027.0,13359.0,10701.0,10450.0,15562.0,11737.0,18673.0,16958.0,13279.0,10570.0,9167.0,20007.0,22763.0,27890.0,27697.0,21048.0,16832.0,28937.0,35128.0,38410.0,40666.0,42433.0,32326.0,28147.0,45032.0,51118.0,61607.0,71759.0,69687.0,54109.0,43479.0,71352.0,85886.0,89553.0,99666.0,104997.0,81153.0,61818.0,102600.0,110382.0,127740.0,128679.0,126668.0,121077.0,97569.0,93338.0,135868.0,144401.0,152321.0,147259.0,140987.0,111336.0,109245.0,150548.0,167627.0,175576.0,167583.0,142331.0,125276.0,121099.0,163117.0,177905.0,187201.0,182957.0,150468.0,116173.0,138982.0,177050.0,198032.0,184116.0,182637.0,142158.0,123213.0,115873.0,115287.0,170481.0,184210.0,172315.0,153580.0,114226.0,119100.0,162007.0,162945.0,167408.0,158430.0,122389.0,94890.0,98596.0,132857.0,132581.0,137245.0,132747.0,95840.0,75325.0,107419.0,115455.0,116274.0,123534.0,120247.0,81810.0,66653.0,92025.0,101879.0,108039.0,112541.0,108137.0,70136.0,58574.0,78083.0,89300.0,95773.0,96737.0,91790.0,62398.0,47740.0,72480.0,80323.0,76229.0,87440.0,80728.0,35840.0,28148.0,84600.0,101743.0,83983.0,81512.0,88491.0,34476.0,25441.0,109938.0,74147.0,78926.0,88843.0,89878.0,35671.0,31580.0,116514.0,82891.0,92148.0,73696.0,123162.0,53943.0,33654.0,133717.0,97054.0,105937.0,113437.0,113986.0,46124.0,38395.0,145459.0,101080.0,106544.0,72688.0,81880.0,51872.0,56500.0,93506.0,120586.0,133479.0,144157.0,151840.0,67395.0,55491.0,184151.0,125807.0,129899.0,137930.0,135721.0,64235.0,58260.0,185888.0,123975.0,146221.0,162491.0,156884.0,89395.0,105050.0,269561.0,206610.0,243706.0,278395.0,241673.0,133112.0,218176.0,467684.0,398015.0,489045.0,599917.0,472616.0,303447.0,417041.0,909479.0,740952.0,718131.0,812155.0,860046.0,449267.0,495438.0,1272910.0,815969.0,867965.0,906303.0,852258.0,475174.0,424504.0,975585.0,861650.0,785759.0,777347.0,782145.0,334970.0,319459.0,1014475.0,498670.0,547988.0,574324.0,527272.0,224014.0,160470.0,578684.0,299127.0,306372.0,352871.0,269188.0,105948.0,99179.0,296342.0,199434.0,197394.0,168533.0,155878.0,68965.0,49176.0,175386.0,109547.0,106722.0,101192.0,103979.0,41742.0,32103.0,49224.0,115851.0,74533.0,75351.0,74844.0,26258.0,18393.0,72581.0,42371.0,53272.0,52473.0,42650.0,14713.0,9178.0,55712.0,30456.0,45723.0,39962.0,37250.0,12370.0,9501.0,38772.0,25109.0,38434.0,33559.0,30585.0,10109.0,10658.0,39265.0,24948.0,36418.0,33352.0,28036.0,10042.0,11067.0,32939.0,22216.0,39640.0,35290.0,27625.0,10588.0,11897.0,27625.0,33442.0,43188.0,34286.0,41863.0,14391.0,18732.0,35310.0,28533.0,47029.0,64006.0,44394.0,16830.0,23582.0,37438.0,53845.0,59796.0,53638.0,72313.0,27465.0,25273.0,50887.0,65319.0,79483.0,65199.0,86040.0,31122.0,32069.0,65781.0,73656.0,105234.0,85754.0,102547.0,33111.0,31883.0,109420.0,101081.0,132947.0,105276.0,121437.0,33421.0,53986.0,118537.0,130330.0,150530.0,116655.0,157363.0,41409.0,49291.0,113825.0,134250.0,160792.0,118981.0,153426.0,41374.0,39596.0,58076.0,157327.0,143495.0,114919.0,147195.0,52656.0,47805.0,102436.0,153112.0,148488.0,112828.0,151638.0,40611.0,42739.0,93722.0,138786.0,147775.0,101527.0,129554.0,38732.0,41903.0,54395.0,187290.0,136135.0,107966.0,167956.0,48251.0,48043.0,98159.0,156022.0,152660.0,118056.0,173430.0,51724.0,47838.0,46368.0,170071.0,146186.0,120801.0,180965.0,58077.0,60712.0,115392.0,184860.0,158863.0,142069.0,187986.0,58184.0,60485.0,103321.0,180463.0,162559.0,152154.0,185922.0,56255.0,58651.0,109117.0,169294.0,164144.0,148580.0,172037.0,41657.0,42017.0,121151.0,162515.0,154292.0,135479.0,154085.0,36603.0,37206.0,100746.0,138251.0,141639.0,129224.0,140204.0,33412.0,25017.0,102129.0,128940.0,124013.0,118900.0,130117.0,31178.0,30921.0,83918.0,116680.0,136348.0,113643.0,118322.0,31529.0,29295.0,80580.0,117087.0,123127.0,106620.0,107473.0,26767.0,26644.0,23677.0,119537.0,93090.0,87299.0,84169.0,22131.0,23682.0,59050.0,58434.0,91058.0,99567.0,62739.0,17965.0,20540.0,44867.0,49646.0,84306.0,99616.0,53686.0,17655.0,16980.0,38185.0,40721.0,67106.0,93076.0,49011.0,12973.0,14561.0,34350.0,40811.0,64910.0,81587.0,42594.0,12172.0,14023.0,25748.0,38730.0,60141.0,75865.0,36446.0,8417.0,14591.0,31698.0,32211.0],\"type\":\"scatter\",\"xaxis\":\"x\",\"yaxis\":\"y\"},{\"hovertemplate\":\"%{y}<br><br>Daily Mortality Rate: %{text:.2%} <br>\",\"line\":{\"color\":\"blue\"},\"name\":\"7 day MA Cases\",\"text\":[null,null,null,null,null,null,0.0,0.0,0.0,0.0,0.0,0.0,0.0,0.0,0.0,0.0,0.0,0.0,0.0,0.0,0.0,0.0,0.0,0.0,0.0,0.0,0.0,0.0,0.0,0.0,0.0,0.0,0.0,0.0,0.0,0.0,0.029411764705882353,0.0303030303030303,0.058823529411764705,0.03846153846153846,0.09638554216867469,0.0846153846153846,0.06770833333333334,0.05660377358490566,0.046035805626598474,0.041666666666666664,0.036011080332409975,0.02228412256267409,0.018384766907419567,0.019211324570273004,0.015987818804720215,0.01443001443001443,0.012780960775672102,0.011136890951276103,0.010536285071623061,0.009839878343322301,0.010438144329896907,0.010712577714012433,0.011088489784047115,0.011413396615532392,0.0114647657101344,0.012377701066122479,0.0137108497423021,0.015288066138437952,0.016297269994279523,0.018261666298063254,0.020444753170438652,0.02234705592914548,0.025182239893969515,0.028591202041610798,0.031236951983298535,0.03497543825560002,0.03771093010469275,0.040655901731827516,0.046889242183359825,0.04910672250167258,0.05303839235038912,0.05681637166068534,0.059773673388075495,0.06340620984425266,0.06656401211750139,0.06645474226521608,0.06849759922061655,0.0714295849592054,0.07712597802892594,0.07942627929976757,0.0810691058359774,0.08064967216001491,0.08179300003124057,0.08217760298074932,0.08312016503352244,0.07839129867129989,0.07547338913258879,0.07268981037228989,0.0710578918131015,0.06888938479581033,0.06693916806924742,0.06487762008574605,0.06699099205996065,0.06890042944172575,0.06873539366588766,0.06917145370801635,0.06857352971640462,0.06796005051084836,0.07001490125296451,0.07010424757345676,0.0700274407237491,0.0700528659486257,0.07032283158304162,0.070503317096067,0.07010142976511001,0.06449045045252914,0.0626339042546753,0.05982766365826765,0.059950351675630946,0.058398384449142034,0.057787767544197795,0.056325044632959544,0.05487383798140771,0.052162328345972536,0.04967535381945483,0.05143825246918031,0.05104140278901939,0.0499572515515534,0.04937914921145355,0.04842533673568268,0.04912280701754387,0.05092835343309267,0.04651511946114527,0.04548836648098619,0.04447362982419883,0.045189139451018594,0.04495451660672731,0.04287485160723304,0.04137029464016358,0.039995464156833443,0.03860936525291281,0.03885754970151706,0.03915341036609833,0.03906471389174955,0.03772552185603546,0.03721749458439902,0.03535812019787391,0.03474298824499897,0.033568467101378424,0.03148720129050007,0.02938679671272465,0.027575684384775343,0.02529465767250375,0.02473747308127789,0.023227364271099882,0.022049032258064517,0.02061549282519429,0.01969822413648753,0.018736231474573206,0.01758968289597192,0.01648255982666228,0.01592169414566973,0.015428956537948638,0.015063265716007232,0.014302529518878334,0.013596987052570435,0.013229243013591145,0.012997283235138771,0.012639097593141156,0.012599461936572352,0.012553557070634755,0.012949628707558912,0.013553037996107303,0.013998725733678339,0.014104655987415012,0.014285125379801011,0.01455553388862579,0.014677099233142192,0.014389801276191421,0.014241906649910615,0.014289818232467442,0.01427716636392777,0.014564739915358654,0.014715840516090446,0.01493092612986483,0.015563596995967911,0.01570806689778463,0.01592407165937914,0.016500454854372036,0.017005937417805355,0.017135019533662255,0.017469733205840457,0.01758108651733574,0.01785826729155235,0.018473488454925923,0.01886200323981558,0.019137626896882046,0.01937504154677455,0.019580856750319238,0.019698693979298756,0.02036689114656002,0.02057119043588107,0.02076152940709685,0.020677290303589828,0.020860746059336032,0.020801148850062016,0.02047920047834629,0.020719852173214426,0.020788667378631897,0.020424532433971358,0.02020196482610412,0.020432925915025237,0.020117896854221377,0.020654277232432558,0.02096237591625869,0.02067792573412438,0.02114177518062983,0.02190188523373413,0.022144928298562027,0.022405348048961198,0.02229833518760651,0.02161577043581158,0.021391415243145282,0.021506280371945987,0.021068513262541142,0.020639147802929428,0.020308979938364453,0.02032987722058606,0.020053937469450812,0.02019583843329253,0.019471991876798107,0.01935053681916031,0.019423706480144468,0.01992049026220991,0.01962210929279814,0.01995399654974123,0.020063561488660408,0.02044574310077582,0.019927933192121345,0.020152283436323023,0.019197351440193623,0.01954676692984486,0.019868786199119873,0.019019377085889463,0.01851440655564367,0.01842996961592853,0.017513177560000138,0.017677686596858283,0.01641383307447602,0.01586104699958036,0.01583929989444824,0.015673186599636686,0.01561172127903884,0.01562686890434119,0.015351299169327409,0.01637479561127041,0.015427437247721137,0.015373897042891573,0.015755726408791297,0.015176188981321613,0.01548684124600013,0.015650256688779403,0.015008726003490402,0.014997852523206857,0.014569064491864287,0.013877864093256392,0.013957695113056163,0.013530891172487567,0.013185027285604166,0.012897690091587175,0.012858441805760817,0.012513957064908253,0.012410470613860879,0.012425555438963778,0.012673726176683378,0.01258746064117761,0.012692383607015112,0.012871814769279673,0.013019619258575324,0.012716875231657165,0.012437491446197902,0.01176025513773858,0.011718781278776475,0.011522102914516804,0.011192653644951263,0.01121917738202157,0.010905995543060645,0.010767060349347388,0.010792846700438582,0.01057281375505737,0.010399908432478492,0.010297698197295639,0.009989026547647656,0.0099828001375989,0.00970497301262904,0.009470884273886383,0.009275488814325675,0.008981735597270201,0.008828254731079191,0.008588167367861216,0.008229821349037462,0.008319000954215824,0.008248057962354347,0.008124521431676357,0.008309470170823634,0.008470791375002416,0.008779171910773579,0.009238440309500025,0.009373294715191202,0.009515814670595228,0.009779088304349228,0.00996772948605306,0.010147771588977403,0.010301404987442503,0.010311875106023143,0.010385917055032706,0.010438906769488969,0.010646218982710483,0.01091922181666841,0.011179779663514463,0.011398950199775415,0.011586745876065434,0.011706692178492729,0.01162541004171092,0.011655896556038861,0.011501844850362137,0.011792144547014254,0.01184126226052704,0.01206552841779791,0.012019198415027094,0.012289941134188681,0.01216801146819629,0.012530019980594921,0.012409902516545312,0.012509803844867481,0.012442837741196849,0.012756469508579078,0.012743415406957554,0.01297828910496787,0.013084536123740362,0.0131124718414401,0.013292469753380933,0.013480212612591493,0.013234739511682697,0.013409381874889045,0.013530201088897244,0.013767165100727652,0.014073423529730377,0.014352612422606046,0.014248898171328853,0.013990866731598568,0.013624941206314311,0.01353964671876106,0.013341264775979899,0.013200846507391631,0.01301259279160945,0.01292364199764905,0.013282588659752029,0.013428828775464339,0.01348611199912315,0.013741535674951389,0.014132851756385153,0.014386940217262752,0.014667216935570871,0.01519764104803832,0.015606780164097781,0.01594194159349522,0.016104049192641228,0.016393369897774342,0.01691340914700131,0.017782018783523007,0.018033137481858297,0.01862075569388881,0.018741589401806834,0.019513855061649064,0.02011459621935269,0.020699667536709487,0.020821976626964864,0.021119304976433065,0.02155684610670235,0.021889731136458982,0.021792434608464046,0.02226452263590169,0.022280282233970227,0.023442017393327713,0.024233580509112274,0.02416059581431571,0.02494775254030752,0.025322499021283505,0.02502617554837255,0.026021779097723095,0.025753894016138194,0.025678731633775317,0.026401844367059914,0.026929532720883904,0.026696510470712816,0.02726114890044058,0.026975608484807175,0.027984057235618982,0.028592393083343035,0.029194681480847886,0.029611344038700423,0.029437282685333858,0.028431769787149667,0.029508042396415902,0.02872434943641015,0.028110040211910384,0.02728340177438709,0.027182870129419518,0.026848685556522305,0.02704798748192315,0.024382101400052394,0.02480266570042131,0.024587056988322427,0.024805269940432587,0.02399107403228056,0.023852642433878832,0.02329180987681574,0.023092392986947437,0.021528063228767217,0.020988634894331167,0.02015517656039233,0.019825173274622996,0.019350295058619012,0.01813576547780159,0.0170353127837914,0.01648312722864632,0.015601767718486701,0.015419622332117338,0.015863903596672425,0.015376731176063696,0.01518159812282259,0.015146972080220214,0.01460648986673276,0.014742899931477657,0.014613074613074612,0.01340624887057718,0.0132155831141175,0.012773267264965643,0.012178116981610431,0.011842839282682467,0.011524570693215046,0.011534943367799907,0.011168558841925743,0.011166339255114451,0.01074186562492396,0.010791303582431125,0.010642708453171432,0.01059072318773683,0.01027020985391839,0.010532007281593933,0.010367827124943085,0.010377703754706565,0.01030667891965333,0.010361766576930692,0.009933124947059833,0.010093120807116421,0.01050368861205658,0.010844250363901018,0.01101705897053787,0.011293042717161582,0.01160289515246059,0.012445536233757838,0.012543290358254999,0.012457721036126081,0.012156366336051959,0.012626774015226565,0.012753347092131025,0.012922586792962695,0.01295230322241349,0.013318770933449834,0.013552733099887235,0.01429999604972485,0.01438975223918966,0.0147111683321025,0.01528083187357907,0.0158879592117372,0.016096337399648542,0.016353996430212153,0.016660938574017372,0.017120584771179136,0.01693937894396754,0.01718682797416014,0.016987646945122916,0.017594010088557117,0.01782571540753401,0.018281414369248555,0.018550229718859647,0.019551750612635543,0.020023627990417535,0.02069681956209046,0.02046585588503784,0.0208888512040312,0.0207248451343814,0.020810923678515836,0.021676186465215443,0.022489954442219566,0.02279476965952116,0.02316624635995115,0.023267877548565588,0.024791556548278745,0.026261154616645417,0.026539067735024586,0.026980959924601703,0.028173290020947813,0.030260783992127276,0.031049818434044637,0.02924937875286451,0.027190445788109814,0.026883422049585194,0.026288582183186953,0.02501491431980416,0.022777361833155825,0.02188465499485067,0.022325672884634294,0.023506171685057038,0.02290939718445434,0.021872341474841874,0.0224077545382794,0.023192108786713673,0.023880633552840952,0.02355083459787557,0.02326282167178931,0.02313518853943685,0.023824130879345602,0.02346752984017803,0.022519539011789644,0.02113689220617665,0.020389190559699125,0.019973181651058672,0.019066266006344954,0.01769293924466338,0.016783073130649136,0.016291435682769542,0.015675484126487817,0.015180643683198693,0.013732195266431515,0.012459174030538653,0.011524438050436544,0.010859409811559414,0.010357349178839646,0.010286122513228475,0.009623117668265898,0.009334394871951904,0.009031324562328118,0.008672925971340856,0.008405330334168327,0.00812852828931058,0.00759130547565823,0.007093754044842017,0.006733503911007569,0.006169868420260993,0.0058246866624406405,0.005678198705496528,0.005715855450350436,0.005658089721137007,0.0056259404777244644,0.005504039520403437,0.005508708820941659,0.005360245664266122,0.005353367379176026,0.005396812045253816,0.005522053852411723,0.005621615303098118,0.005670031204783571,0.005803150122182586,0.006064624377570904,0.0060824376993031766,0.006008236008911092,0.00616299150912592,0.006291677247066271,0.0060122699386503066,0.006107373152350323,0.006349843524516361,0.006491961002168374,0.006561787554969692,0.006584754683631164,0.006728396804926697,0.007469445729345681,0.007680200443257282,0.007886385988100523,0.008138669811744445,0.008229739179684566,0.008426345663022361,0.008761454119059786,0.008822923569770161,0.009076893570564456,0.009185497406094813,0.009376159159151028,0.009692243293415354,0.009613154692456952,0.009591098187375302,0.009719662548887226,0.009992350437105432,0.010120631866264386,0.010225185840645816,0.010273183805798001,0.010342994571174423,0.010649985489712773,0.011016043298041624,0.011236541926897188,0.011641982654266528,0.011751190143764148,0.011710845910024834,0.01191897776814785,0.012289958630714765,0.012687397684163824,0.012732257429527542,0.012954661095349698,0.0132031137450882,0.013496169348915938,0.013780368586842392,0.014134173853218348,0.014477192881890666,0.01493635032634426,0.015506780766000434,0.01581922410991857,0.015996204627225095,0.016061148825450178,0.01614838842497979,0.016376929533964284,0.016510695361560357,0.016468769145491145,0.01657964716565054,0.016675052502625128,0.0167123371852994,0.01692999365054056,0.016844164468651817,0.01681220853813119,0.017179667522992652,0.017127432098390984,0.01701899648565783,0.016897059723340064,0.016997167138810197,0.01698326977327343,0.01717665985186178,0.017252103316201264,0.017205822004522794,0.017475316871387862,0.018260825791326422,0.018452564774934628,0.01908671074499192,0.01933641975308642,0.01957077924381773,0.020156828487041888,0.020284569416376835,0.01905524521030703,0.01858597047266377,0.01817378532962375,0.01789533464638287,0.017296660632102428,0.01694392915441403,0.016953658799870465,0.01644646716795032,0.016171072395318762,0.01580748624046773,0.015429914724684267,0.015064317879632973,0.015078234999323845,0.014800101378631506,0.014601626583960322,0.01464801841683149,0.013952839402818473,0.013905639211452245,0.01331204941133279,0.013003237306031703,0.012886973792030664,0.012344680054820293,0.01184937122761264,0.011594380219040735,0.011068173289918052,0.011069034934819436,0.010939433988343074,0.010799352501348955,0.010749675950041792,0.010816985692741619,0.010748468102702904,0.010456913288353228,0.009284496006214431,0.008930990537163959,0.008694480563225724,0.010324959668126297,0.010086089900886946,0.010199652422315077,0.010274494853221502,0.010519456339601564,0.010770551805103308,0.010900849887925435,0.009325643828775905,0.009520827535021802,0.009242611267671239,0.009212762737928922,0.009815947986236152,0.009754762767721912,0.009753553515956283,0.009772721846873732,0.009886255425238185,0.010139281649320018,0.009801651704910293,0.009568418872236216,0.0094224548647296,0.008946246226430657,0.008353447351261464,0.008040752958074725,0.007330000802466084,0.006625661954903708,0.005918892351452534,0.005521251167878915,0.0051155299066824285,0.004676542845582433,0.004270075996043944,0.0038066573828668972,0.0034549866502958443,0.003159184687059687,0.0030336735731967854,0.002878550336508602,0.002490834531251741,0.0024038162012583863,0.0022955207189187385,0.0023592643594696717,0.002375426122252324,0.0023932810428053722,0.002421437666433723,0.002341790338535089,0.002381674052474264,0.002412558869701727,0.0023899512658837542,0.002486524113488961,0.0025685818385699517,0.002633264726451951,0.0026904195339464486,0.0025612298377962347,0.0027198194058092114,0.002928413980847691,0.0031457072223564607,0.003206824822540045,0.003296315936914335,0.003538902806818566,0.0040258596333782055,0.0043227524143554675,0.004530417376488538,0.004769517007155585,0.004988664945947361,0.005200984547587078,0.0059037314771188225,0.006489967474610037,0.0071060416146274735,0.007680465205548817,0.008541917154404522,0.00889533256781141,0.009054032353088865,0.010873167394147114,0.011377654919126465,0.012039943276443149,0.013606852602285299,0.01443271819600428,0.014645048388116975,0.015303040708905875,0.016806830343153004,0.017566622228421234,0.01912474961250625,0.02042729759827662,0.02110726788788853,0.02156325609529127,0.02190045491753781,0.02353312801073995,0.023659572304938335,0.024950638612945025,0.02660806074884888,0.028230467941196772,0.028882284163832882,0.029266619711177704,0.030416481910657454,0.032883113774324735,0.03249786542540006,0.03139991534192456,0.032321638452197744,0.032720195106812885,0.03378034939666757,0.033017838583565426,0.03363074280142695,0.03535999681154221,0.0367458912556524,0.03703958041837987,0.0382092425352589,0.03741113718427182,0.03946102021174206,0.03907766176139386,0.03820792659311413,0.038472781353368034,0.037354643445016725,0.03615862932568026,0.035684146432653586,0.03263921073519463,0.029958732765331255,0.02890450679630488,0.02803032346831413,0.027348921689844954,0.02724401950536069,0.0269046786946835,0.027313039445255146,0.02657551559717355,0.025703359429641495,0.02438207889304246,0.023465068029683647,0.023215231511164388,0.023235938844030076,0.021843424957542556,0.020106712804999274,0.01850201682001529,0.017603935309115776,0.01778805159471435,0.017455924757610358,0.016662998122017356,0.01607959785183444,0.01542743281415422,0.013641071298786249,0.012222649121121889,0.010729214128647555,0.010241961433717634,0.010000616133454506,0.010091210486914276,0.009180702414287903,0.008583118533067015,0.00856235946712351,0.007888055140781622,0.007702460093209826,0.007675092792508673,0.006826584930233643,0.006428130400827763,0.006581583319532665,0.005892122848429415,0.005504596337942182,0.005514190859435242,0.005603251739129374,0.005404540566994422,0.005960539979231568,0.00579393205416673,0.005581083109561853,0.005385326999393345,0.005301594693988982,0.005165011265829394,0.004767311970901303,0.004084143191044409,0.003497317940889127,0.0033264910387576768,0.0031441144287614837,0.0031693326933820115,0.003065842620078836,0.0030869151098344796,0.0029313124520428664,0.0029207433039437044,0.0028611000750452475,0.002790403011479689,0.002795228990257671,0.002818947409748533,0.002839072271244649,0.002959428708423564,0.003042975238661556,0.0031330912952645344,0.0031037314728216236,0.003092213244828931,0.0031158001899654177,0.0031408573309082157,0.0028907359383309665,0.002786844968586571,0.0028338931931495186,0.0028875384269112314,0.0028362569819870343,0.0028968513028207565,0.003018934937512486,0.0031721939344920946,0.0032402352692565066,0.0031339925705017526,0.0030144493298117077,0.003135082003598805,0.003113644706670994,0.0031488095077899392,0.003148960225682343,0.0030504093536730583,0.003145935117006465,0.0032531372622402886,0.0031984527340564494,0.003231218542223327,0.0031823029025299077,0.003101931612034639,0.0032311583441618713,0.0034814468910521214,0.00341922473062201,0.0033875703055265788,0.003307841223621266,0.00327538422776518,0.0035552606316849654,0.0034002646789644403,0.0033390483648800544,0.003402880115174404,0.003428167609329227,0.0034428347802764546,0.003496859661867476,0.0032151675925840666,0.0032878980671989045,0.003287864646267011,0.003259362814204539,0.00319743063146334,0.003178068898592916,0.0031095840901943666,0.0032745362419304425,0.003356940670933418,0.0032466163043405874,0.0031334013980807507,0.003181486808227596,0.0032494748518184396,0.003373641389288298,0.003448620159282723,0.00339304208511765,0.003393905112069575,0.003586582924366175,0.0035942602803722763,0.0036027020265198897,0.003527705135556462,0.0034867643900343645,0.0035073927710412857,0.0035494745858292327,0.0035999079808399707,0.0036433964886274147,0.0036500142883121606,0.0037106464232488823,0.0038504825132231976,0.003912144745793702,0.004022201102818797,0.004081627621437976,0.004138228748781232,0.004174305000056156,0.004201422413903494,0.004429983268619277,0.004637040680959504,0.004719730425046832,0.004888979144131636,0.004863448788786177,0.004930182796442591,0.004937482039116691,0.00492887883351295,0.004987268262612034,0.004986507883410272,0.004991487152241113,0.005022005349132356,0.004997012900068748,0.005072632629975601,0.005063494235733263,0.004967117343710941,0.005006183834911054,0.005180583508977671,0.005214132643606432,0.005226007765171064,0.005201174335126127,0.005129195091288505,0.005257642405346953,0.00525751780532841,0.005077965657844156,0.005034275377401434,0.005026364189577391,0.005259740870727048,0.005052028210435613,0.005170620553861789,0.005321092206808439,0.0057959638581647635,0.005894245280332584,0.005875414751369644,0.005761231025977692,0.0066587979572518725,0.006864354438346449,0.007156047487850697,0.006957694624646895,0.006938265918374768,0.006981749248203873,0.007136169243616671,0.007140601787867965,0.007109554039459473,0.0072930027733954204,0.007425275075143137,0.007453094114215966,0.007549978732454275,0.007703971961319062,0.00777732529496026,0.007974271520501635,0.007647926599452062,0.007805189412953081,0.007973538918164325,0.007923759556193427,0.007867273042161914,0.007836146308931412,0.008259819433501674,0.00878596124116793,0.008859232451179975,0.008722099077272023,0.00883810127148843,0.009072362468732813,0.009004017672037859,0.008843797159948362,0.009028012463187917,0.008976722090261282,0.008933184254154297,0.00863282782817441,0.00860888795282224,0.008725021108922038],\"x\":[\"2020-01-22T00:00:00\",\"2020-01-23T00:00:00\",\"2020-01-24T00:00:00\",\"2020-01-25T00:00:00\",\"2020-01-26T00:00:00\",\"2020-01-27T00:00:00\",\"2020-01-28T00:00:00\",\"2020-01-29T00:00:00\",\"2020-01-30T00:00:00\",\"2020-01-31T00:00:00\",\"2020-02-01T00:00:00\",\"2020-02-02T00:00:00\",\"2020-02-03T00:00:00\",\"2020-02-04T00:00:00\",\"2020-02-05T00:00:00\",\"2020-02-06T00:00:00\",\"2020-02-07T00:00:00\",\"2020-02-08T00:00:00\",\"2020-02-09T00:00:00\",\"2020-02-10T00:00:00\",\"2020-02-11T00:00:00\",\"2020-02-12T00:00:00\",\"2020-02-13T00:00:00\",\"2020-02-14T00:00:00\",\"2020-02-15T00:00:00\",\"2020-02-16T00:00:00\",\"2020-02-17T00:00:00\",\"2020-02-18T00:00:00\",\"2020-02-19T00:00:00\",\"2020-02-20T00:00:00\",\"2020-02-21T00:00:00\",\"2020-02-22T00:00:00\",\"2020-02-23T00:00:00\",\"2020-02-24T00:00:00\",\"2020-02-25T00:00:00\",\"2020-02-26T00:00:00\",\"2020-02-27T00:00:00\",\"2020-02-28T00:00:00\",\"2020-02-29T00:00:00\",\"2020-03-01T00:00:00\",\"2020-03-02T00:00:00\",\"2020-03-03T00:00:00\",\"2020-03-04T00:00:00\",\"2020-03-05T00:00:00\",\"2020-03-06T00:00:00\",\"2020-03-07T00:00:00\",\"2020-03-08T00:00:00\",\"2020-03-09T00:00:00\",\"2020-03-10T00:00:00\",\"2020-03-11T00:00:00\",\"2020-03-12T00:00:00\",\"2020-03-13T00:00:00\",\"2020-03-14T00:00:00\",\"2020-03-15T00:00:00\",\"2020-03-16T00:00:00\",\"2020-03-17T00:00:00\",\"2020-03-18T00:00:00\",\"2020-03-19T00:00:00\",\"2020-03-20T00:00:00\",\"2020-03-21T00:00:00\",\"2020-03-22T00:00:00\",\"2020-03-23T00:00:00\",\"2020-03-24T00:00:00\",\"2020-03-25T00:00:00\",\"2020-03-26T00:00:00\",\"2020-03-27T00:00:00\",\"2020-03-28T00:00:00\",\"2020-03-29T00:00:00\",\"2020-03-30T00:00:00\",\"2020-03-31T00:00:00\",\"2020-04-01T00:00:00\",\"2020-04-02T00:00:00\",\"2020-04-03T00:00:00\",\"2020-04-04T00:00:00\",\"2020-04-05T00:00:00\",\"2020-04-06T00:00:00\",\"2020-04-07T00:00:00\",\"2020-04-08T00:00:00\",\"2020-04-09T00:00:00\",\"2020-04-10T00:00:00\",\"2020-04-11T00:00:00\",\"2020-04-12T00:00:00\",\"2020-04-13T00:00:00\",\"2020-04-14T00:00:00\",\"2020-04-15T00:00:00\",\"2020-04-16T00:00:00\",\"2020-04-17T00:00:00\",\"2020-04-18T00:00:00\",\"2020-04-19T00:00:00\",\"2020-04-20T00:00:00\",\"2020-04-21T00:00:00\",\"2020-04-22T00:00:00\",\"2020-04-23T00:00:00\",\"2020-04-24T00:00:00\",\"2020-04-25T00:00:00\",\"2020-04-26T00:00:00\",\"2020-04-27T00:00:00\",\"2020-04-28T00:00:00\",\"2020-04-29T00:00:00\",\"2020-04-30T00:00:00\",\"2020-05-01T00:00:00\",\"2020-05-02T00:00:00\",\"2020-05-03T00:00:00\",\"2020-05-04T00:00:00\",\"2020-05-05T00:00:00\",\"2020-05-06T00:00:00\",\"2020-05-07T00:00:00\",\"2020-05-08T00:00:00\",\"2020-05-09T00:00:00\",\"2020-05-10T00:00:00\",\"2020-05-11T00:00:00\",\"2020-05-12T00:00:00\",\"2020-05-13T00:00:00\",\"2020-05-14T00:00:00\",\"2020-05-15T00:00:00\",\"2020-05-16T00:00:00\",\"2020-05-17T00:00:00\",\"2020-05-18T00:00:00\",\"2020-05-19T00:00:00\",\"2020-05-20T00:00:00\",\"2020-05-21T00:00:00\",\"2020-05-22T00:00:00\",\"2020-05-23T00:00:00\",\"2020-05-24T00:00:00\",\"2020-05-25T00:00:00\",\"2020-05-26T00:00:00\",\"2020-05-27T00:00:00\",\"2020-05-28T00:00:00\",\"2020-05-29T00:00:00\",\"2020-05-30T00:00:00\",\"2020-05-31T00:00:00\",\"2020-06-01T00:00:00\",\"2020-06-02T00:00:00\",\"2020-06-03T00:00:00\",\"2020-06-04T00:00:00\",\"2020-06-05T00:00:00\",\"2020-06-06T00:00:00\",\"2020-06-07T00:00:00\",\"2020-06-08T00:00:00\",\"2020-06-09T00:00:00\",\"2020-06-10T00:00:00\",\"2020-06-11T00:00:00\",\"2020-06-12T00:00:00\",\"2020-06-13T00:00:00\",\"2020-06-14T00:00:00\",\"2020-06-15T00:00:00\",\"2020-06-16T00:00:00\",\"2020-06-17T00:00:00\",\"2020-06-18T00:00:00\",\"2020-06-19T00:00:00\",\"2020-06-20T00:00:00\",\"2020-06-21T00:00:00\",\"2020-06-22T00:00:00\",\"2020-06-23T00:00:00\",\"2020-06-24T00:00:00\",\"2020-06-25T00:00:00\",\"2020-06-26T00:00:00\",\"2020-06-27T00:00:00\",\"2020-06-28T00:00:00\",\"2020-06-29T00:00:00\",\"2020-06-30T00:00:00\",\"2020-07-01T00:00:00\",\"2020-07-02T00:00:00\",\"2020-07-03T00:00:00\",\"2020-07-04T00:00:00\",\"2020-07-05T00:00:00\",\"2020-07-06T00:00:00\",\"2020-07-07T00:00:00\",\"2020-07-08T00:00:00\",\"2020-07-09T00:00:00\",\"2020-07-10T00:00:00\",\"2020-07-11T00:00:00\",\"2020-07-12T00:00:00\",\"2020-07-13T00:00:00\",\"2020-07-14T00:00:00\",\"2020-07-15T00:00:00\",\"2020-07-16T00:00:00\",\"2020-07-17T00:00:00\",\"2020-07-18T00:00:00\",\"2020-07-19T00:00:00\",\"2020-07-20T00:00:00\",\"2020-07-21T00:00:00\",\"2020-07-22T00:00:00\",\"2020-07-23T00:00:00\",\"2020-07-24T00:00:00\",\"2020-07-25T00:00:00\",\"2020-07-26T00:00:00\",\"2020-07-27T00:00:00\",\"2020-07-28T00:00:00\",\"2020-07-29T00:00:00\",\"2020-07-30T00:00:00\",\"2020-07-31T00:00:00\",\"2020-08-01T00:00:00\",\"2020-08-02T00:00:00\",\"2020-08-03T00:00:00\",\"2020-08-04T00:00:00\",\"2020-08-05T00:00:00\",\"2020-08-06T00:00:00\",\"2020-08-07T00:00:00\",\"2020-08-08T00:00:00\",\"2020-08-09T00:00:00\",\"2020-08-10T00:00:00\",\"2020-08-11T00:00:00\",\"2020-08-12T00:00:00\",\"2020-08-13T00:00:00\",\"2020-08-14T00:00:00\",\"2020-08-15T00:00:00\",\"2020-08-16T00:00:00\",\"2020-08-17T00:00:00\",\"2020-08-18T00:00:00\",\"2020-08-19T00:00:00\",\"2020-08-20T00:00:00\",\"2020-08-21T00:00:00\",\"2020-08-22T00:00:00\",\"2020-08-23T00:00:00\",\"2020-08-24T00:00:00\",\"2020-08-25T00:00:00\",\"2020-08-26T00:00:00\",\"2020-08-27T00:00:00\",\"2020-08-28T00:00:00\",\"2020-08-29T00:00:00\",\"2020-08-30T00:00:00\",\"2020-08-31T00:00:00\",\"2020-09-01T00:00:00\",\"2020-09-02T00:00:00\",\"2020-09-03T00:00:00\",\"2020-09-04T00:00:00\",\"2020-09-05T00:00:00\",\"2020-09-06T00:00:00\",\"2020-09-07T00:00:00\",\"2020-09-08T00:00:00\",\"2020-09-09T00:00:00\",\"2020-09-10T00:00:00\",\"2020-09-11T00:00:00\",\"2020-09-12T00:00:00\",\"2020-09-13T00:00:00\",\"2020-09-14T00:00:00\",\"2020-09-15T00:00:00\",\"2020-09-16T00:00:00\",\"2020-09-17T00:00:00\",\"2020-09-18T00:00:00\",\"2020-09-19T00:00:00\",\"2020-09-20T00:00:00\",\"2020-09-21T00:00:00\",\"2020-09-22T00:00:00\",\"2020-09-23T00:00:00\",\"2020-09-24T00:00:00\",\"2020-09-25T00:00:00\",\"2020-09-26T00:00:00\",\"2020-09-27T00:00:00\",\"2020-09-28T00:00:00\",\"2020-09-29T00:00:00\",\"2020-09-30T00:00:00\",\"2020-10-01T00:00:00\",\"2020-10-02T00:00:00\",\"2020-10-03T00:00:00\",\"2020-10-04T00:00:00\",\"2020-10-05T00:00:00\",\"2020-10-06T00:00:00\",\"2020-10-07T00:00:00\",\"2020-10-08T00:00:00\",\"2020-10-09T00:00:00\",\"2020-10-10T00:00:00\",\"2020-10-11T00:00:00\",\"2020-10-12T00:00:00\",\"2020-10-13T00:00:00\",\"2020-10-14T00:00:00\",\"2020-10-15T00:00:00\",\"2020-10-16T00:00:00\",\"2020-10-17T00:00:00\",\"2020-10-18T00:00:00\",\"2020-10-19T00:00:00\",\"2020-10-20T00:00:00\",\"2020-10-21T00:00:00\",\"2020-10-22T00:00:00\",\"2020-10-23T00:00:00\",\"2020-10-24T00:00:00\",\"2020-10-25T00:00:00\",\"2020-10-26T00:00:00\",\"2020-10-27T00:00:00\",\"2020-10-28T00:00:00\",\"2020-10-29T00:00:00\",\"2020-10-30T00:00:00\",\"2020-10-31T00:00:00\",\"2020-11-01T00:00:00\",\"2020-11-02T00:00:00\",\"2020-11-03T00:00:00\",\"2020-11-04T00:00:00\",\"2020-11-05T00:00:00\",\"2020-11-06T00:00:00\",\"2020-11-07T00:00:00\",\"2020-11-08T00:00:00\",\"2020-11-09T00:00:00\",\"2020-11-10T00:00:00\",\"2020-11-11T00:00:00\",\"2020-11-12T00:00:00\",\"2020-11-13T00:00:00\",\"2020-11-14T00:00:00\",\"2020-11-15T00:00:00\",\"2020-11-16T00:00:00\",\"2020-11-17T00:00:00\",\"2020-11-18T00:00:00\",\"2020-11-19T00:00:00\",\"2020-11-20T00:00:00\",\"2020-11-21T00:00:00\",\"2020-11-22T00:00:00\",\"2020-11-23T00:00:00\",\"2020-11-24T00:00:00\",\"2020-11-25T00:00:00\",\"2020-11-26T00:00:00\",\"2020-11-27T00:00:00\",\"2020-11-28T00:00:00\",\"2020-11-29T00:00:00\",\"2020-11-30T00:00:00\",\"2020-12-01T00:00:00\",\"2020-12-02T00:00:00\",\"2020-12-03T00:00:00\",\"2020-12-04T00:00:00\",\"2020-12-05T00:00:00\",\"2020-12-06T00:00:00\",\"2020-12-07T00:00:00\",\"2020-12-08T00:00:00\",\"2020-12-09T00:00:00\",\"2020-12-10T00:00:00\",\"2020-12-11T00:00:00\",\"2020-12-12T00:00:00\",\"2020-12-13T00:00:00\",\"2020-12-14T00:00:00\",\"2020-12-15T00:00:00\",\"2020-12-16T00:00:00\",\"2020-12-17T00:00:00\",\"2020-12-18T00:00:00\",\"2020-12-19T00:00:00\",\"2020-12-20T00:00:00\",\"2020-12-21T00:00:00\",\"2020-12-22T00:00:00\",\"2020-12-23T00:00:00\",\"2020-12-24T00:00:00\",\"2020-12-25T00:00:00\",\"2020-12-26T00:00:00\",\"2020-12-27T00:00:00\",\"2020-12-28T00:00:00\",\"2020-12-29T00:00:00\",\"2020-12-30T00:00:00\",\"2020-12-31T00:00:00\",\"2021-01-01T00:00:00\",\"2021-01-02T00:00:00\",\"2021-01-03T00:00:00\",\"2021-01-04T00:00:00\",\"2021-01-05T00:00:00\",\"2021-01-06T00:00:00\",\"2021-01-07T00:00:00\",\"2021-01-08T00:00:00\",\"2021-01-09T00:00:00\",\"2021-01-10T00:00:00\",\"2021-01-11T00:00:00\",\"2021-01-12T00:00:00\",\"2021-01-13T00:00:00\",\"2021-01-14T00:00:00\",\"2021-01-15T00:00:00\",\"2021-01-16T00:00:00\",\"2021-01-17T00:00:00\",\"2021-01-18T00:00:00\",\"2021-01-19T00:00:00\",\"2021-01-20T00:00:00\",\"2021-01-21T00:00:00\",\"2021-01-22T00:00:00\",\"2021-01-23T00:00:00\",\"2021-01-24T00:00:00\",\"2021-01-25T00:00:00\",\"2021-01-26T00:00:00\",\"2021-01-27T00:00:00\",\"2021-01-28T00:00:00\",\"2021-01-29T00:00:00\",\"2021-01-30T00:00:00\",\"2021-01-31T00:00:00\",\"2021-02-01T00:00:00\",\"2021-02-02T00:00:00\",\"2021-02-03T00:00:00\",\"2021-02-04T00:00:00\",\"2021-02-05T00:00:00\",\"2021-02-06T00:00:00\",\"2021-02-07T00:00:00\",\"2021-02-08T00:00:00\",\"2021-02-09T00:00:00\",\"2021-02-10T00:00:00\",\"2021-02-11T00:00:00\",\"2021-02-12T00:00:00\",\"2021-02-13T00:00:00\",\"2021-02-14T00:00:00\",\"2021-02-15T00:00:00\",\"2021-02-16T00:00:00\",\"2021-02-17T00:00:00\",\"2021-02-18T00:00:00\",\"2021-02-19T00:00:00\",\"2021-02-20T00:00:00\",\"2021-02-21T00:00:00\",\"2021-02-22T00:00:00\",\"2021-02-23T00:00:00\",\"2021-02-24T00:00:00\",\"2021-02-25T00:00:00\",\"2021-02-26T00:00:00\",\"2021-02-27T00:00:00\",\"2021-02-28T00:00:00\",\"2021-03-01T00:00:00\",\"2021-03-02T00:00:00\",\"2021-03-03T00:00:00\",\"2021-03-04T00:00:00\",\"2021-03-05T00:00:00\",\"2021-03-06T00:00:00\",\"2021-03-07T00:00:00\",\"2021-03-08T00:00:00\",\"2021-03-09T00:00:00\",\"2021-03-10T00:00:00\",\"2021-03-11T00:00:00\",\"2021-03-12T00:00:00\",\"2021-03-13T00:00:00\",\"2021-03-14T00:00:00\",\"2021-03-15T00:00:00\",\"2021-03-16T00:00:00\",\"2021-03-17T00:00:00\",\"2021-03-18T00:00:00\",\"2021-03-19T00:00:00\",\"2021-03-20T00:00:00\",\"2021-03-21T00:00:00\",\"2021-03-22T00:00:00\",\"2021-03-23T00:00:00\",\"2021-03-24T00:00:00\",\"2021-03-25T00:00:00\",\"2021-03-26T00:00:00\",\"2021-03-27T00:00:00\",\"2021-03-28T00:00:00\",\"2021-03-29T00:00:00\",\"2021-03-30T00:00:00\",\"2021-03-31T00:00:00\",\"2021-04-01T00:00:00\",\"2021-04-02T00:00:00\",\"2021-04-03T00:00:00\",\"2021-04-04T00:00:00\",\"2021-04-05T00:00:00\",\"2021-04-06T00:00:00\",\"2021-04-07T00:00:00\",\"2021-04-08T00:00:00\",\"2021-04-09T00:00:00\",\"2021-04-10T00:00:00\",\"2021-04-11T00:00:00\",\"2021-04-12T00:00:00\",\"2021-04-13T00:00:00\",\"2021-04-14T00:00:00\",\"2021-04-15T00:00:00\",\"2021-04-16T00:00:00\",\"2021-04-17T00:00:00\",\"2021-04-18T00:00:00\",\"2021-04-19T00:00:00\",\"2021-04-20T00:00:00\",\"2021-04-21T00:00:00\",\"2021-04-22T00:00:00\",\"2021-04-23T00:00:00\",\"2021-04-24T00:00:00\",\"2021-04-25T00:00:00\",\"2021-04-26T00:00:00\",\"2021-04-27T00:00:00\",\"2021-04-28T00:00:00\",\"2021-04-29T00:00:00\",\"2021-04-30T00:00:00\",\"2021-05-01T00:00:00\",\"2021-05-02T00:00:00\",\"2021-05-03T00:00:00\",\"2021-05-04T00:00:00\",\"2021-05-05T00:00:00\",\"2021-05-06T00:00:00\",\"2021-05-07T00:00:00\",\"2021-05-08T00:00:00\",\"2021-05-09T00:00:00\",\"2021-05-10T00:00:00\",\"2021-05-11T00:00:00\",\"2021-05-12T00:00:00\",\"2021-05-13T00:00:00\",\"2021-05-14T00:00:00\",\"2021-05-15T00:00:00\",\"2021-05-16T00:00:00\",\"2021-05-17T00:00:00\",\"2021-05-18T00:00:00\",\"2021-05-19T00:00:00\",\"2021-05-20T00:00:00\",\"2021-05-21T00:00:00\",\"2021-05-22T00:00:00\",\"2021-05-23T00:00:00\",\"2021-05-24T00:00:00\",\"2021-05-25T00:00:00\",\"2021-05-26T00:00:00\",\"2021-05-27T00:00:00\",\"2021-05-28T00:00:00\",\"2021-05-29T00:00:00\",\"2021-05-30T00:00:00\",\"2021-05-31T00:00:00\",\"2021-06-01T00:00:00\",\"2021-06-02T00:00:00\",\"2021-06-03T00:00:00\",\"2021-06-04T00:00:00\",\"2021-06-05T00:00:00\",\"2021-06-06T00:00:00\",\"2021-06-07T00:00:00\",\"2021-06-08T00:00:00\",\"2021-06-09T00:00:00\",\"2021-06-10T00:00:00\",\"2021-06-11T00:00:00\",\"2021-06-12T00:00:00\",\"2021-06-13T00:00:00\",\"2021-06-14T00:00:00\",\"2021-06-15T00:00:00\",\"2021-06-16T00:00:00\",\"2021-06-17T00:00:00\",\"2021-06-18T00:00:00\",\"2021-06-19T00:00:00\",\"2021-06-20T00:00:00\",\"2021-06-21T00:00:00\",\"2021-06-22T00:00:00\",\"2021-06-23T00:00:00\",\"2021-06-24T00:00:00\",\"2021-06-25T00:00:00\",\"2021-06-26T00:00:00\",\"2021-06-27T00:00:00\",\"2021-06-28T00:00:00\",\"2021-06-29T00:00:00\",\"2021-06-30T00:00:00\",\"2021-07-01T00:00:00\",\"2021-07-02T00:00:00\",\"2021-07-03T00:00:00\",\"2021-07-04T00:00:00\",\"2021-07-05T00:00:00\",\"2021-07-06T00:00:00\",\"2021-07-07T00:00:00\",\"2021-07-08T00:00:00\",\"2021-07-09T00:00:00\",\"2021-07-10T00:00:00\",\"2021-07-11T00:00:00\",\"2021-07-12T00:00:00\",\"2021-07-13T00:00:00\",\"2021-07-14T00:00:00\",\"2021-07-15T00:00:00\",\"2021-07-16T00:00:00\",\"2021-07-17T00:00:00\",\"2021-07-18T00:00:00\",\"2021-07-19T00:00:00\",\"2021-07-20T00:00:00\",\"2021-07-21T00:00:00\",\"2021-07-22T00:00:00\",\"2021-07-23T00:00:00\",\"2021-07-24T00:00:00\",\"2021-07-25T00:00:00\",\"2021-07-26T00:00:00\",\"2021-07-27T00:00:00\",\"2021-07-28T00:00:00\",\"2021-07-29T00:00:00\",\"2021-07-30T00:00:00\",\"2021-07-31T00:00:00\",\"2021-08-01T00:00:00\",\"2021-08-02T00:00:00\",\"2021-08-03T00:00:00\",\"2021-08-04T00:00:00\",\"2021-08-05T00:00:00\",\"2021-08-06T00:00:00\",\"2021-08-07T00:00:00\",\"2021-08-08T00:00:00\",\"2021-08-09T00:00:00\",\"2021-08-10T00:00:00\",\"2021-08-11T00:00:00\",\"2021-08-12T00:00:00\",\"2021-08-13T00:00:00\",\"2021-08-14T00:00:00\",\"2021-08-15T00:00:00\",\"2021-08-16T00:00:00\",\"2021-08-17T00:00:00\",\"2021-08-18T00:00:00\",\"2021-08-19T00:00:00\",\"2021-08-20T00:00:00\",\"2021-08-21T00:00:00\",\"2021-08-22T00:00:00\",\"2021-08-23T00:00:00\",\"2021-08-24T00:00:00\",\"2021-08-25T00:00:00\",\"2021-08-26T00:00:00\",\"2021-08-27T00:00:00\",\"2021-08-28T00:00:00\",\"2021-08-29T00:00:00\",\"2021-08-30T00:00:00\",\"2021-08-31T00:00:00\",\"2021-09-01T00:00:00\",\"2021-09-02T00:00:00\",\"2021-09-03T00:00:00\",\"2021-09-04T00:00:00\",\"2021-09-05T00:00:00\",\"2021-09-06T00:00:00\",\"2021-09-07T00:00:00\",\"2021-09-08T00:00:00\",\"2021-09-09T00:00:00\",\"2021-09-10T00:00:00\",\"2021-09-11T00:00:00\",\"2021-09-12T00:00:00\",\"2021-09-13T00:00:00\",\"2021-09-14T00:00:00\",\"2021-09-15T00:00:00\",\"2021-09-16T00:00:00\",\"2021-09-17T00:00:00\",\"2021-09-18T00:00:00\",\"2021-09-19T00:00:00\",\"2021-09-20T00:00:00\",\"2021-09-21T00:00:00\",\"2021-09-22T00:00:00\",\"2021-09-23T00:00:00\",\"2021-09-24T00:00:00\",\"2021-09-25T00:00:00\",\"2021-09-26T00:00:00\",\"2021-09-27T00:00:00\",\"2021-09-28T00:00:00\",\"2021-09-29T00:00:00\",\"2021-09-30T00:00:00\",\"2021-10-01T00:00:00\",\"2021-10-02T00:00:00\",\"2021-10-03T00:00:00\",\"2021-10-04T00:00:00\",\"2021-10-05T00:00:00\",\"2021-10-06T00:00:00\",\"2021-10-07T00:00:00\",\"2021-10-08T00:00:00\",\"2021-10-09T00:00:00\",\"2021-10-10T00:00:00\",\"2021-10-11T00:00:00\",\"2021-10-12T00:00:00\",\"2021-10-13T00:00:00\",\"2021-10-14T00:00:00\",\"2021-10-15T00:00:00\",\"2021-10-16T00:00:00\",\"2021-10-17T00:00:00\",\"2021-10-18T00:00:00\",\"2021-10-19T00:00:00\",\"2021-10-20T00:00:00\",\"2021-10-21T00:00:00\",\"2021-10-22T00:00:00\",\"2021-10-23T00:00:00\",\"2021-10-24T00:00:00\",\"2021-10-25T00:00:00\",\"2021-10-26T00:00:00\",\"2021-10-27T00:00:00\",\"2021-10-28T00:00:00\",\"2021-10-29T00:00:00\",\"2021-10-30T00:00:00\",\"2021-10-31T00:00:00\",\"2021-11-01T00:00:00\",\"2021-11-02T00:00:00\",\"2021-11-03T00:00:00\",\"2021-11-04T00:00:00\",\"2021-11-05T00:00:00\",\"2021-11-06T00:00:00\",\"2021-11-07T00:00:00\",\"2021-11-08T00:00:00\",\"2021-11-09T00:00:00\",\"2021-11-10T00:00:00\",\"2021-11-11T00:00:00\",\"2021-11-12T00:00:00\",\"2021-11-13T00:00:00\",\"2021-11-14T00:00:00\",\"2021-11-15T00:00:00\",\"2021-11-16T00:00:00\",\"2021-11-17T00:00:00\",\"2021-11-18T00:00:00\",\"2021-11-19T00:00:00\",\"2021-11-20T00:00:00\",\"2021-11-21T00:00:00\",\"2021-11-22T00:00:00\",\"2021-11-23T00:00:00\",\"2021-11-24T00:00:00\",\"2021-11-25T00:00:00\",\"2021-11-26T00:00:00\",\"2021-11-27T00:00:00\",\"2021-11-28T00:00:00\",\"2021-11-29T00:00:00\",\"2021-11-30T00:00:00\",\"2021-12-01T00:00:00\",\"2021-12-02T00:00:00\",\"2021-12-03T00:00:00\",\"2021-12-04T00:00:00\",\"2021-12-05T00:00:00\",\"2021-12-06T00:00:00\",\"2021-12-07T00:00:00\",\"2021-12-08T00:00:00\",\"2021-12-09T00:00:00\",\"2021-12-10T00:00:00\",\"2021-12-11T00:00:00\",\"2021-12-12T00:00:00\",\"2021-12-13T00:00:00\",\"2021-12-14T00:00:00\",\"2021-12-15T00:00:00\",\"2021-12-16T00:00:00\",\"2021-12-17T00:00:00\",\"2021-12-18T00:00:00\",\"2021-12-19T00:00:00\",\"2021-12-20T00:00:00\",\"2021-12-21T00:00:00\",\"2021-12-22T00:00:00\",\"2021-12-23T00:00:00\",\"2021-12-24T00:00:00\",\"2021-12-25T00:00:00\",\"2021-12-26T00:00:00\",\"2021-12-27T00:00:00\",\"2021-12-28T00:00:00\",\"2021-12-29T00:00:00\",\"2021-12-30T00:00:00\",\"2021-12-31T00:00:00\",\"2022-01-01T00:00:00\",\"2022-01-02T00:00:00\",\"2022-01-03T00:00:00\",\"2022-01-04T00:00:00\",\"2022-01-05T00:00:00\",\"2022-01-06T00:00:00\",\"2022-01-07T00:00:00\",\"2022-01-08T00:00:00\",\"2022-01-09T00:00:00\",\"2022-01-10T00:00:00\",\"2022-01-11T00:00:00\",\"2022-01-12T00:00:00\",\"2022-01-13T00:00:00\",\"2022-01-14T00:00:00\",\"2022-01-15T00:00:00\",\"2022-01-16T00:00:00\",\"2022-01-17T00:00:00\",\"2022-01-18T00:00:00\",\"2022-01-19T00:00:00\",\"2022-01-20T00:00:00\",\"2022-01-21T00:00:00\",\"2022-01-22T00:00:00\",\"2022-01-23T00:00:00\",\"2022-01-24T00:00:00\",\"2022-01-25T00:00:00\",\"2022-01-26T00:00:00\",\"2022-01-27T00:00:00\",\"2022-01-28T00:00:00\",\"2022-01-29T00:00:00\",\"2022-01-30T00:00:00\",\"2022-01-31T00:00:00\",\"2022-02-01T00:00:00\",\"2022-02-02T00:00:00\",\"2022-02-03T00:00:00\",\"2022-02-04T00:00:00\",\"2022-02-05T00:00:00\",\"2022-02-06T00:00:00\",\"2022-02-07T00:00:00\",\"2022-02-08T00:00:00\",\"2022-02-09T00:00:00\",\"2022-02-10T00:00:00\",\"2022-02-11T00:00:00\",\"2022-02-12T00:00:00\",\"2022-02-13T00:00:00\",\"2022-02-14T00:00:00\",\"2022-02-15T00:00:00\",\"2022-02-16T00:00:00\",\"2022-02-17T00:00:00\",\"2022-02-18T00:00:00\",\"2022-02-19T00:00:00\",\"2022-02-20T00:00:00\",\"2022-02-21T00:00:00\",\"2022-02-22T00:00:00\",\"2022-02-23T00:00:00\",\"2022-02-24T00:00:00\",\"2022-02-25T00:00:00\",\"2022-02-26T00:00:00\",\"2022-02-27T00:00:00\",\"2022-02-28T00:00:00\",\"2022-03-01T00:00:00\",\"2022-03-02T00:00:00\",\"2022-03-03T00:00:00\",\"2022-03-04T00:00:00\",\"2022-03-05T00:00:00\",\"2022-03-06T00:00:00\",\"2022-03-07T00:00:00\",\"2022-03-08T00:00:00\",\"2022-03-09T00:00:00\",\"2022-03-10T00:00:00\",\"2022-03-11T00:00:00\",\"2022-03-12T00:00:00\",\"2022-03-13T00:00:00\",\"2022-03-14T00:00:00\",\"2022-03-15T00:00:00\",\"2022-03-16T00:00:00\",\"2022-03-17T00:00:00\",\"2022-03-18T00:00:00\",\"2022-03-19T00:00:00\",\"2022-03-20T00:00:00\",\"2022-03-21T00:00:00\",\"2022-03-22T00:00:00\",\"2022-03-23T00:00:00\",\"2022-03-24T00:00:00\",\"2022-03-25T00:00:00\",\"2022-03-26T00:00:00\",\"2022-03-27T00:00:00\",\"2022-03-28T00:00:00\",\"2022-03-29T00:00:00\",\"2022-03-30T00:00:00\",\"2022-03-31T00:00:00\",\"2022-04-01T00:00:00\",\"2022-04-02T00:00:00\",\"2022-04-03T00:00:00\",\"2022-04-04T00:00:00\",\"2022-04-05T00:00:00\",\"2022-04-06T00:00:00\",\"2022-04-07T00:00:00\",\"2022-04-08T00:00:00\",\"2022-04-09T00:00:00\",\"2022-04-10T00:00:00\",\"2022-04-11T00:00:00\",\"2022-04-12T00:00:00\",\"2022-04-13T00:00:00\",\"2022-04-14T00:00:00\",\"2022-04-15T00:00:00\",\"2022-04-16T00:00:00\",\"2022-04-17T00:00:00\",\"2022-04-18T00:00:00\",\"2022-04-19T00:00:00\",\"2022-04-20T00:00:00\",\"2022-04-21T00:00:00\",\"2022-04-22T00:00:00\",\"2022-04-23T00:00:00\",\"2022-04-24T00:00:00\",\"2022-04-25T00:00:00\",\"2022-04-26T00:00:00\",\"2022-04-27T00:00:00\",\"2022-04-28T00:00:00\",\"2022-04-29T00:00:00\",\"2022-04-30T00:00:00\",\"2022-05-01T00:00:00\",\"2022-05-02T00:00:00\",\"2022-05-03T00:00:00\",\"2022-05-04T00:00:00\",\"2022-05-05T00:00:00\",\"2022-05-06T00:00:00\",\"2022-05-07T00:00:00\",\"2022-05-08T00:00:00\",\"2022-05-09T00:00:00\",\"2022-05-10T00:00:00\",\"2022-05-11T00:00:00\",\"2022-05-12T00:00:00\",\"2022-05-13T00:00:00\",\"2022-05-14T00:00:00\",\"2022-05-15T00:00:00\",\"2022-05-16T00:00:00\",\"2022-05-17T00:00:00\",\"2022-05-18T00:00:00\",\"2022-05-19T00:00:00\",\"2022-05-20T00:00:00\",\"2022-05-21T00:00:00\",\"2022-05-22T00:00:00\",\"2022-05-23T00:00:00\",\"2022-05-24T00:00:00\",\"2022-05-25T00:00:00\",\"2022-05-26T00:00:00\",\"2022-05-27T00:00:00\",\"2022-05-28T00:00:00\",\"2022-05-29T00:00:00\",\"2022-05-30T00:00:00\",\"2022-05-31T00:00:00\",\"2022-06-01T00:00:00\",\"2022-06-02T00:00:00\",\"2022-06-03T00:00:00\",\"2022-06-04T00:00:00\",\"2022-06-05T00:00:00\",\"2022-06-06T00:00:00\",\"2022-06-07T00:00:00\",\"2022-06-08T00:00:00\",\"2022-06-09T00:00:00\",\"2022-06-10T00:00:00\",\"2022-06-11T00:00:00\",\"2022-06-12T00:00:00\",\"2022-06-13T00:00:00\",\"2022-06-14T00:00:00\",\"2022-06-15T00:00:00\",\"2022-06-16T00:00:00\",\"2022-06-17T00:00:00\",\"2022-06-18T00:00:00\",\"2022-06-19T00:00:00\",\"2022-06-20T00:00:00\",\"2022-06-21T00:00:00\",\"2022-06-22T00:00:00\",\"2022-06-23T00:00:00\",\"2022-06-24T00:00:00\",\"2022-06-25T00:00:00\",\"2022-06-26T00:00:00\",\"2022-06-27T00:00:00\",\"2022-06-28T00:00:00\",\"2022-06-29T00:00:00\",\"2022-06-30T00:00:00\",\"2022-07-01T00:00:00\",\"2022-07-02T00:00:00\",\"2022-07-03T00:00:00\",\"2022-07-04T00:00:00\",\"2022-07-05T00:00:00\",\"2022-07-06T00:00:00\",\"2022-07-07T00:00:00\",\"2022-07-08T00:00:00\",\"2022-07-09T00:00:00\",\"2022-07-10T00:00:00\",\"2022-07-11T00:00:00\",\"2022-07-12T00:00:00\",\"2022-07-13T00:00:00\",\"2022-07-14T00:00:00\",\"2022-07-15T00:00:00\",\"2022-07-16T00:00:00\",\"2022-07-17T00:00:00\",\"2022-07-18T00:00:00\",\"2022-07-19T00:00:00\",\"2022-07-20T00:00:00\",\"2022-07-21T00:00:00\",\"2022-07-22T00:00:00\",\"2022-07-23T00:00:00\",\"2022-07-24T00:00:00\",\"2022-07-25T00:00:00\",\"2022-07-26T00:00:00\",\"2022-07-27T00:00:00\",\"2022-07-28T00:00:00\",\"2022-07-29T00:00:00\",\"2022-07-30T00:00:00\",\"2022-07-31T00:00:00\",\"2022-08-01T00:00:00\",\"2022-08-02T00:00:00\",\"2022-08-03T00:00:00\",\"2022-08-04T00:00:00\",\"2022-08-05T00:00:00\",\"2022-08-06T00:00:00\",\"2022-08-07T00:00:00\",\"2022-08-08T00:00:00\",\"2022-08-09T00:00:00\",\"2022-08-10T00:00:00\",\"2022-08-11T00:00:00\",\"2022-08-12T00:00:00\",\"2022-08-13T00:00:00\",\"2022-08-14T00:00:00\",\"2022-08-15T00:00:00\",\"2022-08-16T00:00:00\",\"2022-08-17T00:00:00\",\"2022-08-18T00:00:00\",\"2022-08-19T00:00:00\",\"2022-08-20T00:00:00\",\"2022-08-21T00:00:00\",\"2022-08-22T00:00:00\",\"2022-08-23T00:00:00\",\"2022-08-24T00:00:00\",\"2022-08-25T00:00:00\",\"2022-08-26T00:00:00\",\"2022-08-27T00:00:00\",\"2022-08-28T00:00:00\",\"2022-08-29T00:00:00\",\"2022-08-30T00:00:00\",\"2022-08-31T00:00:00\",\"2022-09-01T00:00:00\",\"2022-09-02T00:00:00\",\"2022-09-03T00:00:00\",\"2022-09-04T00:00:00\",\"2022-09-05T00:00:00\",\"2022-09-06T00:00:00\",\"2022-09-07T00:00:00\",\"2022-09-08T00:00:00\",\"2022-09-09T00:00:00\",\"2022-09-10T00:00:00\",\"2022-09-11T00:00:00\",\"2022-09-12T00:00:00\",\"2022-09-13T00:00:00\",\"2022-09-14T00:00:00\",\"2022-09-15T00:00:00\",\"2022-09-16T00:00:00\",\"2022-09-17T00:00:00\",\"2022-09-18T00:00:00\",\"2022-09-19T00:00:00\",\"2022-09-20T00:00:00\",\"2022-09-21T00:00:00\",\"2022-09-22T00:00:00\",\"2022-09-23T00:00:00\",\"2022-09-24T00:00:00\",\"2022-09-25T00:00:00\",\"2022-09-26T00:00:00\",\"2022-09-27T00:00:00\",\"2022-09-28T00:00:00\",\"2022-09-29T00:00:00\",\"2022-09-30T00:00:00\",\"2022-10-01T00:00:00\",\"2022-10-02T00:00:00\",\"2022-10-03T00:00:00\",\"2022-10-04T00:00:00\",\"2022-10-05T00:00:00\",\"2022-10-06T00:00:00\",\"2022-10-07T00:00:00\",\"2022-10-08T00:00:00\",\"2022-10-09T00:00:00\",\"2022-10-10T00:00:00\",\"2022-10-11T00:00:00\",\"2022-10-12T00:00:00\",\"2022-10-13T00:00:00\",\"2022-10-14T00:00:00\",\"2022-10-15T00:00:00\",\"2022-10-16T00:00:00\",\"2022-10-17T00:00:00\",\"2022-10-18T00:00:00\"],\"y\":[null,null,null,null,null,null,1.1428571428571428,0.5714285714285714,0.2857142857142857,0.2857142857142857,0.42857142857142855,0.7142857142857143,1.2857142857142858,1.5714285714285714,1.5714285714285714,1.5714285714285714,1.5714285714285714,1.4285714285714286,1.0,0.42857142857142855,0.14285714285714285,0.42857142857142855,0.5714285714285714,0.5714285714285714,0.5714285714285714,0.5714285714285714,0.8571428571428571,1.5714285714285714,1.7142857142857142,1.7142857142857142,2.2857142857142856,3.4285714285714284,3.4285714285714284,3.7142857142857144,3.5714285714285716,4.285714285714286,4.857142857142857,4.714285714285714,4.857142857142857,7.428571428571429,11.857142857142858,18.571428571428573,27.428571428571427,37.857142857142854,55.857142857142854,75.42857142857143,103.14285714285714,153.85714285714286,217.57142857142858,282.57142857142856,375.2857142857143,495.0,648.2857142857143,923.5714285714286,1206.7142857142858,1597.0,2217.1428571428573,2987.1428571428573,3929.4285714285716,5056.714285714285,6292.571428571428,7490.428571428572,8648.0,9970.42857142857,11737.285714285714,13564.714285714286,15218.714285714286,17420.0,18108.0,19816.285714285714,21897.14285714286,23526.714285714286,25203.0,26842.0,26957.14285714286,28826.428571428572,29700.85714285714,30491.714285714286,31193.85714285714,31351.14285714286,31265.285714285714,31278.0,30793.571428571428,30203.571428571428,28921.14285714286,28455.85714285714,28050.14285714286,27583.14285714286,27436.85714285714,27605.714285714286,27700.0,28448.85714285714,28691.285714285714,29328.14285714286,30088.14285714286,30087.571428571428,29707.14285714286,29422.428571428572,28895.14285714286,28608.571428571428,28363.428571428572,27604.285714285714,27584.571428571428,27377.428571428572,27226.85714285714,27037.285714285714,26654.85714285714,26049.714285714286,25710.0,24957.285714285714,24619.428571428572,24765.571428571428,23604.285714285714,24487.0,24170.0,24193.428571428572,24088.14285714286,24485.428571428572,24203.571428571428,25092.0,23872.14285714286,23778.85714285714,23121.285714285714,23225.571428571428,22745.285714285714,22113.571428571428,21537.85714285714,21251.14285714286,20933.285714285714,21311.571428571428,21428.428571428572,21114.428571428572,21609.14285714286,21781.0,21309.285714285714,21416.714285714286,21297.571428571428,20867.428571428572,21005.285714285714,20669.0,20880.14285714286,21169.0,21716.571428571428,22166.85714285714,22499.85714285714,22848.285714285714,23727.85714285714,24250.14285714286,25053.285714285714,25738.85714285714,26741.85714285714,27678.571428571428,28841.0,30713.428571428572,32359.0,35004.28571428572,36922.142857142855,38384.28571428572,39850.857142857145,41254.57142857143,42599.857142857145,45745.42857142857,46973.857142857145,48955.28571428572,49721.0,50126.857142857145,51880.57142857143,53250.28571428572,54020.57142857143,54933.57142857143,56121.28571428572,58912.42857142857,61537.71428571428,62332.28571428572,63447.71428571428,64568.0,65641.14285714286,66850.0,66667.85714285714,66876.42857142857,67195.14285714286,67033.71428571429,67044.71428571429,67597.57142857143,67054.42857142857,66262.57142857143,65930.14285714286,65288.42857142857,64631.142857142855,63524.0,62568.42857142857,61908.28571428572,61143.57142857143,60173.142857142855,58957.0,57995.142857142855,56723.71428571428,54847.857142857145,54007.857142857145,53385.0,52764.857142857145,52524.57142857143,53517.71428571428,53344.28571428572,53105.857142857145,52185.142857142855,52116.57142857143,51450.57142857143,51134.28571428572,48651.28571428572,47534.142857142855,46785.57142857143,45495.57142857143,44268.857142857145,43454.0,42611.0,42501.57142857143,42495.42857142857,42567.142857142855,42479.28571428572,42229.57142857143,42270.57142857143,42739.71428571428,42492.0,41794.42857142857,41550.28571428572,42207.142857142855,42206.28571428572,41848.71428571428,39815.42857142857,38287.71428571428,37264.28571428572,36320.28571428572,35299.0,35205.42857142857,35047.42857142857,36418.71428571428,37653.28571428572,39020.28571428572,39936.71428571428,40532.142857142855,40810.857142857145,41005.857142857145,42006.142857142855,43874.142857142855,43574.857142857145,43715.857142857145,43960.42857142857,44042.0,44191.28571428572,43802.71428571428,42199.0,42753.142857142855,42855.57142857143,42977.57142857143,43686.857142857145,43751.42857142857,44189.142857142855,44612.142857142855,45568.42857142857,46909.57142857143,48051.857142857145,48964.28571428572,50213.142857142855,51335.28571428572,52611.857142857145,53261.28571428572,54248.0,55747.857142857145,55818.142857142855,56472.28571428572,58209.857142857145,59349.42857142857,61119.142857142855,62817.28571428572,64750.857142857145,67847.85714285714,70236.57142857143,71362.85714285714,73758.85714285714,75917.14285714286,78258.85714285714,80388.28571428571,82832.0,84037.14285714286,86542.71428571429,89863.42857142857,94112.57142857143,98679.71428571429,103821.42857142857,109045.71428571429,114395.71428571429,119808.85714285714,126749.28571428571,132399.57142857142,138063.7142857143,144335.7142857143,149262.42857142858,153005.7142857143,157090.57142857142,159989.57142857142,162491.14285714287,166286.42857142858,168751.42857142858,170164.2857142857,171879.2857142857,172861.57142857142,173975.7142857143,177407.0,171155.57142857142,166742.57142857142,162555.2857142857,161388.0,160204.42857142858,162701.2857142857,164812.85714285713,175053.7142857143,183744.42857142858,192478.42857142858,197584.42857142858,202080.42857142858,206985.42857142858,208746.7142857143,207591.2857142857,210682.85714285713,212279.42857142858,212857.0,214954.7142857143,210990.42857142858,213677.2857142857,219119.57142857142,217738.57142857142,215599.2857142857,216414.2857142857,214369.0,214135.0,212001.0,205701.85714285713,195016.0,187126.57142857142,182665.2857142857,181625.42857142858,183231.0,184623.57142857142,188437.57142857142,197950.14285714287,209156.85714285713,216252.57142857142,215926.7142857143,220700.85714285713,223979.14285714287,229700.57142857142,238809.2857142857,243197.0,245995.2857142857,250246.85714285713,246707.7142857143,242141.0,235541.0,227767.42857142858,221115.14285714287,215620.57142857142,208479.7142857143,198752.14285714287,193214.0,188117.85714285713,181298.7142857143,175011.14285714287,168583.0,165925.85714285713,165406.2857142857,161212.0,156752.0,153045.7142857143,149240.57142857142,144985.42857142858,144040.14285714287,140527.14285714287,133287.0,128383.85714285714,122789.28571428571,118654.71428571429,115932.57142857143,109027.85714285714,104729.0,103286.14285714286,100004.14285714286,96063.14285714286,92483.42857142857,88857.42857142857,85620.28571428571,80674.0,75712.14285714286,71260.14285714286,67849.85714285714,65027.28571428572,63465.57142857143,63137.0,65039.0,66284.0,66771.14285714286,66727.85714285714,67144.28571428571,66550.14285714286,65876.57142857143,63541.28571428572,62629.42857142857,61620.142857142855,60321.857142857145,58794.0,57533.857142857145,56336.42857142857,56244.142857142855,55654.142857142855,54909.857142857145,54911.71428571428,54138.142857142855,54647.42857142857,54764.42857142857,54565.42857142857,54257.42857142857,54743.42857142857,54445.28571428572,55341.71428571428,55059.71428571428,55742.0,56588.28571428572,57776.71428571428,58125.71428571428,59944.0,60668.42857142857,61842.857142857145,63243.42857142857,63864.0,64118.28571428572,65363.142857142855,64789.0,64830.42857142857,63719.42857142857,63494.57142857143,63775.857142857145,64580.42857142857,64920.0,65813.0,66540.71428571429,67741.0,68430.85714285714,69652.28571428571,69090.42857142857,68554.71428571429,67818.0,69148.14285714286,68589.85714285714,64929.57142857143,62811.42857142857,61735.42857142857,60226.71428571428,58975.42857142857,55246.42857142857,53995.857142857145,54527.28571428572,53493.42857142857,52202.0,51291.857142857145,50222.142857142855,49709.857142857145,49050.0,48140.0,47013.0,45568.142857142855,43718.0,42163.0,40515.857142857145,39183.71428571428,37937.42857142857,36578.28571428572,35295.857142857145,34931.28571428572,33547.28571428572,32519.428571428572,31634.14285714286,30926.428571428572,30147.714285714286,28948.428571428572,27166.0,26119.14285714286,25028.0,24256.428571428572,23587.428571428572,23153.714285714286,22577.428571428572,21709.14285714286,21260.285714285714,20299.14285714286,19770.14285714286,19002.285714285714,16756.85714285714,15688.57142857143,15136.714285714286,14248.142857142857,14116.714285714286,13936.0,14005.142857142857,14774.42857142857,15215.42857142857,14895.0,14232.142857142857,13888.857142857143,13547.285714285714,13316.57142857143,13072.714285714286,12221.714285714286,11872.857142857143,11586.714285714286,11584.0,11629.57142857143,11671.142857142857,11767.857142857143,11852.142857142857,12146.0,12574.285714285714,12710.57142857143,12941.142857142857,13206.42857142857,13522.57142857143,13210.57142857143,13644.142857142857,13920.0,13908.57142857143,13889.857142857143,13706.57142857143,14341.57142857143,15916.714285714286,17233.428571428572,18767.571428571428,19877.428571428572,20772.0,23596.285714285714,25756.428571428572,27991.714285714286,29816.85714285714,31922.0,33533.142857142855,35149.57142857143,37448.857142857145,39733.142857142855,43047.0,47488.857142857145,51382.28571428572,54494.142857142855,56684.42857142857,60444.42857142857,65411.28571428572,69403.57142857143,73390.28571428571,78434.57142857143,82298.0,84917.85714285714,89381.85714285714,92881.28571428571,98336.57142857143,102481.28571428571,105577.14285714286,111280.57142857143,116387.85714285714,115064.71428571429,118705.57142857143,121085.71428571429,124463.14285714286,127404.71428571429,130249.0,132215.7142857143,134488.14285714287,136585.2857142857,139903.2857142857,143225.42857142858,146128.85714285713,146320.85714285713,148312.2857142857,150005.7142857143,151801.2857142857,153269.57142857142,154930.2857142857,157126.57142857142,158289.0,156988.57142857142,159543.2857142857,161533.7142857143,164409.0,163968.2857142857,163922.57142857142,162735.42857142858,163741.14285714287,160439.85714285713,151616.57142857142,147680.7142857143,147694.14285714287,146219.57142857142,147851.2857142857,146567.42857142858,147028.42857142858,153702.7142857143,152626.14285714287,150225.85714285713,148242.2857142857,143786.42857142858,141024.14285714287,138095.0,133930.7142857143,129593.0,125284.0,121615.0,117822.28571428571,115027.28571428571,116287.71428571429,113801.71428571429,111472.14285714286,109513.42857142857,107727.71428571429,105723.42857142857,104484.57142857143,102285.42857142857,100346.0,99169.57142857143,97599.14285714286,95869.14285714286,94201.42857142857,93047.28571428571,91055.57142857143,89258.57142857143,87506.28571428571,85248.57142857143,82913.28571428571,81807.85714285714,80260.14285714286,79459.71428571429,78177.28571428571,75385.28571428571,74057.14285714286,72476.85714285714,68682.85714285714,65884.0,67615.42857142857,70675.42857142857,71783.14285714286,70936.28571428571,72045.28571428571,71850.42857142857,71463.71428571429,75083.42857142857,71141.14285714286,70418.71428571429,71466.0,71664.14285714286,71834.85714285714,72711.85714285714,73651.28571428571,74900.42857142857,76789.28571428571,74625.42857142857,79380.28571428571,81990.57142857143,82286.85714285714,84744.42857142857,86767.71428571429,88737.57142857143,94414.85714285714,93104.0,91987.0,92664.28571428571,94341.71428571429,94916.85714285714,95003.57142857143,89182.28571428571,84595.71428571429,85416.85714285714,88003.28571428571,80581.42857142857,83368.0,87215.85714285714,97425.71428571429,107420.0,109637.57142857143,109493.42857142857,122442.71428571429,123188.57142857143,122677.14285714286,121787.57142857143,119484.85714285714,119033.42857142857,119429.0,119677.14285714286,119415.42857142857,121747.14285714286,125255.85714285714,128279.14285714286,131873.42857142858,138557.7142857143,150511.0,162316.0,176242.42857142858,192800.14285714287,204912.85714285713,211158.14285714287,227319.0,255622.2857142857,282965.85714285716,318014.28571428574,363946.0,396937.85714285716,421271.4285714286,449680.71428571426,512794.28571428574,561785.2857142857,594511.8571428572,624831.5714285715,680178.7142857143,701010.1428571428,712209.7142857143,764128.4285714285,774845.1428571428,796250.0,809699.7142857143,808587.1428571428,812288.1428571428,802154.7142857143,759679.7142857143,766205.5714285715,754461.8571428572,736039.5714285715,726023.4285714285,705994.2857142857,690987.8571428572,696543.5714285715,644689.2857142857,610722.0,581718.7142857143,545308.2857142857,529457.4285714285,506744.71428571426,444488.85714285716,415982.71428571426,381466.14285714284,349830.0,312960.85714285716,296094.28571428574,287338.4285714286,247003.85714285713,232762.0,217193.7142857143,190859.7142857143,174672.57142857142,169389.2857142857,162246.0,144966.57142857142,132125.57142857142,119172.42857142857,109552.28571428571,102138.14285714286,98249.14285714286,95810.14285714286,77787.0,78687.57142857143,74089.14285714286,70397.57142857143,66235.42857142857,64023.42857142857,62064.857142857145,65401.57142857143,54904.42857142857,51867.142857142855,48598.857142857145,43999.71428571428,42350.42857142857,41034.0,38624.142857142855,36922.0,35843.57142857143,34056.28571428572,33284.857142857145,32950.142857142855,32996.28571428572,30576.285714285714,29812.428571428572,28771.14285714286,27856.428571428572,26904.285714285714,26581.285714285714,26746.571428571428,26817.0,26794.0,26506.0,26476.428571428572,26112.285714285714,26102.714285714286,26161.14285714286,25257.428571428572,24867.14285714286,25327.428571428572,25604.285714285714,25545.571428571428,25623.571428571428,25742.14285714286,24983.0,26586.714285714286,27093.571428571428,26950.14285714286,28984.14285714286,29527.428571428572,30503.85714285714,31601.714285714286,30900.428571428572,31449.14285714286,35694.857142857145,36056.42857142857,36404.857142857145,37097.71428571428,37401.71428571428,41017.71428571428,42841.57142857143,41360.42857142857,45348.857142857145,46868.142857142855,47109.71428571428,49031.0,50670.142857142855,53482.57142857143,55134.142857142855,57095.142857142855,57617.57142857143,58588.42857142857,60716.142857142855,61907.142857142855,65585.85714285714,68522.28571428571,70880.42857142857,71164.57142857143,71138.0,77372.14285714286,81290.0,85249.0,88037.85714285714,90736.42857142857,90780.71428571429,93938.28571428571,95240.71428571429,99419.14285714286,101931.0,103556.57142857143,108688.85714285714,109830.0,109159.28571428571,108486.14285714286,109046.14285714286,110512.14285714286,110844.42857142857,110282.0,110277.0,108892.0,100927.85714285714,104224.57142857143,101753.57142857143,101173.28571428571,100283.14285714286,101894.85714285714,103067.57142857143,109404.71428571429,108802.57142857143,109515.85714285714,109217.14285714286,109851.85714285714,108131.14285714286,107407.42857142857,106162.57142857143,104116.0,104014.14285714286,102399.71428571429,99244.85714285714,98976.42857142857,98857.0,93238.85714285714,100168.0,98505.14285714286,99425.0,104911.0,106270.85714285714,107148.0,113400.0,108933.14285714286,111293.85714285714,112735.28571428571,113517.28571428571,114013.42857142857,113984.14285714286,106585.42857142857,108592.42857142857,107667.57142857143,108059.71428571429,109136.14285714286,110043.71428571429,111882.85714285714,121743.42857142857,123856.14285714286,125667.14285714286,128705.42857142857,129708.42857142857,129723.71428571429,129691.28571428571,127966.85714285714,127338.71428571429,127866.71428571429,129307.42857142857,129012.57142857143,128737.0,128475.0,129303.0,127707.42857142857,127933.85714285714,127423.28571428571,125439.71428571429,123354.28571428571,120978.0,122697.14285714286,121728.71428571429,120321.28571428571,118449.71428571429,115885.14285714286,115163.14285714286,114475.85714285714,111560.85714285714,108094.57142857143,106287.0,105393.42857142857,103410.42857142857,102954.57142857143,101213.28571428571,101410.85714285714,100080.71428571429,97562.71428571429,96087.85714285714,94646.85714285714,94327.71428571429,95171.14285714286,92569.57142857143,90818.14285714286,92580.28571428571,91829.28571428571,90144.28571428571,90194.42857142857,89962.14285714286,89485.28571428571,89543.42857142857,87654.71428571429,86651.42857142857,85101.57142857143,84421.28571428571,84042.57142857143,75913.57142857143,76263.57142857143,71972.57142857143,69212.42857142857,65883.28571428571,65221.0,64797.857142857145,69851.14285714286,61122.142857142855,60831.857142857145,62584.42857142857,59523.0,58927.857142857145,58479.0,56452.857142857145,55197.42857142857,54232.857142857145,54239.857142857145,52946.57142857143,52902.28571428572,52393.71428571428,51439.142857142855,50164.142857142855,47707.0,46772.71428571428,46104.857142857145,45436.0,45090.42857142857,44542.57142857143,44555.42857142857,44241.71428571428,42600.42857142857,41683.71428571428,41569.28571428572,41492.42857142857,40263.57142857143,39966.28571428572,39285.0,38467.57142857143,37589.28571428572,37052.857142857145,37134.0,37984.0,37052.71428571428],\"type\":\"scatter\",\"xaxis\":\"x\",\"yaxis\":\"y\"},{\"hovertemplate\":\"%{y}<br>\",\"line\":{\"color\":\"darkcyan\"},\"name\":\"Deaths\",\"x\":[\"2020-01-22T00:00:00\",\"2020-01-23T00:00:00\",\"2020-01-24T00:00:00\",\"2020-01-25T00:00:00\",\"2020-01-26T00:00:00\",\"2020-01-27T00:00:00\",\"2020-01-28T00:00:00\",\"2020-01-29T00:00:00\",\"2020-01-30T00:00:00\",\"2020-01-31T00:00:00\",\"2020-02-01T00:00:00\",\"2020-02-02T00:00:00\",\"2020-02-03T00:00:00\",\"2020-02-04T00:00:00\",\"2020-02-05T00:00:00\",\"2020-02-06T00:00:00\",\"2020-02-07T00:00:00\",\"2020-02-08T00:00:00\",\"2020-02-09T00:00:00\",\"2020-02-10T00:00:00\",\"2020-02-11T00:00:00\",\"2020-02-12T00:00:00\",\"2020-02-13T00:00:00\",\"2020-02-14T00:00:00\",\"2020-02-15T00:00:00\",\"2020-02-16T00:00:00\",\"2020-02-17T00:00:00\",\"2020-02-18T00:00:00\",\"2020-02-19T00:00:00\",\"2020-02-20T00:00:00\",\"2020-02-21T00:00:00\",\"2020-02-22T00:00:00\",\"2020-02-23T00:00:00\",\"2020-02-24T00:00:00\",\"2020-02-25T00:00:00\",\"2020-02-26T00:00:00\",\"2020-02-27T00:00:00\",\"2020-02-28T00:00:00\",\"2020-02-29T00:00:00\",\"2020-03-01T00:00:00\",\"2020-03-02T00:00:00\",\"2020-03-03T00:00:00\",\"2020-03-04T00:00:00\",\"2020-03-05T00:00:00\",\"2020-03-06T00:00:00\",\"2020-03-07T00:00:00\",\"2020-03-08T00:00:00\",\"2020-03-09T00:00:00\",\"2020-03-10T00:00:00\",\"2020-03-11T00:00:00\",\"2020-03-12T00:00:00\",\"2020-03-13T00:00:00\",\"2020-03-14T00:00:00\",\"2020-03-15T00:00:00\",\"2020-03-16T00:00:00\",\"2020-03-17T00:00:00\",\"2020-03-18T00:00:00\",\"2020-03-19T00:00:00\",\"2020-03-20T00:00:00\",\"2020-03-21T00:00:00\",\"2020-03-22T00:00:00\",\"2020-03-23T00:00:00\",\"2020-03-24T00:00:00\",\"2020-03-25T00:00:00\",\"2020-03-26T00:00:00\",\"2020-03-27T00:00:00\",\"2020-03-28T00:00:00\",\"2020-03-29T00:00:00\",\"2020-03-30T00:00:00\",\"2020-03-31T00:00:00\",\"2020-04-01T00:00:00\",\"2020-04-02T00:00:00\",\"2020-04-03T00:00:00\",\"2020-04-04T00:00:00\",\"2020-04-05T00:00:00\",\"2020-04-06T00:00:00\",\"2020-04-07T00:00:00\",\"2020-04-08T00:00:00\",\"2020-04-09T00:00:00\",\"2020-04-10T00:00:00\",\"2020-04-11T00:00:00\",\"2020-04-12T00:00:00\",\"2020-04-13T00:00:00\",\"2020-04-14T00:00:00\",\"2020-04-15T00:00:00\",\"2020-04-16T00:00:00\",\"2020-04-17T00:00:00\",\"2020-04-18T00:00:00\",\"2020-04-19T00:00:00\",\"2020-04-20T00:00:00\",\"2020-04-21T00:00:00\",\"2020-04-22T00:00:00\",\"2020-04-23T00:00:00\",\"2020-04-24T00:00:00\",\"2020-04-25T00:00:00\",\"2020-04-26T00:00:00\",\"2020-04-27T00:00:00\",\"2020-04-28T00:00:00\",\"2020-04-29T00:00:00\",\"2020-04-30T00:00:00\",\"2020-05-01T00:00:00\",\"2020-05-02T00:00:00\",\"2020-05-03T00:00:00\",\"2020-05-04T00:00:00\",\"2020-05-05T00:00:00\",\"2020-05-06T00:00:00\",\"2020-05-07T00:00:00\",\"2020-05-08T00:00:00\",\"2020-05-09T00:00:00\",\"2020-05-10T00:00:00\",\"2020-05-11T00:00:00\",\"2020-05-12T00:00:00\",\"2020-05-13T00:00:00\",\"2020-05-14T00:00:00\",\"2020-05-15T00:00:00\",\"2020-05-16T00:00:00\",\"2020-05-17T00:00:00\",\"2020-05-18T00:00:00\",\"2020-05-19T00:00:00\",\"2020-05-20T00:00:00\",\"2020-05-21T00:00:00\",\"2020-05-22T00:00:00\",\"2020-05-23T00:00:00\",\"2020-05-24T00:00:00\",\"2020-05-25T00:00:00\",\"2020-05-26T00:00:00\",\"2020-05-27T00:00:00\",\"2020-05-28T00:00:00\",\"2020-05-29T00:00:00\",\"2020-05-30T00:00:00\",\"2020-05-31T00:00:00\",\"2020-06-01T00:00:00\",\"2020-06-02T00:00:00\",\"2020-06-03T00:00:00\",\"2020-06-04T00:00:00\",\"2020-06-05T00:00:00\",\"2020-06-06T00:00:00\",\"2020-06-07T00:00:00\",\"2020-06-08T00:00:00\",\"2020-06-09T00:00:00\",\"2020-06-10T00:00:00\",\"2020-06-11T00:00:00\",\"2020-06-12T00:00:00\",\"2020-06-13T00:00:00\",\"2020-06-14T00:00:00\",\"2020-06-15T00:00:00\",\"2020-06-16T00:00:00\",\"2020-06-17T00:00:00\",\"2020-06-18T00:00:00\",\"2020-06-19T00:00:00\",\"2020-06-20T00:00:00\",\"2020-06-21T00:00:00\",\"2020-06-22T00:00:00\",\"2020-06-23T00:00:00\",\"2020-06-24T00:00:00\",\"2020-06-25T00:00:00\",\"2020-06-26T00:00:00\",\"2020-06-27T00:00:00\",\"2020-06-28T00:00:00\",\"2020-06-29T00:00:00\",\"2020-06-30T00:00:00\",\"2020-07-01T00:00:00\",\"2020-07-02T00:00:00\",\"2020-07-03T00:00:00\",\"2020-07-04T00:00:00\",\"2020-07-05T00:00:00\",\"2020-07-06T00:00:00\",\"2020-07-07T00:00:00\",\"2020-07-08T00:00:00\",\"2020-07-09T00:00:00\",\"2020-07-10T00:00:00\",\"2020-07-11T00:00:00\",\"2020-07-12T00:00:00\",\"2020-07-13T00:00:00\",\"2020-07-14T00:00:00\",\"2020-07-15T00:00:00\",\"2020-07-16T00:00:00\",\"2020-07-17T00:00:00\",\"2020-07-18T00:00:00\",\"2020-07-19T00:00:00\",\"2020-07-20T00:00:00\",\"2020-07-21T00:00:00\",\"2020-07-22T00:00:00\",\"2020-07-23T00:00:00\",\"2020-07-24T00:00:00\",\"2020-07-25T00:00:00\",\"2020-07-26T00:00:00\",\"2020-07-27T00:00:00\",\"2020-07-28T00:00:00\",\"2020-07-29T00:00:00\",\"2020-07-30T00:00:00\",\"2020-07-31T00:00:00\",\"2020-08-01T00:00:00\",\"2020-08-02T00:00:00\",\"2020-08-03T00:00:00\",\"2020-08-04T00:00:00\",\"2020-08-05T00:00:00\",\"2020-08-06T00:00:00\",\"2020-08-07T00:00:00\",\"2020-08-08T00:00:00\",\"2020-08-09T00:00:00\",\"2020-08-10T00:00:00\",\"2020-08-11T00:00:00\",\"2020-08-12T00:00:00\",\"2020-08-13T00:00:00\",\"2020-08-14T00:00:00\",\"2020-08-15T00:00:00\",\"2020-08-16T00:00:00\",\"2020-08-17T00:00:00\",\"2020-08-18T00:00:00\",\"2020-08-19T00:00:00\",\"2020-08-20T00:00:00\",\"2020-08-21T00:00:00\",\"2020-08-22T00:00:00\",\"2020-08-23T00:00:00\",\"2020-08-24T00:00:00\",\"2020-08-25T00:00:00\",\"2020-08-26T00:00:00\",\"2020-08-27T00:00:00\",\"2020-08-28T00:00:00\",\"2020-08-29T00:00:00\",\"2020-08-30T00:00:00\",\"2020-08-31T00:00:00\",\"2020-09-01T00:00:00\",\"2020-09-02T00:00:00\",\"2020-09-03T00:00:00\",\"2020-09-04T00:00:00\",\"2020-09-05T00:00:00\",\"2020-09-06T00:00:00\",\"2020-09-07T00:00:00\",\"2020-09-08T00:00:00\",\"2020-09-09T00:00:00\",\"2020-09-10T00:00:00\",\"2020-09-11T00:00:00\",\"2020-09-12T00:00:00\",\"2020-09-13T00:00:00\",\"2020-09-14T00:00:00\",\"2020-09-15T00:00:00\",\"2020-09-16T00:00:00\",\"2020-09-17T00:00:00\",\"2020-09-18T00:00:00\",\"2020-09-19T00:00:00\",\"2020-09-20T00:00:00\",\"2020-09-21T00:00:00\",\"2020-09-22T00:00:00\",\"2020-09-23T00:00:00\",\"2020-09-24T00:00:00\",\"2020-09-25T00:00:00\",\"2020-09-26T00:00:00\",\"2020-09-27T00:00:00\",\"2020-09-28T00:00:00\",\"2020-09-29T00:00:00\",\"2020-09-30T00:00:00\",\"2020-10-01T00:00:00\",\"2020-10-02T00:00:00\",\"2020-10-03T00:00:00\",\"2020-10-04T00:00:00\",\"2020-10-05T00:00:00\",\"2020-10-06T00:00:00\",\"2020-10-07T00:00:00\",\"2020-10-08T00:00:00\",\"2020-10-09T00:00:00\",\"2020-10-10T00:00:00\",\"2020-10-11T00:00:00\",\"2020-10-12T00:00:00\",\"2020-10-13T00:00:00\",\"2020-10-14T00:00:00\",\"2020-10-15T00:00:00\",\"2020-10-16T00:00:00\",\"2020-10-17T00:00:00\",\"2020-10-18T00:00:00\",\"2020-10-19T00:00:00\",\"2020-10-20T00:00:00\",\"2020-10-21T00:00:00\",\"2020-10-22T00:00:00\",\"2020-10-23T00:00:00\",\"2020-10-24T00:00:00\",\"2020-10-25T00:00:00\",\"2020-10-26T00:00:00\",\"2020-10-27T00:00:00\",\"2020-10-28T00:00:00\",\"2020-10-29T00:00:00\",\"2020-10-30T00:00:00\",\"2020-10-31T00:00:00\",\"2020-11-01T00:00:00\",\"2020-11-02T00:00:00\",\"2020-11-03T00:00:00\",\"2020-11-04T00:00:00\",\"2020-11-05T00:00:00\",\"2020-11-06T00:00:00\",\"2020-11-07T00:00:00\",\"2020-11-08T00:00:00\",\"2020-11-09T00:00:00\",\"2020-11-10T00:00:00\",\"2020-11-11T00:00:00\",\"2020-11-12T00:00:00\",\"2020-11-13T00:00:00\",\"2020-11-14T00:00:00\",\"2020-11-15T00:00:00\",\"2020-11-16T00:00:00\",\"2020-11-17T00:00:00\",\"2020-11-18T00:00:00\",\"2020-11-19T00:00:00\",\"2020-11-20T00:00:00\",\"2020-11-21T00:00:00\",\"2020-11-22T00:00:00\",\"2020-11-23T00:00:00\",\"2020-11-24T00:00:00\",\"2020-11-25T00:00:00\",\"2020-11-26T00:00:00\",\"2020-11-27T00:00:00\",\"2020-11-28T00:00:00\",\"2020-11-29T00:00:00\",\"2020-11-30T00:00:00\",\"2020-12-01T00:00:00\",\"2020-12-02T00:00:00\",\"2020-12-03T00:00:00\",\"2020-12-04T00:00:00\",\"2020-12-05T00:00:00\",\"2020-12-06T00:00:00\",\"2020-12-07T00:00:00\",\"2020-12-08T00:00:00\",\"2020-12-09T00:00:00\",\"2020-12-10T00:00:00\",\"2020-12-11T00:00:00\",\"2020-12-12T00:00:00\",\"2020-12-13T00:00:00\",\"2020-12-14T00:00:00\",\"2020-12-15T00:00:00\",\"2020-12-16T00:00:00\",\"2020-12-17T00:00:00\",\"2020-12-18T00:00:00\",\"2020-12-19T00:00:00\",\"2020-12-20T00:00:00\",\"2020-12-21T00:00:00\",\"2020-12-22T00:00:00\",\"2020-12-23T00:00:00\",\"2020-12-24T00:00:00\",\"2020-12-25T00:00:00\",\"2020-12-26T00:00:00\",\"2020-12-27T00:00:00\",\"2020-12-28T00:00:00\",\"2020-12-29T00:00:00\",\"2020-12-30T00:00:00\",\"2020-12-31T00:00:00\",\"2021-01-01T00:00:00\",\"2021-01-02T00:00:00\",\"2021-01-03T00:00:00\",\"2021-01-04T00:00:00\",\"2021-01-05T00:00:00\",\"2021-01-06T00:00:00\",\"2021-01-07T00:00:00\",\"2021-01-08T00:00:00\",\"2021-01-09T00:00:00\",\"2021-01-10T00:00:00\",\"2021-01-11T00:00:00\",\"2021-01-12T00:00:00\",\"2021-01-13T00:00:00\",\"2021-01-14T00:00:00\",\"2021-01-15T00:00:00\",\"2021-01-16T00:00:00\",\"2021-01-17T00:00:00\",\"2021-01-18T00:00:00\",\"2021-01-19T00:00:00\",\"2021-01-20T00:00:00\",\"2021-01-21T00:00:00\",\"2021-01-22T00:00:00\",\"2021-01-23T00:00:00\",\"2021-01-24T00:00:00\",\"2021-01-25T00:00:00\",\"2021-01-26T00:00:00\",\"2021-01-27T00:00:00\",\"2021-01-28T00:00:00\",\"2021-01-29T00:00:00\",\"2021-01-30T00:00:00\",\"2021-01-31T00:00:00\",\"2021-02-01T00:00:00\",\"2021-02-02T00:00:00\",\"2021-02-03T00:00:00\",\"2021-02-04T00:00:00\",\"2021-02-05T00:00:00\",\"2021-02-06T00:00:00\",\"2021-02-07T00:00:00\",\"2021-02-08T00:00:00\",\"2021-02-09T00:00:00\",\"2021-02-10T00:00:00\",\"2021-02-11T00:00:00\",\"2021-02-12T00:00:00\",\"2021-02-13T00:00:00\",\"2021-02-14T00:00:00\",\"2021-02-15T00:00:00\",\"2021-02-16T00:00:00\",\"2021-02-17T00:00:00\",\"2021-02-18T00:00:00\",\"2021-02-19T00:00:00\",\"2021-02-20T00:00:00\",\"2021-02-21T00:00:00\",\"2021-02-22T00:00:00\",\"2021-02-23T00:00:00\",\"2021-02-24T00:00:00\",\"2021-02-25T00:00:00\",\"2021-02-26T00:00:00\",\"2021-02-27T00:00:00\",\"2021-02-28T00:00:00\",\"2021-03-01T00:00:00\",\"2021-03-02T00:00:00\",\"2021-03-03T00:00:00\",\"2021-03-04T00:00:00\",\"2021-03-05T00:00:00\",\"2021-03-06T00:00:00\",\"2021-03-07T00:00:00\",\"2021-03-08T00:00:00\",\"2021-03-09T00:00:00\",\"2021-03-10T00:00:00\",\"2021-03-11T00:00:00\",\"2021-03-12T00:00:00\",\"2021-03-13T00:00:00\",\"2021-03-14T00:00:00\",\"2021-03-15T00:00:00\",\"2021-03-16T00:00:00\",\"2021-03-17T00:00:00\",\"2021-03-18T00:00:00\",\"2021-03-19T00:00:00\",\"2021-03-20T00:00:00\",\"2021-03-21T00:00:00\",\"2021-03-22T00:00:00\",\"2021-03-23T00:00:00\",\"2021-03-24T00:00:00\",\"2021-03-25T00:00:00\",\"2021-03-26T00:00:00\",\"2021-03-27T00:00:00\",\"2021-03-28T00:00:00\",\"2021-03-29T00:00:00\",\"2021-03-30T00:00:00\",\"2021-03-31T00:00:00\",\"2021-04-01T00:00:00\",\"2021-04-02T00:00:00\",\"2021-04-03T00:00:00\",\"2021-04-04T00:00:00\",\"2021-04-05T00:00:00\",\"2021-04-06T00:00:00\",\"2021-04-07T00:00:00\",\"2021-04-08T00:00:00\",\"2021-04-09T00:00:00\",\"2021-04-10T00:00:00\",\"2021-04-11T00:00:00\",\"2021-04-12T00:00:00\",\"2021-04-13T00:00:00\",\"2021-04-14T00:00:00\",\"2021-04-15T00:00:00\",\"2021-04-16T00:00:00\",\"2021-04-17T00:00:00\",\"2021-04-18T00:00:00\",\"2021-04-19T00:00:00\",\"2021-04-20T00:00:00\",\"2021-04-21T00:00:00\",\"2021-04-22T00:00:00\",\"2021-04-23T00:00:00\",\"2021-04-24T00:00:00\",\"2021-04-25T00:00:00\",\"2021-04-26T00:00:00\",\"2021-04-27T00:00:00\",\"2021-04-28T00:00:00\",\"2021-04-29T00:00:00\",\"2021-04-30T00:00:00\",\"2021-05-01T00:00:00\",\"2021-05-02T00:00:00\",\"2021-05-03T00:00:00\",\"2021-05-04T00:00:00\",\"2021-05-05T00:00:00\",\"2021-05-06T00:00:00\",\"2021-05-07T00:00:00\",\"2021-05-08T00:00:00\",\"2021-05-09T00:00:00\",\"2021-05-10T00:00:00\",\"2021-05-11T00:00:00\",\"2021-05-12T00:00:00\",\"2021-05-13T00:00:00\",\"2021-05-14T00:00:00\",\"2021-05-15T00:00:00\",\"2021-05-16T00:00:00\",\"2021-05-17T00:00:00\",\"2021-05-18T00:00:00\",\"2021-05-19T00:00:00\",\"2021-05-20T00:00:00\",\"2021-05-21T00:00:00\",\"2021-05-22T00:00:00\",\"2021-05-23T00:00:00\",\"2021-05-24T00:00:00\",\"2021-05-25T00:00:00\",\"2021-05-26T00:00:00\",\"2021-05-27T00:00:00\",\"2021-05-28T00:00:00\",\"2021-05-29T00:00:00\",\"2021-05-30T00:00:00\",\"2021-05-31T00:00:00\",\"2021-06-01T00:00:00\",\"2021-06-02T00:00:00\",\"2021-06-03T00:00:00\",\"2021-06-04T00:00:00\",\"2021-06-05T00:00:00\",\"2021-06-06T00:00:00\",\"2021-06-07T00:00:00\",\"2021-06-08T00:00:00\",\"2021-06-09T00:00:00\",\"2021-06-10T00:00:00\",\"2021-06-11T00:00:00\",\"2021-06-12T00:00:00\",\"2021-06-13T00:00:00\",\"2021-06-14T00:00:00\",\"2021-06-15T00:00:00\",\"2021-06-16T00:00:00\",\"2021-06-17T00:00:00\",\"2021-06-18T00:00:00\",\"2021-06-19T00:00:00\",\"2021-06-20T00:00:00\",\"2021-06-21T00:00:00\",\"2021-06-22T00:00:00\",\"2021-06-23T00:00:00\",\"2021-06-24T00:00:00\",\"2021-06-25T00:00:00\",\"2021-06-26T00:00:00\",\"2021-06-27T00:00:00\",\"2021-06-28T00:00:00\",\"2021-06-29T00:00:00\",\"2021-06-30T00:00:00\",\"2021-07-01T00:00:00\",\"2021-07-02T00:00:00\",\"2021-07-03T00:00:00\",\"2021-07-04T00:00:00\",\"2021-07-05T00:00:00\",\"2021-07-06T00:00:00\",\"2021-07-07T00:00:00\",\"2021-07-08T00:00:00\",\"2021-07-09T00:00:00\",\"2021-07-10T00:00:00\",\"2021-07-11T00:00:00\",\"2021-07-12T00:00:00\",\"2021-07-13T00:00:00\",\"2021-07-14T00:00:00\",\"2021-07-15T00:00:00\",\"2021-07-16T00:00:00\",\"2021-07-17T00:00:00\",\"2021-07-18T00:00:00\",\"2021-07-19T00:00:00\",\"2021-07-20T00:00:00\",\"2021-07-21T00:00:00\",\"2021-07-22T00:00:00\",\"2021-07-23T00:00:00\",\"2021-07-24T00:00:00\",\"2021-07-25T00:00:00\",\"2021-07-26T00:00:00\",\"2021-07-27T00:00:00\",\"2021-07-28T00:00:00\",\"2021-07-29T00:00:00\",\"2021-07-30T00:00:00\",\"2021-07-31T00:00:00\",\"2021-08-01T00:00:00\",\"2021-08-02T00:00:00\",\"2021-08-03T00:00:00\",\"2021-08-04T00:00:00\",\"2021-08-05T00:00:00\",\"2021-08-06T00:00:00\",\"2021-08-07T00:00:00\",\"2021-08-08T00:00:00\",\"2021-08-09T00:00:00\",\"2021-08-10T00:00:00\",\"2021-08-11T00:00:00\",\"2021-08-12T00:00:00\",\"2021-08-13T00:00:00\",\"2021-08-14T00:00:00\",\"2021-08-15T00:00:00\",\"2021-08-16T00:00:00\",\"2021-08-17T00:00:00\",\"2021-08-18T00:00:00\",\"2021-08-19T00:00:00\",\"2021-08-20T00:00:00\",\"2021-08-21T00:00:00\",\"2021-08-22T00:00:00\",\"2021-08-23T00:00:00\",\"2021-08-24T00:00:00\",\"2021-08-25T00:00:00\",\"2021-08-26T00:00:00\",\"2021-08-27T00:00:00\",\"2021-08-28T00:00:00\",\"2021-08-29T00:00:00\",\"2021-08-30T00:00:00\",\"2021-08-31T00:00:00\",\"2021-09-01T00:00:00\",\"2021-09-02T00:00:00\",\"2021-09-03T00:00:00\",\"2021-09-04T00:00:00\",\"2021-09-05T00:00:00\",\"2021-09-06T00:00:00\",\"2021-09-07T00:00:00\",\"2021-09-08T00:00:00\",\"2021-09-09T00:00:00\",\"2021-09-10T00:00:00\",\"2021-09-11T00:00:00\",\"2021-09-12T00:00:00\",\"2021-09-13T00:00:00\",\"2021-09-14T00:00:00\",\"2021-09-15T00:00:00\",\"2021-09-16T00:00:00\",\"2021-09-17T00:00:00\",\"2021-09-18T00:00:00\",\"2021-09-19T00:00:00\",\"2021-09-20T00:00:00\",\"2021-09-21T00:00:00\",\"2021-09-22T00:00:00\",\"2021-09-23T00:00:00\",\"2021-09-24T00:00:00\",\"2021-09-25T00:00:00\",\"2021-09-26T00:00:00\",\"2021-09-27T00:00:00\",\"2021-09-28T00:00:00\",\"2021-09-29T00:00:00\",\"2021-09-30T00:00:00\",\"2021-10-01T00:00:00\",\"2021-10-02T00:00:00\",\"2021-10-03T00:00:00\",\"2021-10-04T00:00:00\",\"2021-10-05T00:00:00\",\"2021-10-06T00:00:00\",\"2021-10-07T00:00:00\",\"2021-10-08T00:00:00\",\"2021-10-09T00:00:00\",\"2021-10-10T00:00:00\",\"2021-10-11T00:00:00\",\"2021-10-12T00:00:00\",\"2021-10-13T00:00:00\",\"2021-10-14T00:00:00\",\"2021-10-15T00:00:00\",\"2021-10-16T00:00:00\",\"2021-10-17T00:00:00\",\"2021-10-18T00:00:00\",\"2021-10-19T00:00:00\",\"2021-10-20T00:00:00\",\"2021-10-21T00:00:00\",\"2021-10-22T00:00:00\",\"2021-10-23T00:00:00\",\"2021-10-24T00:00:00\",\"2021-10-25T00:00:00\",\"2021-10-26T00:00:00\",\"2021-10-27T00:00:00\",\"2021-10-28T00:00:00\",\"2021-10-29T00:00:00\",\"2021-10-30T00:00:00\",\"2021-10-31T00:00:00\",\"2021-11-01T00:00:00\",\"2021-11-02T00:00:00\",\"2021-11-03T00:00:00\",\"2021-11-04T00:00:00\",\"2021-11-05T00:00:00\",\"2021-11-06T00:00:00\",\"2021-11-07T00:00:00\",\"2021-11-08T00:00:00\",\"2021-11-09T00:00:00\",\"2021-11-10T00:00:00\",\"2021-11-11T00:00:00\",\"2021-11-12T00:00:00\",\"2021-11-13T00:00:00\",\"2021-11-14T00:00:00\",\"2021-11-15T00:00:00\",\"2021-11-16T00:00:00\",\"2021-11-17T00:00:00\",\"2021-11-18T00:00:00\",\"2021-11-19T00:00:00\",\"2021-11-20T00:00:00\",\"2021-11-21T00:00:00\",\"2021-11-22T00:00:00\",\"2021-11-23T00:00:00\",\"2021-11-24T00:00:00\",\"2021-11-25T00:00:00\",\"2021-11-26T00:00:00\",\"2021-11-27T00:00:00\",\"2021-11-28T00:00:00\",\"2021-11-29T00:00:00\",\"2021-11-30T00:00:00\",\"2021-12-01T00:00:00\",\"2021-12-02T00:00:00\",\"2021-12-03T00:00:00\",\"2021-12-04T00:00:00\",\"2021-12-05T00:00:00\",\"2021-12-06T00:00:00\",\"2021-12-07T00:00:00\",\"2021-12-08T00:00:00\",\"2021-12-09T00:00:00\",\"2021-12-10T00:00:00\",\"2021-12-11T00:00:00\",\"2021-12-12T00:00:00\",\"2021-12-13T00:00:00\",\"2021-12-14T00:00:00\",\"2021-12-15T00:00:00\",\"2021-12-16T00:00:00\",\"2021-12-17T00:00:00\",\"2021-12-18T00:00:00\",\"2021-12-19T00:00:00\",\"2021-12-20T00:00:00\",\"2021-12-21T00:00:00\",\"2021-12-22T00:00:00\",\"2021-12-23T00:00:00\",\"2021-12-24T00:00:00\",\"2021-12-25T00:00:00\",\"2021-12-26T00:00:00\",\"2021-12-27T00:00:00\",\"2021-12-28T00:00:00\",\"2021-12-29T00:00:00\",\"2021-12-30T00:00:00\",\"2021-12-31T00:00:00\",\"2022-01-01T00:00:00\",\"2022-01-02T00:00:00\",\"2022-01-03T00:00:00\",\"2022-01-04T00:00:00\",\"2022-01-05T00:00:00\",\"2022-01-06T00:00:00\",\"2022-01-07T00:00:00\",\"2022-01-08T00:00:00\",\"2022-01-09T00:00:00\",\"2022-01-10T00:00:00\",\"2022-01-11T00:00:00\",\"2022-01-12T00:00:00\",\"2022-01-13T00:00:00\",\"2022-01-14T00:00:00\",\"2022-01-15T00:00:00\",\"2022-01-16T00:00:00\",\"2022-01-17T00:00:00\",\"2022-01-18T00:00:00\",\"2022-01-19T00:00:00\",\"2022-01-20T00:00:00\",\"2022-01-21T00:00:00\",\"2022-01-22T00:00:00\",\"2022-01-23T00:00:00\",\"2022-01-24T00:00:00\",\"2022-01-25T00:00:00\",\"2022-01-26T00:00:00\",\"2022-01-27T00:00:00\",\"2022-01-28T00:00:00\",\"2022-01-29T00:00:00\",\"2022-01-30T00:00:00\",\"2022-01-31T00:00:00\",\"2022-02-01T00:00:00\",\"2022-02-02T00:00:00\",\"2022-02-03T00:00:00\",\"2022-02-04T00:00:00\",\"2022-02-05T00:00:00\",\"2022-02-06T00:00:00\",\"2022-02-07T00:00:00\",\"2022-02-08T00:00:00\",\"2022-02-09T00:00:00\",\"2022-02-10T00:00:00\",\"2022-02-11T00:00:00\",\"2022-02-12T00:00:00\",\"2022-02-13T00:00:00\",\"2022-02-14T00:00:00\",\"2022-02-15T00:00:00\",\"2022-02-16T00:00:00\",\"2022-02-17T00:00:00\",\"2022-02-18T00:00:00\",\"2022-02-19T00:00:00\",\"2022-02-20T00:00:00\",\"2022-02-21T00:00:00\",\"2022-02-22T00:00:00\",\"2022-02-23T00:00:00\",\"2022-02-24T00:00:00\",\"2022-02-25T00:00:00\",\"2022-02-26T00:00:00\",\"2022-02-27T00:00:00\",\"2022-02-28T00:00:00\",\"2022-03-01T00:00:00\",\"2022-03-02T00:00:00\",\"2022-03-03T00:00:00\",\"2022-03-04T00:00:00\",\"2022-03-05T00:00:00\",\"2022-03-06T00:00:00\",\"2022-03-07T00:00:00\",\"2022-03-08T00:00:00\",\"2022-03-09T00:00:00\",\"2022-03-10T00:00:00\",\"2022-03-11T00:00:00\",\"2022-03-12T00:00:00\",\"2022-03-13T00:00:00\",\"2022-03-14T00:00:00\",\"2022-03-15T00:00:00\",\"2022-03-16T00:00:00\",\"2022-03-17T00:00:00\",\"2022-03-18T00:00:00\",\"2022-03-19T00:00:00\",\"2022-03-20T00:00:00\",\"2022-03-21T00:00:00\",\"2022-03-22T00:00:00\",\"2022-03-23T00:00:00\",\"2022-03-24T00:00:00\",\"2022-03-25T00:00:00\",\"2022-03-26T00:00:00\",\"2022-03-27T00:00:00\",\"2022-03-28T00:00:00\",\"2022-03-29T00:00:00\",\"2022-03-30T00:00:00\",\"2022-03-31T00:00:00\",\"2022-04-01T00:00:00\",\"2022-04-02T00:00:00\",\"2022-04-03T00:00:00\",\"2022-04-04T00:00:00\",\"2022-04-05T00:00:00\",\"2022-04-06T00:00:00\",\"2022-04-07T00:00:00\",\"2022-04-08T00:00:00\",\"2022-04-09T00:00:00\",\"2022-04-10T00:00:00\",\"2022-04-11T00:00:00\",\"2022-04-12T00:00:00\",\"2022-04-13T00:00:00\",\"2022-04-14T00:00:00\",\"2022-04-15T00:00:00\",\"2022-04-16T00:00:00\",\"2022-04-17T00:00:00\",\"2022-04-18T00:00:00\",\"2022-04-19T00:00:00\",\"2022-04-20T00:00:00\",\"2022-04-21T00:00:00\",\"2022-04-22T00:00:00\",\"2022-04-23T00:00:00\",\"2022-04-24T00:00:00\",\"2022-04-25T00:00:00\",\"2022-04-26T00:00:00\",\"2022-04-27T00:00:00\",\"2022-04-28T00:00:00\",\"2022-04-29T00:00:00\",\"2022-04-30T00:00:00\",\"2022-05-01T00:00:00\",\"2022-05-02T00:00:00\",\"2022-05-03T00:00:00\",\"2022-05-04T00:00:00\",\"2022-05-05T00:00:00\",\"2022-05-06T00:00:00\",\"2022-05-07T00:00:00\",\"2022-05-08T00:00:00\",\"2022-05-09T00:00:00\",\"2022-05-10T00:00:00\",\"2022-05-11T00:00:00\",\"2022-05-12T00:00:00\",\"2022-05-13T00:00:00\",\"2022-05-14T00:00:00\",\"2022-05-15T00:00:00\",\"2022-05-16T00:00:00\",\"2022-05-17T00:00:00\",\"2022-05-18T00:00:00\",\"2022-05-19T00:00:00\",\"2022-05-20T00:00:00\",\"2022-05-21T00:00:00\",\"2022-05-22T00:00:00\",\"2022-05-23T00:00:00\",\"2022-05-24T00:00:00\",\"2022-05-25T00:00:00\",\"2022-05-26T00:00:00\",\"2022-05-27T00:00:00\",\"2022-05-28T00:00:00\",\"2022-05-29T00:00:00\",\"2022-05-30T00:00:00\",\"2022-05-31T00:00:00\",\"2022-06-01T00:00:00\",\"2022-06-02T00:00:00\",\"2022-06-03T00:00:00\",\"2022-06-04T00:00:00\",\"2022-06-05T00:00:00\",\"2022-06-06T00:00:00\",\"2022-06-07T00:00:00\",\"2022-06-08T00:00:00\",\"2022-06-09T00:00:00\",\"2022-06-10T00:00:00\",\"2022-06-11T00:00:00\",\"2022-06-12T00:00:00\",\"2022-06-13T00:00:00\",\"2022-06-14T00:00:00\",\"2022-06-15T00:00:00\",\"2022-06-16T00:00:00\",\"2022-06-17T00:00:00\",\"2022-06-18T00:00:00\",\"2022-06-19T00:00:00\",\"2022-06-20T00:00:00\",\"2022-06-21T00:00:00\",\"2022-06-22T00:00:00\",\"2022-06-23T00:00:00\",\"2022-06-24T00:00:00\",\"2022-06-25T00:00:00\",\"2022-06-26T00:00:00\",\"2022-06-27T00:00:00\",\"2022-06-28T00:00:00\",\"2022-06-29T00:00:00\",\"2022-06-30T00:00:00\",\"2022-07-01T00:00:00\",\"2022-07-02T00:00:00\",\"2022-07-03T00:00:00\",\"2022-07-04T00:00:00\",\"2022-07-05T00:00:00\",\"2022-07-06T00:00:00\",\"2022-07-07T00:00:00\",\"2022-07-08T00:00:00\",\"2022-07-09T00:00:00\",\"2022-07-10T00:00:00\",\"2022-07-11T00:00:00\",\"2022-07-12T00:00:00\",\"2022-07-13T00:00:00\",\"2022-07-14T00:00:00\",\"2022-07-15T00:00:00\",\"2022-07-16T00:00:00\",\"2022-07-17T00:00:00\",\"2022-07-18T00:00:00\",\"2022-07-19T00:00:00\",\"2022-07-20T00:00:00\",\"2022-07-21T00:00:00\",\"2022-07-22T00:00:00\",\"2022-07-23T00:00:00\",\"2022-07-24T00:00:00\",\"2022-07-25T00:00:00\",\"2022-07-26T00:00:00\",\"2022-07-27T00:00:00\",\"2022-07-28T00:00:00\",\"2022-07-29T00:00:00\",\"2022-07-30T00:00:00\",\"2022-07-31T00:00:00\",\"2022-08-01T00:00:00\",\"2022-08-02T00:00:00\",\"2022-08-03T00:00:00\",\"2022-08-04T00:00:00\",\"2022-08-05T00:00:00\",\"2022-08-06T00:00:00\",\"2022-08-07T00:00:00\",\"2022-08-08T00:00:00\",\"2022-08-09T00:00:00\",\"2022-08-10T00:00:00\",\"2022-08-11T00:00:00\",\"2022-08-12T00:00:00\",\"2022-08-13T00:00:00\",\"2022-08-14T00:00:00\",\"2022-08-15T00:00:00\",\"2022-08-16T00:00:00\",\"2022-08-17T00:00:00\",\"2022-08-18T00:00:00\",\"2022-08-19T00:00:00\",\"2022-08-20T00:00:00\",\"2022-08-21T00:00:00\",\"2022-08-22T00:00:00\",\"2022-08-23T00:00:00\",\"2022-08-24T00:00:00\",\"2022-08-25T00:00:00\",\"2022-08-26T00:00:00\",\"2022-08-27T00:00:00\",\"2022-08-28T00:00:00\",\"2022-08-29T00:00:00\",\"2022-08-30T00:00:00\",\"2022-08-31T00:00:00\",\"2022-09-01T00:00:00\",\"2022-09-02T00:00:00\",\"2022-09-03T00:00:00\",\"2022-09-04T00:00:00\",\"2022-09-05T00:00:00\",\"2022-09-06T00:00:00\",\"2022-09-07T00:00:00\",\"2022-09-08T00:00:00\",\"2022-09-09T00:00:00\",\"2022-09-10T00:00:00\",\"2022-09-11T00:00:00\",\"2022-09-12T00:00:00\",\"2022-09-13T00:00:00\",\"2022-09-14T00:00:00\",\"2022-09-15T00:00:00\",\"2022-09-16T00:00:00\",\"2022-09-17T00:00:00\",\"2022-09-18T00:00:00\",\"2022-09-19T00:00:00\",\"2022-09-20T00:00:00\",\"2022-09-21T00:00:00\",\"2022-09-22T00:00:00\",\"2022-09-23T00:00:00\",\"2022-09-24T00:00:00\",\"2022-09-25T00:00:00\",\"2022-09-26T00:00:00\",\"2022-09-27T00:00:00\",\"2022-09-28T00:00:00\",\"2022-09-29T00:00:00\",\"2022-09-30T00:00:00\",\"2022-10-01T00:00:00\",\"2022-10-02T00:00:00\",\"2022-10-03T00:00:00\",\"2022-10-04T00:00:00\",\"2022-10-05T00:00:00\",\"2022-10-06T00:00:00\",\"2022-10-07T00:00:00\",\"2022-10-08T00:00:00\",\"2022-10-09T00:00:00\",\"2022-10-10T00:00:00\",\"2022-10-11T00:00:00\",\"2022-10-12T00:00:00\",\"2022-10-13T00:00:00\",\"2022-10-14T00:00:00\",\"2022-10-15T00:00:00\",\"2022-10-16T00:00:00\",\"2022-10-17T00:00:00\",\"2022-10-18T00:00:00\"],\"y\":[0.0,0.0,0.0,0.0,0.0,0.0,0.0,0.0,0.0,0.0,0.0,0.0,0.0,0.0,0.0,0.0,0.0,0.0,0.0,0.0,0.0,0.0,0.0,0.0,0.0,0.0,0.0,0.0,0.0,0.0,0.0,0.0,0.0,0.0,0.0,0.0,1.0,0.0,1.0,0.0,6.0,3.0,2.0,3.0,3.0,5.0,4.0,4.0,7.0,12.0,7.0,11.0,13.0,18.0,21.0,28.0,64.0,69.0,92.0,112.0,119.0,165.0,209.0,301.0,341.0,487.0,556.0,666.0,632.0,983.0,1123.0,1313.0,1380.0,1542.0,1875.0,1693.0,2101.0,2223.0,2238.0,2243.0,2195.0,1857.0,1908.0,2438.0,2735.0,2445.0,2340.0,1849.0,1994.0,2079.0,2675.0,2229.0,1992.0,2105.0,1892.0,1537.0,1490.0,2117.0,2417.0,2240.0,1954.0,1611.0,1412.0,1273.0,2437.0,2341.0,2038.0,1662.0,1493.0,1073.0,1037.0,1536.0,1510.0,1944.0,1550.0,1240.0,927.0,947.0,1179.0,1375.0,1083.0,1811.0,939.0,788.0,687.0,813.0,1285.0,1253.0,1051.0,909.0,673.0,695.0,934.0,1022.0,887.0,876.0,669.0,593.0,776.0,829.0,884.0,888.0,736.0,685.0,489.0,525.0,674.0,684.0,643.0,757.0,576.0,413.0,415.0,747.0,693.0,709.0,707.0,594.0,439.0,461.0,662.0,782.0,705.0,811.0,539.0,461.0,599.0,930.0,1080.0,963.0,969.0,889.0,840.0,733.0,917.0,1126.0,1092.0,1084.0,1005.0,932.0,867.0,1197.0,1195.0,1255.0,1294.0,1148.0,952.0,943.0,1167.0,1182.0,1405.0,1377.0,1165.0,922.0,863.0,1083.0,1272.0,1216.0,1328.0,1043.0,900.0,806.0,1107.0,1337.0,1207.0,1061.0,952.0,889.0,648.0,940.0,1278.0,1004.0,1022.0,1006.0,838.0,595.0,891.0,1074.0,948.0,1043.0,839.0,717.0,564.0,862.0,894.0,955.0,922.0,803.0,690.0,426.0,569.0,840.0,851.0,873.0,662.0,723.0,376.0,827.0,1115.0,741.0,809.0,674.0,485.0,547.0,670.0,912.0,750.0,785.0,664.0,506.0,420.0,800.0,692.0,745.0,913.0,565.0,608.0,518.0,646.0,789.0,745.0,797.0,681.0,580.0,500.0,658.0,833.0,703.0,888.0,693.0,735.0,619.0,802.0,1067.0,921.0,927.0,836.0,610.0,691.0,897.0,1066.0,1119.0,918.0,942.0,716.0,747.0,1034.0,1308.0,1235.0,1273.0,1095.0,892.0,942.0,1224.0,1521.0,1353.0,1288.0,1472.0,1034.0,1042.0,1596.0,1850.0,1937.0,1982.0,1724.0,1318.0,1426.0,1902.0,2313.0,1677.0,1676.0,1506.0,1293.0,1572.0,2399.0,2775.0,2747.0,2611.0,2376.0,1599.0,1981.0,2576.0,3341.0,2723.0,3198.0,2442.0,2051.0,1978.0,2773.0,3397.0,3349.0,2975.0,2729.0,2104.0,2148.0,2911.0,3243.0,3030.0,2237.0,1663.0,1914.0,2204.0,3367.0,3773.0,3774.0,3049.0,2403.0,2055.0,2044.0,3513.0,3859.0,4000.0,3730.0,3411.0,2567.0,2544.0,3620.0,4083.0,3766.0,3394.0,3549.0,2600.0,2253.0,2760.0,3850.0,3866.0,3689.0,3074.0,2482.0,2047.0,3586.0,3955.0,3880.0,3283.0,2830.0,2297.0,2240.0,2952.0,3291.0,3130.0,3409.0,2809.0,1776.0,1673.0,2476.0,2821.0,3252.0,2511.0,2115.0,1574.0,1391.0,1412.0,2193.0,2260.0,2346.0,1839.0,1529.0,1508.0,1727.0,1983.0,2860.0,1971.0,1634.0,1027.0,1333.0,1134.0,1899.0,1519.0,1927.0,1280.0,898.0,804.0,1064.0,1582.0,1321.0,1326.0,959.0,654.0,694.0,855.0,1079.0,961.0,1080.0,721.0,553.0,941.0,756.0,1128.0,984.0,1046.0,853.0,618.0,550.0,729.0,953.0,823.0,845.0,712.0,533.0,369.0,750.0,824.0,871.0,844.0,742.0,470.0,544.0,760.0,788.0,798.0,817.0,631.0,508.0,472.0,754.0,781.0,798.0,846.0,654.0,436.0,486.0,551.0,843.0,763.0,810.0,618.0,502.0,480.0,690.0,727.0,675.0,818.0,614.0,411.0,408.0,613.0,691.0,587.0,712.0,445.0,440.0,371.0,612.0,592.0,546.0,655.0,410.0,289.0,345.0,522.0,522.0,551.0,708.0,302.0,256.0,234.0,335.0,498.0,479.0,587.0,395.0,424.0,326.0,316.0,369.0,386.0,403.0,208.0,152.0,206.0,319.0,337.0,279.0,273.0,251.0,223.0,269.0,308.0,327.0,316.0,403.0,242.0,175.0,183.0,284.0,244.0,290.0,306.0,152.0,125.0,103.0,304.0,250.0,263.0,317.0,149.0,120.0,296.0,340.0,344.0,319.0,370.0,184.0,147.0,286.0,323.0,400.0,341.0,414.0,255.0,249.0,412.0,505.0,498.0,497.0,527.0,396.0,373.0,659.0,705.0,746.0,757.0,846.0,652.0,530.0,728.0,969.0,614.0,982.0,1188.0,908.0,684.0,854.0,1203.0,1496.0,1367.0,1555.0,1177.0,892.0,1158.0,1665.0,1652.0,1745.0,1814.0,1463.0,1154.0,1243.0,1774.0,1993.0,2028.0,1958.0,1498.0,1281.0,1084.0,1461.0,2078.0,2257.0,2257.0,1744.0,1134.0,1336.0,2417.0,2410.0,2091.0,2311.0,1590.0,1168.0,1334.0,2347.0,2292.0,2057.0,2413.0,1436.0,1001.0,1528.0,2137.0,2207.0,1935.0,2175.0,1287.0,927.0,1298.0,2063.0,2008.0,1728.0,2218.0,1052.0,718.0,983.0,1913.0,1791.0,1575.0,1981.0,892.0,683.0,1322.0,1854.0,1765.0,1527.0,1886.0,654.0,347.0,986.0,2030.0,1702.0,1281.0,1723.0,453.0,306.0,1149.0,1439.0,1441.0,1208.0,1561.0,478.0,257.0,1144.0,1591.0,1261.0,972.0,1694.0,544.0,217.0,1044.0,1465.0,1266.0,1085.0,1593.0,374.0,178.0,1138.0,1553.0,1227.0,465.0,563.0,216.0,194.0,1606.0,1615.0,1568.0,1245.0,1466.0,572.0,283.0,1244.0,1832.0,1295.0,1162.0,1822.0,490.0,309.0,1277.0,1909.0,1672.0,1115.0,1820.0,596.0,288.0,1401.0,2244.0,1579.0,1014.0,1368.0,267.0,267.0,1629.0,2334.0,1595.0,1342.0,1344.0,435.0,382.0,1509.0,2846.0,1695.0,2108.0,2335.0,869.0,710.0,1963.0,3238.0,2224.0,2207.0,2863.0,1400.0,891.0,1484.0,2668.0,2851.0,2931.0,3762.0,1261.0,987.0,2795.0,3581.0,3163.0,2899.0,3520.0,1544.0,947.0,2715.0,4110.0,3240.0,2732.0,3425.0,1268.0,721.0,3304.0,3848.0,3007.0,2606.0,2893.0,986.0,736.0,2979.0,3040.0,2714.0,2317.0,2319.0,725.0,594.0,1105.0,3258.0,2622.0,2489.0,2296.0,580.0,365.0,2315.0,1971.0,1783.0,1372.0,1569.0,325.0,368.0,1539.0,1736.0,1963.0,1260.0,1439.0,508.0,196.0,1344.0,1445.0,1503.0,1067.0,972.0,201.0,149.0,790.0,937.0,1247.0,899.0,776.0,180.0,98.0,692.0,734.0,1178.0,712.0,602.0,148.0,121.0,325.0,656.0,945.0,524.0,890.0,147.0,71.0,324.0,436.0,611.0,575.0,544.0,49.0,58.0,369.0,430.0,549.0,480.0,569.0,72.0,62.0,181.0,367.0,733.0,290.0,495.0,96.0,136.0,180.0,653.0,810.0,307.0,490.0,65.0,67.0,190.0,395.0,573.0,270.0,437.0,82.0,69.0,232.0,377.0,617.0,260.0,486.0,108.0,74.0,234.0,480.0,712.0,337.0,451.0,99.0,62.0,78.0,370.0,588.0,359.0,471.0,95.0,129.0,300.0,474.0,656.0,271.0,393.0,150.0,97.0,299.0,429.0,582.0,305.0,398.0,106.0,117.0,140.0,527.0,635.0,500.0,486.0,115.0,78.0,259.0,638.0,573.0,486.0,555.0,147.0,89.0,121.0,473.0,607.0,495.0,558.0,120.0,115.0,282.0,662.0,721.0,467.0,478.0,164.0,176.0,354.0,714.0,684.0,502.0,645.0,164.0,177.0,307.0,638.0,708.0,527.0,640.0,149.0,122.0,403.0,732.0,722.0,567.0,616.0,174.0,131.0,339.0,803.0,820.0,599.0,673.0,140.0,119.0,351.0,751.0,773.0,547.0,626.0,149.0,132.0,309.0,683.0,773.0,546.0,677.0,172.0,131.0,276.0,640.0,784.0,509.0,513.0,122.0,113.0,114.0,542.0,692.0,482.0,608.0,140.0,87.0,266.0,574.0,766.0,694.0,372.0,103.0,83.0,228.0,513.0,706.0,764.0,355.0,111.0,92.0,233.0,470.0,638.0,605.0,370.0,128.0,57.0,185.0,461.0,752.0,667.0,335.0,81.0,86.0,175.0,423.0,665.0,666.0,266.0,36.0,13.0,220.0,397.0],\"type\":\"scatter\",\"xaxis\":\"x2\",\"yaxis\":\"y2\"},{\"hovertemplate\":\"%{y}<br><br>Daily Mortality Rate: %{text:.2%} <br>\",\"line\":{\"color\":\"darkblue\"},\"name\":\"7 day MA Deaths\",\"text\":[null,null,null,null,null,null,0.0,0.0,0.0,0.0,0.0,0.0,0.0,0.0,0.0,0.0,0.0,0.0,0.0,0.0,0.0,0.0,0.0,0.0,0.0,0.0,0.0,0.0,0.0,0.0,0.0,0.0,0.0,0.0,0.0,0.0,0.029411764705882353,0.0303030303030303,0.058823529411764705,0.03846153846153846,0.09638554216867469,0.0846153846153846,0.06770833333333334,0.05660377358490566,0.046035805626598474,0.041666666666666664,0.036011080332409975,0.02228412256267409,0.018384766907419567,0.019211324570273004,0.015987818804720215,0.01443001443001443,0.012780960775672102,0.011136890951276103,0.010536285071623061,0.009839878343322301,0.010438144329896907,0.010712577714012433,0.011088489784047115,0.011413396615532392,0.0114647657101344,0.012377701066122479,0.0137108497423021,0.015288066138437952,0.016297269994279523,0.018261666298063254,0.020444753170438652,0.02234705592914548,0.025182239893969515,0.028591202041610798,0.031236951983298535,0.03497543825560002,0.03771093010469275,0.040655901731827516,0.046889242183359825,0.04910672250167258,0.05303839235038912,0.05681637166068534,0.059773673388075495,0.06340620984425266,0.06656401211750139,0.06645474226521608,0.06849759922061655,0.0714295849592054,0.07712597802892594,0.07942627929976757,0.0810691058359774,0.08064967216001491,0.08179300003124057,0.08217760298074932,0.08312016503352244,0.07839129867129989,0.07547338913258879,0.07268981037228989,0.0710578918131015,0.06888938479581033,0.06693916806924742,0.06487762008574605,0.06699099205996065,0.06890042944172575,0.06873539366588766,0.06917145370801635,0.06857352971640462,0.06796005051084836,0.07001490125296451,0.07010424757345676,0.0700274407237491,0.0700528659486257,0.07032283158304162,0.070503317096067,0.07010142976511001,0.06449045045252914,0.0626339042546753,0.05982766365826765,0.059950351675630946,0.058398384449142034,0.057787767544197795,0.056325044632959544,0.05487383798140771,0.052162328345972536,0.04967535381945483,0.05143825246918031,0.05104140278901939,0.0499572515515534,0.04937914921145355,0.04842533673568268,0.04912280701754387,0.05092835343309267,0.04651511946114527,0.04548836648098619,0.04447362982419883,0.045189139451018594,0.04495451660672731,0.04287485160723304,0.04137029464016358,0.039995464156833443,0.03860936525291281,0.03885754970151706,0.03915341036609833,0.03906471389174955,0.03772552185603546,0.03721749458439902,0.03535812019787391,0.03474298824499897,0.033568467101378424,0.03148720129050007,0.02938679671272465,0.027575684384775343,0.02529465767250375,0.02473747308127789,0.023227364271099882,0.022049032258064517,0.02061549282519429,0.01969822413648753,0.018736231474573206,0.01758968289597192,0.01648255982666228,0.01592169414566973,0.015428956537948638,0.015063265716007232,0.014302529518878334,0.013596987052570435,0.013229243013591145,0.012997283235138771,0.012639097593141156,0.012599461936572352,0.012553557070634755,0.012949628707558912,0.013553037996107303,0.013998725733678339,0.014104655987415012,0.014285125379801011,0.01455553388862579,0.014677099233142192,0.014389801276191421,0.014241906649910615,0.014289818232467442,0.01427716636392777,0.014564739915358654,0.014715840516090446,0.01493092612986483,0.015563596995967911,0.01570806689778463,0.01592407165937914,0.016500454854372036,0.017005937417805355,0.017135019533662255,0.017469733205840457,0.01758108651733574,0.01785826729155235,0.018473488454925923,0.01886200323981558,0.019137626896882046,0.01937504154677455,0.019580856750319238,0.019698693979298756,0.02036689114656002,0.02057119043588107,0.02076152940709685,0.020677290303589828,0.020860746059336032,0.020801148850062016,0.02047920047834629,0.020719852173214426,0.020788667378631897,0.020424532433971358,0.02020196482610412,0.020432925915025237,0.020117896854221377,0.020654277232432558,0.02096237591625869,0.02067792573412438,0.02114177518062983,0.02190188523373413,0.022144928298562027,0.022405348048961198,0.02229833518760651,0.02161577043581158,0.021391415243145282,0.021506280371945987,0.021068513262541142,0.020639147802929428,0.020308979938364453,0.02032987722058606,0.020053937469450812,0.02019583843329253,0.019471991876798107,0.01935053681916031,0.019423706480144468,0.01992049026220991,0.01962210929279814,0.01995399654974123,0.020063561488660408,0.02044574310077582,0.019927933192121345,0.020152283436323023,0.019197351440193623,0.01954676692984486,0.019868786199119873,0.019019377085889463,0.01851440655564367,0.01842996961592853,0.017513177560000138,0.017677686596858283,0.01641383307447602,0.01586104699958036,0.01583929989444824,0.015673186599636686,0.01561172127903884,0.01562686890434119,0.015351299169327409,0.01637479561127041,0.015427437247721137,0.015373897042891573,0.015755726408791297,0.015176188981321613,0.01548684124600013,0.015650256688779403,0.015008726003490402,0.014997852523206857,0.014569064491864287,0.013877864093256392,0.013957695113056163,0.013530891172487567,0.013185027285604166,0.012897690091587175,0.012858441805760817,0.012513957064908253,0.012410470613860879,0.012425555438963778,0.012673726176683378,0.01258746064117761,0.012692383607015112,0.012871814769279673,0.013019619258575324,0.012716875231657165,0.012437491446197902,0.01176025513773858,0.011718781278776475,0.011522102914516804,0.011192653644951263,0.01121917738202157,0.010905995543060645,0.010767060349347388,0.010792846700438582,0.01057281375505737,0.010399908432478492,0.010297698197295639,0.009989026547647656,0.0099828001375989,0.00970497301262904,0.009470884273886383,0.009275488814325675,0.008981735597270201,0.008828254731079191,0.008588167367861216,0.008229821349037462,0.008319000954215824,0.008248057962354347,0.008124521431676357,0.008309470170823634,0.008470791375002416,0.008779171910773579,0.009238440309500025,0.009373294715191202,0.009515814670595228,0.009779088304349228,0.00996772948605306,0.010147771588977403,0.010301404987442503,0.010311875106023143,0.010385917055032706,0.010438906769488969,0.010646218982710483,0.01091922181666841,0.011179779663514463,0.011398950199775415,0.011586745876065434,0.011706692178492729,0.01162541004171092,0.011655896556038861,0.011501844850362137,0.011792144547014254,0.01184126226052704,0.01206552841779791,0.012019198415027094,0.012289941134188681,0.01216801146819629,0.012530019980594921,0.012409902516545312,0.012509803844867481,0.012442837741196849,0.012756469508579078,0.012743415406957554,0.01297828910496787,0.013084536123740362,0.0131124718414401,0.013292469753380933,0.013480212612591493,0.013234739511682697,0.013409381874889045,0.013530201088897244,0.013767165100727652,0.014073423529730377,0.014352612422606046,0.014248898171328853,0.013990866731598568,0.013624941206314311,0.01353964671876106,0.013341264775979899,0.013200846507391631,0.01301259279160945,0.01292364199764905,0.013282588659752029,0.013428828775464339,0.01348611199912315,0.013741535674951389,0.014132851756385153,0.014386940217262752,0.014667216935570871,0.01519764104803832,0.015606780164097781,0.01594194159349522,0.016104049192641228,0.016393369897774342,0.01691340914700131,0.017782018783523007,0.018033137481858297,0.01862075569388881,0.018741589401806834,0.019513855061649064,0.02011459621935269,0.020699667536709487,0.020821976626964864,0.021119304976433065,0.02155684610670235,0.021889731136458982,0.021792434608464046,0.02226452263590169,0.022280282233970227,0.023442017393327713,0.024233580509112274,0.02416059581431571,0.02494775254030752,0.025322499021283505,0.02502617554837255,0.026021779097723095,0.025753894016138194,0.025678731633775317,0.026401844367059914,0.026929532720883904,0.026696510470712816,0.02726114890044058,0.026975608484807175,0.027984057235618982,0.028592393083343035,0.029194681480847886,0.029611344038700423,0.029437282685333858,0.028431769787149667,0.029508042396415902,0.02872434943641015,0.028110040211910384,0.02728340177438709,0.027182870129419518,0.026848685556522305,0.02704798748192315,0.024382101400052394,0.02480266570042131,0.024587056988322427,0.024805269940432587,0.02399107403228056,0.023852642433878832,0.02329180987681574,0.023092392986947437,0.021528063228767217,0.020988634894331167,0.02015517656039233,0.019825173274622996,0.019350295058619012,0.01813576547780159,0.0170353127837914,0.01648312722864632,0.015601767718486701,0.015419622332117338,0.015863903596672425,0.015376731176063696,0.01518159812282259,0.015146972080220214,0.01460648986673276,0.014742899931477657,0.014613074613074612,0.01340624887057718,0.0132155831141175,0.012773267264965643,0.012178116981610431,0.011842839282682467,0.011524570693215046,0.011534943367799907,0.011168558841925743,0.011166339255114451,0.01074186562492396,0.010791303582431125,0.010642708453171432,0.01059072318773683,0.01027020985391839,0.010532007281593933,0.010367827124943085,0.010377703754706565,0.01030667891965333,0.010361766576930692,0.009933124947059833,0.010093120807116421,0.01050368861205658,0.010844250363901018,0.01101705897053787,0.011293042717161582,0.01160289515246059,0.012445536233757838,0.012543290358254999,0.012457721036126081,0.012156366336051959,0.012626774015226565,0.012753347092131025,0.012922586792962695,0.01295230322241349,0.013318770933449834,0.013552733099887235,0.01429999604972485,0.01438975223918966,0.0147111683321025,0.01528083187357907,0.0158879592117372,0.016096337399648542,0.016353996430212153,0.016660938574017372,0.017120584771179136,0.01693937894396754,0.01718682797416014,0.016987646945122916,0.017594010088557117,0.01782571540753401,0.018281414369248555,0.018550229718859647,0.019551750612635543,0.020023627990417535,0.02069681956209046,0.02046585588503784,0.0208888512040312,0.0207248451343814,0.020810923678515836,0.021676186465215443,0.022489954442219566,0.02279476965952116,0.02316624635995115,0.023267877548565588,0.024791556548278745,0.026261154616645417,0.026539067735024586,0.026980959924601703,0.028173290020947813,0.030260783992127276,0.031049818434044637,0.02924937875286451,0.027190445788109814,0.026883422049585194,0.026288582183186953,0.02501491431980416,0.022777361833155825,0.02188465499485067,0.022325672884634294,0.023506171685057038,0.02290939718445434,0.021872341474841874,0.0224077545382794,0.023192108786713673,0.023880633552840952,0.02355083459787557,0.02326282167178931,0.02313518853943685,0.023824130879345602,0.02346752984017803,0.022519539011789644,0.02113689220617665,0.020389190559699125,0.019973181651058672,0.019066266006344954,0.01769293924466338,0.016783073130649136,0.016291435682769542,0.015675484126487817,0.015180643683198693,0.013732195266431515,0.012459174030538653,0.011524438050436544,0.010859409811559414,0.010357349178839646,0.010286122513228475,0.009623117668265898,0.009334394871951904,0.009031324562328118,0.008672925971340856,0.008405330334168327,0.00812852828931058,0.00759130547565823,0.007093754044842017,0.006733503911007569,0.006169868420260993,0.0058246866624406405,0.005678198705496528,0.005715855450350436,0.005658089721137007,0.0056259404777244644,0.005504039520403437,0.005508708820941659,0.005360245664266122,0.005353367379176026,0.005396812045253816,0.005522053852411723,0.005621615303098118,0.005670031204783571,0.005803150122182586,0.006064624377570904,0.0060824376993031766,0.006008236008911092,0.00616299150912592,0.006291677247066271,0.0060122699386503066,0.006107373152350323,0.006349843524516361,0.006491961002168374,0.006561787554969692,0.006584754683631164,0.006728396804926697,0.007469445729345681,0.007680200443257282,0.007886385988100523,0.008138669811744445,0.008229739179684566,0.008426345663022361,0.008761454119059786,0.008822923569770161,0.009076893570564456,0.009185497406094813,0.009376159159151028,0.009692243293415354,0.009613154692456952,0.009591098187375302,0.009719662548887226,0.009992350437105432,0.010120631866264386,0.010225185840645816,0.010273183805798001,0.010342994571174423,0.010649985489712773,0.011016043298041624,0.011236541926897188,0.011641982654266528,0.011751190143764148,0.011710845910024834,0.01191897776814785,0.012289958630714765,0.012687397684163824,0.012732257429527542,0.012954661095349698,0.0132031137450882,0.013496169348915938,0.013780368586842392,0.014134173853218348,0.014477192881890666,0.01493635032634426,0.015506780766000434,0.01581922410991857,0.015996204627225095,0.016061148825450178,0.01614838842497979,0.016376929533964284,0.016510695361560357,0.016468769145491145,0.01657964716565054,0.016675052502625128,0.0167123371852994,0.01692999365054056,0.016844164468651817,0.01681220853813119,0.017179667522992652,0.017127432098390984,0.01701899648565783,0.016897059723340064,0.016997167138810197,0.01698326977327343,0.01717665985186178,0.017252103316201264,0.017205822004522794,0.017475316871387862,0.018260825791326422,0.018452564774934628,0.01908671074499192,0.01933641975308642,0.01957077924381773,0.020156828487041888,0.020284569416376835,0.01905524521030703,0.01858597047266377,0.01817378532962375,0.01789533464638287,0.017296660632102428,0.01694392915441403,0.016953658799870465,0.01644646716795032,0.016171072395318762,0.01580748624046773,0.015429914724684267,0.015064317879632973,0.015078234999323845,0.014800101378631506,0.014601626583960322,0.01464801841683149,0.013952839402818473,0.013905639211452245,0.01331204941133279,0.013003237306031703,0.012886973792030664,0.012344680054820293,0.01184937122761264,0.011594380219040735,0.011068173289918052,0.011069034934819436,0.010939433988343074,0.010799352501348955,0.010749675950041792,0.010816985692741619,0.010748468102702904,0.010456913288353228,0.009284496006214431,0.008930990537163959,0.008694480563225724,0.010324959668126297,0.010086089900886946,0.010199652422315077,0.010274494853221502,0.010519456339601564,0.010770551805103308,0.010900849887925435,0.009325643828775905,0.009520827535021802,0.009242611267671239,0.009212762737928922,0.009815947986236152,0.009754762767721912,0.009753553515956283,0.009772721846873732,0.009886255425238185,0.010139281649320018,0.009801651704910293,0.009568418872236216,0.0094224548647296,0.008946246226430657,0.008353447351261464,0.008040752958074725,0.007330000802466084,0.006625661954903708,0.005918892351452534,0.005521251167878915,0.0051155299066824285,0.004676542845582433,0.004270075996043944,0.0038066573828668972,0.0034549866502958443,0.003159184687059687,0.0030336735731967854,0.002878550336508602,0.002490834531251741,0.0024038162012583863,0.0022955207189187385,0.0023592643594696717,0.002375426122252324,0.0023932810428053722,0.002421437666433723,0.002341790338535089,0.002381674052474264,0.002412558869701727,0.0023899512658837542,0.002486524113488961,0.0025685818385699517,0.002633264726451951,0.0026904195339464486,0.0025612298377962347,0.0027198194058092114,0.002928413980847691,0.0031457072223564607,0.003206824822540045,0.003296315936914335,0.003538902806818566,0.0040258596333782055,0.0043227524143554675,0.004530417376488538,0.004769517007155585,0.004988664945947361,0.005200984547587078,0.0059037314771188225,0.006489967474610037,0.0071060416146274735,0.007680465205548817,0.008541917154404522,0.00889533256781141,0.009054032353088865,0.010873167394147114,0.011377654919126465,0.012039943276443149,0.013606852602285299,0.01443271819600428,0.014645048388116975,0.015303040708905875,0.016806830343153004,0.017566622228421234,0.01912474961250625,0.02042729759827662,0.02110726788788853,0.02156325609529127,0.02190045491753781,0.02353312801073995,0.023659572304938335,0.024950638612945025,0.02660806074884888,0.028230467941196772,0.028882284163832882,0.029266619711177704,0.030416481910657454,0.032883113774324735,0.03249786542540006,0.03139991534192456,0.032321638452197744,0.032720195106812885,0.03378034939666757,0.033017838583565426,0.03363074280142695,0.03535999681154221,0.0367458912556524,0.03703958041837987,0.0382092425352589,0.03741113718427182,0.03946102021174206,0.03907766176139386,0.03820792659311413,0.038472781353368034,0.037354643445016725,0.03615862932568026,0.035684146432653586,0.03263921073519463,0.029958732765331255,0.02890450679630488,0.02803032346831413,0.027348921689844954,0.02724401950536069,0.0269046786946835,0.027313039445255146,0.02657551559717355,0.025703359429641495,0.02438207889304246,0.023465068029683647,0.023215231511164388,0.023235938844030076,0.021843424957542556,0.020106712804999274,0.01850201682001529,0.017603935309115776,0.01778805159471435,0.017455924757610358,0.016662998122017356,0.01607959785183444,0.01542743281415422,0.013641071298786249,0.012222649121121889,0.010729214128647555,0.010241961433717634,0.010000616133454506,0.010091210486914276,0.009180702414287903,0.008583118533067015,0.00856235946712351,0.007888055140781622,0.007702460093209826,0.007675092792508673,0.006826584930233643,0.006428130400827763,0.006581583319532665,0.005892122848429415,0.005504596337942182,0.005514190859435242,0.005603251739129374,0.005404540566994422,0.005960539979231568,0.00579393205416673,0.005581083109561853,0.005385326999393345,0.005301594693988982,0.005165011265829394,0.004767311970901303,0.004084143191044409,0.003497317940889127,0.0033264910387576768,0.0031441144287614837,0.0031693326933820115,0.003065842620078836,0.0030869151098344796,0.0029313124520428664,0.0029207433039437044,0.0028611000750452475,0.002790403011479689,0.002795228990257671,0.002818947409748533,0.002839072271244649,0.002959428708423564,0.003042975238661556,0.0031330912952645344,0.0031037314728216236,0.003092213244828931,0.0031158001899654177,0.0031408573309082157,0.0028907359383309665,0.002786844968586571,0.0028338931931495186,0.0028875384269112314,0.0028362569819870343,0.0028968513028207565,0.003018934937512486,0.0031721939344920946,0.0032402352692565066,0.0031339925705017526,0.0030144493298117077,0.003135082003598805,0.003113644706670994,0.0031488095077899392,0.003148960225682343,0.0030504093536730583,0.003145935117006465,0.0032531372622402886,0.0031984527340564494,0.003231218542223327,0.0031823029025299077,0.003101931612034639,0.0032311583441618713,0.0034814468910521214,0.00341922473062201,0.0033875703055265788,0.003307841223621266,0.00327538422776518,0.0035552606316849654,0.0034002646789644403,0.0033390483648800544,0.003402880115174404,0.003428167609329227,0.0034428347802764546,0.003496859661867476,0.0032151675925840666,0.0032878980671989045,0.003287864646267011,0.003259362814204539,0.00319743063146334,0.003178068898592916,0.0031095840901943666,0.0032745362419304425,0.003356940670933418,0.0032466163043405874,0.0031334013980807507,0.003181486808227596,0.0032494748518184396,0.003373641389288298,0.003448620159282723,0.00339304208511765,0.003393905112069575,0.003586582924366175,0.0035942602803722763,0.0036027020265198897,0.003527705135556462,0.0034867643900343645,0.0035073927710412857,0.0035494745858292327,0.0035999079808399707,0.0036433964886274147,0.0036500142883121606,0.0037106464232488823,0.0038504825132231976,0.003912144745793702,0.004022201102818797,0.004081627621437976,0.004138228748781232,0.004174305000056156,0.004201422413903494,0.004429983268619277,0.004637040680959504,0.004719730425046832,0.004888979144131636,0.004863448788786177,0.004930182796442591,0.004937482039116691,0.00492887883351295,0.004987268262612034,0.004986507883410272,0.004991487152241113,0.005022005349132356,0.004997012900068748,0.005072632629975601,0.005063494235733263,0.004967117343710941,0.005006183834911054,0.005180583508977671,0.005214132643606432,0.005226007765171064,0.005201174335126127,0.005129195091288505,0.005257642405346953,0.00525751780532841,0.005077965657844156,0.005034275377401434,0.005026364189577391,0.005259740870727048,0.005052028210435613,0.005170620553861789,0.005321092206808439,0.0057959638581647635,0.005894245280332584,0.005875414751369644,0.005761231025977692,0.0066587979572518725,0.006864354438346449,0.007156047487850697,0.006957694624646895,0.006938265918374768,0.006981749248203873,0.007136169243616671,0.007140601787867965,0.007109554039459473,0.0072930027733954204,0.007425275075143137,0.007453094114215966,0.007549978732454275,0.007703971961319062,0.00777732529496026,0.007974271520501635,0.007647926599452062,0.007805189412953081,0.007973538918164325,0.007923759556193427,0.007867273042161914,0.007836146308931412,0.008259819433501674,0.00878596124116793,0.008859232451179975,0.008722099077272023,0.00883810127148843,0.009072362468732813,0.009004017672037859,0.008843797159948362,0.009028012463187917,0.008976722090261282,0.008933184254154297,0.00863282782817441,0.00860888795282224,0.008725021108922038],\"x\":[\"2020-01-22T00:00:00\",\"2020-01-23T00:00:00\",\"2020-01-24T00:00:00\",\"2020-01-25T00:00:00\",\"2020-01-26T00:00:00\",\"2020-01-27T00:00:00\",\"2020-01-28T00:00:00\",\"2020-01-29T00:00:00\",\"2020-01-30T00:00:00\",\"2020-01-31T00:00:00\",\"2020-02-01T00:00:00\",\"2020-02-02T00:00:00\",\"2020-02-03T00:00:00\",\"2020-02-04T00:00:00\",\"2020-02-05T00:00:00\",\"2020-02-06T00:00:00\",\"2020-02-07T00:00:00\",\"2020-02-08T00:00:00\",\"2020-02-09T00:00:00\",\"2020-02-10T00:00:00\",\"2020-02-11T00:00:00\",\"2020-02-12T00:00:00\",\"2020-02-13T00:00:00\",\"2020-02-14T00:00:00\",\"2020-02-15T00:00:00\",\"2020-02-16T00:00:00\",\"2020-02-17T00:00:00\",\"2020-02-18T00:00:00\",\"2020-02-19T00:00:00\",\"2020-02-20T00:00:00\",\"2020-02-21T00:00:00\",\"2020-02-22T00:00:00\",\"2020-02-23T00:00:00\",\"2020-02-24T00:00:00\",\"2020-02-25T00:00:00\",\"2020-02-26T00:00:00\",\"2020-02-27T00:00:00\",\"2020-02-28T00:00:00\",\"2020-02-29T00:00:00\",\"2020-03-01T00:00:00\",\"2020-03-02T00:00:00\",\"2020-03-03T00:00:00\",\"2020-03-04T00:00:00\",\"2020-03-05T00:00:00\",\"2020-03-06T00:00:00\",\"2020-03-07T00:00:00\",\"2020-03-08T00:00:00\",\"2020-03-09T00:00:00\",\"2020-03-10T00:00:00\",\"2020-03-11T00:00:00\",\"2020-03-12T00:00:00\",\"2020-03-13T00:00:00\",\"2020-03-14T00:00:00\",\"2020-03-15T00:00:00\",\"2020-03-16T00:00:00\",\"2020-03-17T00:00:00\",\"2020-03-18T00:00:00\",\"2020-03-19T00:00:00\",\"2020-03-20T00:00:00\",\"2020-03-21T00:00:00\",\"2020-03-22T00:00:00\",\"2020-03-23T00:00:00\",\"2020-03-24T00:00:00\",\"2020-03-25T00:00:00\",\"2020-03-26T00:00:00\",\"2020-03-27T00:00:00\",\"2020-03-28T00:00:00\",\"2020-03-29T00:00:00\",\"2020-03-30T00:00:00\",\"2020-03-31T00:00:00\",\"2020-04-01T00:00:00\",\"2020-04-02T00:00:00\",\"2020-04-03T00:00:00\",\"2020-04-04T00:00:00\",\"2020-04-05T00:00:00\",\"2020-04-06T00:00:00\",\"2020-04-07T00:00:00\",\"2020-04-08T00:00:00\",\"2020-04-09T00:00:00\",\"2020-04-10T00:00:00\",\"2020-04-11T00:00:00\",\"2020-04-12T00:00:00\",\"2020-04-13T00:00:00\",\"2020-04-14T00:00:00\",\"2020-04-15T00:00:00\",\"2020-04-16T00:00:00\",\"2020-04-17T00:00:00\",\"2020-04-18T00:00:00\",\"2020-04-19T00:00:00\",\"2020-04-20T00:00:00\",\"2020-04-21T00:00:00\",\"2020-04-22T00:00:00\",\"2020-04-23T00:00:00\",\"2020-04-24T00:00:00\",\"2020-04-25T00:00:00\",\"2020-04-26T00:00:00\",\"2020-04-27T00:00:00\",\"2020-04-28T00:00:00\",\"2020-04-29T00:00:00\",\"2020-04-30T00:00:00\",\"2020-05-01T00:00:00\",\"2020-05-02T00:00:00\",\"2020-05-03T00:00:00\",\"2020-05-04T00:00:00\",\"2020-05-05T00:00:00\",\"2020-05-06T00:00:00\",\"2020-05-07T00:00:00\",\"2020-05-08T00:00:00\",\"2020-05-09T00:00:00\",\"2020-05-10T00:00:00\",\"2020-05-11T00:00:00\",\"2020-05-12T00:00:00\",\"2020-05-13T00:00:00\",\"2020-05-14T00:00:00\",\"2020-05-15T00:00:00\",\"2020-05-16T00:00:00\",\"2020-05-17T00:00:00\",\"2020-05-18T00:00:00\",\"2020-05-19T00:00:00\",\"2020-05-20T00:00:00\",\"2020-05-21T00:00:00\",\"2020-05-22T00:00:00\",\"2020-05-23T00:00:00\",\"2020-05-24T00:00:00\",\"2020-05-25T00:00:00\",\"2020-05-26T00:00:00\",\"2020-05-27T00:00:00\",\"2020-05-28T00:00:00\",\"2020-05-29T00:00:00\",\"2020-05-30T00:00:00\",\"2020-05-31T00:00:00\",\"2020-06-01T00:00:00\",\"2020-06-02T00:00:00\",\"2020-06-03T00:00:00\",\"2020-06-04T00:00:00\",\"2020-06-05T00:00:00\",\"2020-06-06T00:00:00\",\"2020-06-07T00:00:00\",\"2020-06-08T00:00:00\",\"2020-06-09T00:00:00\",\"2020-06-10T00:00:00\",\"2020-06-11T00:00:00\",\"2020-06-12T00:00:00\",\"2020-06-13T00:00:00\",\"2020-06-14T00:00:00\",\"2020-06-15T00:00:00\",\"2020-06-16T00:00:00\",\"2020-06-17T00:00:00\",\"2020-06-18T00:00:00\",\"2020-06-19T00:00:00\",\"2020-06-20T00:00:00\",\"2020-06-21T00:00:00\",\"2020-06-22T00:00:00\",\"2020-06-23T00:00:00\",\"2020-06-24T00:00:00\",\"2020-06-25T00:00:00\",\"2020-06-26T00:00:00\",\"2020-06-27T00:00:00\",\"2020-06-28T00:00:00\",\"2020-06-29T00:00:00\",\"2020-06-30T00:00:00\",\"2020-07-01T00:00:00\",\"2020-07-02T00:00:00\",\"2020-07-03T00:00:00\",\"2020-07-04T00:00:00\",\"2020-07-05T00:00:00\",\"2020-07-06T00:00:00\",\"2020-07-07T00:00:00\",\"2020-07-08T00:00:00\",\"2020-07-09T00:00:00\",\"2020-07-10T00:00:00\",\"2020-07-11T00:00:00\",\"2020-07-12T00:00:00\",\"2020-07-13T00:00:00\",\"2020-07-14T00:00:00\",\"2020-07-15T00:00:00\",\"2020-07-16T00:00:00\",\"2020-07-17T00:00:00\",\"2020-07-18T00:00:00\",\"2020-07-19T00:00:00\",\"2020-07-20T00:00:00\",\"2020-07-21T00:00:00\",\"2020-07-22T00:00:00\",\"2020-07-23T00:00:00\",\"2020-07-24T00:00:00\",\"2020-07-25T00:00:00\",\"2020-07-26T00:00:00\",\"2020-07-27T00:00:00\",\"2020-07-28T00:00:00\",\"2020-07-29T00:00:00\",\"2020-07-30T00:00:00\",\"2020-07-31T00:00:00\",\"2020-08-01T00:00:00\",\"2020-08-02T00:00:00\",\"2020-08-03T00:00:00\",\"2020-08-04T00:00:00\",\"2020-08-05T00:00:00\",\"2020-08-06T00:00:00\",\"2020-08-07T00:00:00\",\"2020-08-08T00:00:00\",\"2020-08-09T00:00:00\",\"2020-08-10T00:00:00\",\"2020-08-11T00:00:00\",\"2020-08-12T00:00:00\",\"2020-08-13T00:00:00\",\"2020-08-14T00:00:00\",\"2020-08-15T00:00:00\",\"2020-08-16T00:00:00\",\"2020-08-17T00:00:00\",\"2020-08-18T00:00:00\",\"2020-08-19T00:00:00\",\"2020-08-20T00:00:00\",\"2020-08-21T00:00:00\",\"2020-08-22T00:00:00\",\"2020-08-23T00:00:00\",\"2020-08-24T00:00:00\",\"2020-08-25T00:00:00\",\"2020-08-26T00:00:00\",\"2020-08-27T00:00:00\",\"2020-08-28T00:00:00\",\"2020-08-29T00:00:00\",\"2020-08-30T00:00:00\",\"2020-08-31T00:00:00\",\"2020-09-01T00:00:00\",\"2020-09-02T00:00:00\",\"2020-09-03T00:00:00\",\"2020-09-04T00:00:00\",\"2020-09-05T00:00:00\",\"2020-09-06T00:00:00\",\"2020-09-07T00:00:00\",\"2020-09-08T00:00:00\",\"2020-09-09T00:00:00\",\"2020-09-10T00:00:00\",\"2020-09-11T00:00:00\",\"2020-09-12T00:00:00\",\"2020-09-13T00:00:00\",\"2020-09-14T00:00:00\",\"2020-09-15T00:00:00\",\"2020-09-16T00:00:00\",\"2020-09-17T00:00:00\",\"2020-09-18T00:00:00\",\"2020-09-19T00:00:00\",\"2020-09-20T00:00:00\",\"2020-09-21T00:00:00\",\"2020-09-22T00:00:00\",\"2020-09-23T00:00:00\",\"2020-09-24T00:00:00\",\"2020-09-25T00:00:00\",\"2020-09-26T00:00:00\",\"2020-09-27T00:00:00\",\"2020-09-28T00:00:00\",\"2020-09-29T00:00:00\",\"2020-09-30T00:00:00\",\"2020-10-01T00:00:00\",\"2020-10-02T00:00:00\",\"2020-10-03T00:00:00\",\"2020-10-04T00:00:00\",\"2020-10-05T00:00:00\",\"2020-10-06T00:00:00\",\"2020-10-07T00:00:00\",\"2020-10-08T00:00:00\",\"2020-10-09T00:00:00\",\"2020-10-10T00:00:00\",\"2020-10-11T00:00:00\",\"2020-10-12T00:00:00\",\"2020-10-13T00:00:00\",\"2020-10-14T00:00:00\",\"2020-10-15T00:00:00\",\"2020-10-16T00:00:00\",\"2020-10-17T00:00:00\",\"2020-10-18T00:00:00\",\"2020-10-19T00:00:00\",\"2020-10-20T00:00:00\",\"2020-10-21T00:00:00\",\"2020-10-22T00:00:00\",\"2020-10-23T00:00:00\",\"2020-10-24T00:00:00\",\"2020-10-25T00:00:00\",\"2020-10-26T00:00:00\",\"2020-10-27T00:00:00\",\"2020-10-28T00:00:00\",\"2020-10-29T00:00:00\",\"2020-10-30T00:00:00\",\"2020-10-31T00:00:00\",\"2020-11-01T00:00:00\",\"2020-11-02T00:00:00\",\"2020-11-03T00:00:00\",\"2020-11-04T00:00:00\",\"2020-11-05T00:00:00\",\"2020-11-06T00:00:00\",\"2020-11-07T00:00:00\",\"2020-11-08T00:00:00\",\"2020-11-09T00:00:00\",\"2020-11-10T00:00:00\",\"2020-11-11T00:00:00\",\"2020-11-12T00:00:00\",\"2020-11-13T00:00:00\",\"2020-11-14T00:00:00\",\"2020-11-15T00:00:00\",\"2020-11-16T00:00:00\",\"2020-11-17T00:00:00\",\"2020-11-18T00:00:00\",\"2020-11-19T00:00:00\",\"2020-11-20T00:00:00\",\"2020-11-21T00:00:00\",\"2020-11-22T00:00:00\",\"2020-11-23T00:00:00\",\"2020-11-24T00:00:00\",\"2020-11-25T00:00:00\",\"2020-11-26T00:00:00\",\"2020-11-27T00:00:00\",\"2020-11-28T00:00:00\",\"2020-11-29T00:00:00\",\"2020-11-30T00:00:00\",\"2020-12-01T00:00:00\",\"2020-12-02T00:00:00\",\"2020-12-03T00:00:00\",\"2020-12-04T00:00:00\",\"2020-12-05T00:00:00\",\"2020-12-06T00:00:00\",\"2020-12-07T00:00:00\",\"2020-12-08T00:00:00\",\"2020-12-09T00:00:00\",\"2020-12-10T00:00:00\",\"2020-12-11T00:00:00\",\"2020-12-12T00:00:00\",\"2020-12-13T00:00:00\",\"2020-12-14T00:00:00\",\"2020-12-15T00:00:00\",\"2020-12-16T00:00:00\",\"2020-12-17T00:00:00\",\"2020-12-18T00:00:00\",\"2020-12-19T00:00:00\",\"2020-12-20T00:00:00\",\"2020-12-21T00:00:00\",\"2020-12-22T00:00:00\",\"2020-12-23T00:00:00\",\"2020-12-24T00:00:00\",\"2020-12-25T00:00:00\",\"2020-12-26T00:00:00\",\"2020-12-27T00:00:00\",\"2020-12-28T00:00:00\",\"2020-12-29T00:00:00\",\"2020-12-30T00:00:00\",\"2020-12-31T00:00:00\",\"2021-01-01T00:00:00\",\"2021-01-02T00:00:00\",\"2021-01-03T00:00:00\",\"2021-01-04T00:00:00\",\"2021-01-05T00:00:00\",\"2021-01-06T00:00:00\",\"2021-01-07T00:00:00\",\"2021-01-08T00:00:00\",\"2021-01-09T00:00:00\",\"2021-01-10T00:00:00\",\"2021-01-11T00:00:00\",\"2021-01-12T00:00:00\",\"2021-01-13T00:00:00\",\"2021-01-14T00:00:00\",\"2021-01-15T00:00:00\",\"2021-01-16T00:00:00\",\"2021-01-17T00:00:00\",\"2021-01-18T00:00:00\",\"2021-01-19T00:00:00\",\"2021-01-20T00:00:00\",\"2021-01-21T00:00:00\",\"2021-01-22T00:00:00\",\"2021-01-23T00:00:00\",\"2021-01-24T00:00:00\",\"2021-01-25T00:00:00\",\"2021-01-26T00:00:00\",\"2021-01-27T00:00:00\",\"2021-01-28T00:00:00\",\"2021-01-29T00:00:00\",\"2021-01-30T00:00:00\",\"2021-01-31T00:00:00\",\"2021-02-01T00:00:00\",\"2021-02-02T00:00:00\",\"2021-02-03T00:00:00\",\"2021-02-04T00:00:00\",\"2021-02-05T00:00:00\",\"2021-02-06T00:00:00\",\"2021-02-07T00:00:00\",\"2021-02-08T00:00:00\",\"2021-02-09T00:00:00\",\"2021-02-10T00:00:00\",\"2021-02-11T00:00:00\",\"2021-02-12T00:00:00\",\"2021-02-13T00:00:00\",\"2021-02-14T00:00:00\",\"2021-02-15T00:00:00\",\"2021-02-16T00:00:00\",\"2021-02-17T00:00:00\",\"2021-02-18T00:00:00\",\"2021-02-19T00:00:00\",\"2021-02-20T00:00:00\",\"2021-02-21T00:00:00\",\"2021-02-22T00:00:00\",\"2021-02-23T00:00:00\",\"2021-02-24T00:00:00\",\"2021-02-25T00:00:00\",\"2021-02-26T00:00:00\",\"2021-02-27T00:00:00\",\"2021-02-28T00:00:00\",\"2021-03-01T00:00:00\",\"2021-03-02T00:00:00\",\"2021-03-03T00:00:00\",\"2021-03-04T00:00:00\",\"2021-03-05T00:00:00\",\"2021-03-06T00:00:00\",\"2021-03-07T00:00:00\",\"2021-03-08T00:00:00\",\"2021-03-09T00:00:00\",\"2021-03-10T00:00:00\",\"2021-03-11T00:00:00\",\"2021-03-12T00:00:00\",\"2021-03-13T00:00:00\",\"2021-03-14T00:00:00\",\"2021-03-15T00:00:00\",\"2021-03-16T00:00:00\",\"2021-03-17T00:00:00\",\"2021-03-18T00:00:00\",\"2021-03-19T00:00:00\",\"2021-03-20T00:00:00\",\"2021-03-21T00:00:00\",\"2021-03-22T00:00:00\",\"2021-03-23T00:00:00\",\"2021-03-24T00:00:00\",\"2021-03-25T00:00:00\",\"2021-03-26T00:00:00\",\"2021-03-27T00:00:00\",\"2021-03-28T00:00:00\",\"2021-03-29T00:00:00\",\"2021-03-30T00:00:00\",\"2021-03-31T00:00:00\",\"2021-04-01T00:00:00\",\"2021-04-02T00:00:00\",\"2021-04-03T00:00:00\",\"2021-04-04T00:00:00\",\"2021-04-05T00:00:00\",\"2021-04-06T00:00:00\",\"2021-04-07T00:00:00\",\"2021-04-08T00:00:00\",\"2021-04-09T00:00:00\",\"2021-04-10T00:00:00\",\"2021-04-11T00:00:00\",\"2021-04-12T00:00:00\",\"2021-04-13T00:00:00\",\"2021-04-14T00:00:00\",\"2021-04-15T00:00:00\",\"2021-04-16T00:00:00\",\"2021-04-17T00:00:00\",\"2021-04-18T00:00:00\",\"2021-04-19T00:00:00\",\"2021-04-20T00:00:00\",\"2021-04-21T00:00:00\",\"2021-04-22T00:00:00\",\"2021-04-23T00:00:00\",\"2021-04-24T00:00:00\",\"2021-04-25T00:00:00\",\"2021-04-26T00:00:00\",\"2021-04-27T00:00:00\",\"2021-04-28T00:00:00\",\"2021-04-29T00:00:00\",\"2021-04-30T00:00:00\",\"2021-05-01T00:00:00\",\"2021-05-02T00:00:00\",\"2021-05-03T00:00:00\",\"2021-05-04T00:00:00\",\"2021-05-05T00:00:00\",\"2021-05-06T00:00:00\",\"2021-05-07T00:00:00\",\"2021-05-08T00:00:00\",\"2021-05-09T00:00:00\",\"2021-05-10T00:00:00\",\"2021-05-11T00:00:00\",\"2021-05-12T00:00:00\",\"2021-05-13T00:00:00\",\"2021-05-14T00:00:00\",\"2021-05-15T00:00:00\",\"2021-05-16T00:00:00\",\"2021-05-17T00:00:00\",\"2021-05-18T00:00:00\",\"2021-05-19T00:00:00\",\"2021-05-20T00:00:00\",\"2021-05-21T00:00:00\",\"2021-05-22T00:00:00\",\"2021-05-23T00:00:00\",\"2021-05-24T00:00:00\",\"2021-05-25T00:00:00\",\"2021-05-26T00:00:00\",\"2021-05-27T00:00:00\",\"2021-05-28T00:00:00\",\"2021-05-29T00:00:00\",\"2021-05-30T00:00:00\",\"2021-05-31T00:00:00\",\"2021-06-01T00:00:00\",\"2021-06-02T00:00:00\",\"2021-06-03T00:00:00\",\"2021-06-04T00:00:00\",\"2021-06-05T00:00:00\",\"2021-06-06T00:00:00\",\"2021-06-07T00:00:00\",\"2021-06-08T00:00:00\",\"2021-06-09T00:00:00\",\"2021-06-10T00:00:00\",\"2021-06-11T00:00:00\",\"2021-06-12T00:00:00\",\"2021-06-13T00:00:00\",\"2021-06-14T00:00:00\",\"2021-06-15T00:00:00\",\"2021-06-16T00:00:00\",\"2021-06-17T00:00:00\",\"2021-06-18T00:00:00\",\"2021-06-19T00:00:00\",\"2021-06-20T00:00:00\",\"2021-06-21T00:00:00\",\"2021-06-22T00:00:00\",\"2021-06-23T00:00:00\",\"2021-06-24T00:00:00\",\"2021-06-25T00:00:00\",\"2021-06-26T00:00:00\",\"2021-06-27T00:00:00\",\"2021-06-28T00:00:00\",\"2021-06-29T00:00:00\",\"2021-06-30T00:00:00\",\"2021-07-01T00:00:00\",\"2021-07-02T00:00:00\",\"2021-07-03T00:00:00\",\"2021-07-04T00:00:00\",\"2021-07-05T00:00:00\",\"2021-07-06T00:00:00\",\"2021-07-07T00:00:00\",\"2021-07-08T00:00:00\",\"2021-07-09T00:00:00\",\"2021-07-10T00:00:00\",\"2021-07-11T00:00:00\",\"2021-07-12T00:00:00\",\"2021-07-13T00:00:00\",\"2021-07-14T00:00:00\",\"2021-07-15T00:00:00\",\"2021-07-16T00:00:00\",\"2021-07-17T00:00:00\",\"2021-07-18T00:00:00\",\"2021-07-19T00:00:00\",\"2021-07-20T00:00:00\",\"2021-07-21T00:00:00\",\"2021-07-22T00:00:00\",\"2021-07-23T00:00:00\",\"2021-07-24T00:00:00\",\"2021-07-25T00:00:00\",\"2021-07-26T00:00:00\",\"2021-07-27T00:00:00\",\"2021-07-28T00:00:00\",\"2021-07-29T00:00:00\",\"2021-07-30T00:00:00\",\"2021-07-31T00:00:00\",\"2021-08-01T00:00:00\",\"2021-08-02T00:00:00\",\"2021-08-03T00:00:00\",\"2021-08-04T00:00:00\",\"2021-08-05T00:00:00\",\"2021-08-06T00:00:00\",\"2021-08-07T00:00:00\",\"2021-08-08T00:00:00\",\"2021-08-09T00:00:00\",\"2021-08-10T00:00:00\",\"2021-08-11T00:00:00\",\"2021-08-12T00:00:00\",\"2021-08-13T00:00:00\",\"2021-08-14T00:00:00\",\"2021-08-15T00:00:00\",\"2021-08-16T00:00:00\",\"2021-08-17T00:00:00\",\"2021-08-18T00:00:00\",\"2021-08-19T00:00:00\",\"2021-08-20T00:00:00\",\"2021-08-21T00:00:00\",\"2021-08-22T00:00:00\",\"2021-08-23T00:00:00\",\"2021-08-24T00:00:00\",\"2021-08-25T00:00:00\",\"2021-08-26T00:00:00\",\"2021-08-27T00:00:00\",\"2021-08-28T00:00:00\",\"2021-08-29T00:00:00\",\"2021-08-30T00:00:00\",\"2021-08-31T00:00:00\",\"2021-09-01T00:00:00\",\"2021-09-02T00:00:00\",\"2021-09-03T00:00:00\",\"2021-09-04T00:00:00\",\"2021-09-05T00:00:00\",\"2021-09-06T00:00:00\",\"2021-09-07T00:00:00\",\"2021-09-08T00:00:00\",\"2021-09-09T00:00:00\",\"2021-09-10T00:00:00\",\"2021-09-11T00:00:00\",\"2021-09-12T00:00:00\",\"2021-09-13T00:00:00\",\"2021-09-14T00:00:00\",\"2021-09-15T00:00:00\",\"2021-09-16T00:00:00\",\"2021-09-17T00:00:00\",\"2021-09-18T00:00:00\",\"2021-09-19T00:00:00\",\"2021-09-20T00:00:00\",\"2021-09-21T00:00:00\",\"2021-09-22T00:00:00\",\"2021-09-23T00:00:00\",\"2021-09-24T00:00:00\",\"2021-09-25T00:00:00\",\"2021-09-26T00:00:00\",\"2021-09-27T00:00:00\",\"2021-09-28T00:00:00\",\"2021-09-29T00:00:00\",\"2021-09-30T00:00:00\",\"2021-10-01T00:00:00\",\"2021-10-02T00:00:00\",\"2021-10-03T00:00:00\",\"2021-10-04T00:00:00\",\"2021-10-05T00:00:00\",\"2021-10-06T00:00:00\",\"2021-10-07T00:00:00\",\"2021-10-08T00:00:00\",\"2021-10-09T00:00:00\",\"2021-10-10T00:00:00\",\"2021-10-11T00:00:00\",\"2021-10-12T00:00:00\",\"2021-10-13T00:00:00\",\"2021-10-14T00:00:00\",\"2021-10-15T00:00:00\",\"2021-10-16T00:00:00\",\"2021-10-17T00:00:00\",\"2021-10-18T00:00:00\",\"2021-10-19T00:00:00\",\"2021-10-20T00:00:00\",\"2021-10-21T00:00:00\",\"2021-10-22T00:00:00\",\"2021-10-23T00:00:00\",\"2021-10-24T00:00:00\",\"2021-10-25T00:00:00\",\"2021-10-26T00:00:00\",\"2021-10-27T00:00:00\",\"2021-10-28T00:00:00\",\"2021-10-29T00:00:00\",\"2021-10-30T00:00:00\",\"2021-10-31T00:00:00\",\"2021-11-01T00:00:00\",\"2021-11-02T00:00:00\",\"2021-11-03T00:00:00\",\"2021-11-04T00:00:00\",\"2021-11-05T00:00:00\",\"2021-11-06T00:00:00\",\"2021-11-07T00:00:00\",\"2021-11-08T00:00:00\",\"2021-11-09T00:00:00\",\"2021-11-10T00:00:00\",\"2021-11-11T00:00:00\",\"2021-11-12T00:00:00\",\"2021-11-13T00:00:00\",\"2021-11-14T00:00:00\",\"2021-11-15T00:00:00\",\"2021-11-16T00:00:00\",\"2021-11-17T00:00:00\",\"2021-11-18T00:00:00\",\"2021-11-19T00:00:00\",\"2021-11-20T00:00:00\",\"2021-11-21T00:00:00\",\"2021-11-22T00:00:00\",\"2021-11-23T00:00:00\",\"2021-11-24T00:00:00\",\"2021-11-25T00:00:00\",\"2021-11-26T00:00:00\",\"2021-11-27T00:00:00\",\"2021-11-28T00:00:00\",\"2021-11-29T00:00:00\",\"2021-11-30T00:00:00\",\"2021-12-01T00:00:00\",\"2021-12-02T00:00:00\",\"2021-12-03T00:00:00\",\"2021-12-04T00:00:00\",\"2021-12-05T00:00:00\",\"2021-12-06T00:00:00\",\"2021-12-07T00:00:00\",\"2021-12-08T00:00:00\",\"2021-12-09T00:00:00\",\"2021-12-10T00:00:00\",\"2021-12-11T00:00:00\",\"2021-12-12T00:00:00\",\"2021-12-13T00:00:00\",\"2021-12-14T00:00:00\",\"2021-12-15T00:00:00\",\"2021-12-16T00:00:00\",\"2021-12-17T00:00:00\",\"2021-12-18T00:00:00\",\"2021-12-19T00:00:00\",\"2021-12-20T00:00:00\",\"2021-12-21T00:00:00\",\"2021-12-22T00:00:00\",\"2021-12-23T00:00:00\",\"2021-12-24T00:00:00\",\"2021-12-25T00:00:00\",\"2021-12-26T00:00:00\",\"2021-12-27T00:00:00\",\"2021-12-28T00:00:00\",\"2021-12-29T00:00:00\",\"2021-12-30T00:00:00\",\"2021-12-31T00:00:00\",\"2022-01-01T00:00:00\",\"2022-01-02T00:00:00\",\"2022-01-03T00:00:00\",\"2022-01-04T00:00:00\",\"2022-01-05T00:00:00\",\"2022-01-06T00:00:00\",\"2022-01-07T00:00:00\",\"2022-01-08T00:00:00\",\"2022-01-09T00:00:00\",\"2022-01-10T00:00:00\",\"2022-01-11T00:00:00\",\"2022-01-12T00:00:00\",\"2022-01-13T00:00:00\",\"2022-01-14T00:00:00\",\"2022-01-15T00:00:00\",\"2022-01-16T00:00:00\",\"2022-01-17T00:00:00\",\"2022-01-18T00:00:00\",\"2022-01-19T00:00:00\",\"2022-01-20T00:00:00\",\"2022-01-21T00:00:00\",\"2022-01-22T00:00:00\",\"2022-01-23T00:00:00\",\"2022-01-24T00:00:00\",\"2022-01-25T00:00:00\",\"2022-01-26T00:00:00\",\"2022-01-27T00:00:00\",\"2022-01-28T00:00:00\",\"2022-01-29T00:00:00\",\"2022-01-30T00:00:00\",\"2022-01-31T00:00:00\",\"2022-02-01T00:00:00\",\"2022-02-02T00:00:00\",\"2022-02-03T00:00:00\",\"2022-02-04T00:00:00\",\"2022-02-05T00:00:00\",\"2022-02-06T00:00:00\",\"2022-02-07T00:00:00\",\"2022-02-08T00:00:00\",\"2022-02-09T00:00:00\",\"2022-02-10T00:00:00\",\"2022-02-11T00:00:00\",\"2022-02-12T00:00:00\",\"2022-02-13T00:00:00\",\"2022-02-14T00:00:00\",\"2022-02-15T00:00:00\",\"2022-02-16T00:00:00\",\"2022-02-17T00:00:00\",\"2022-02-18T00:00:00\",\"2022-02-19T00:00:00\",\"2022-02-20T00:00:00\",\"2022-02-21T00:00:00\",\"2022-02-22T00:00:00\",\"2022-02-23T00:00:00\",\"2022-02-24T00:00:00\",\"2022-02-25T00:00:00\",\"2022-02-26T00:00:00\",\"2022-02-27T00:00:00\",\"2022-02-28T00:00:00\",\"2022-03-01T00:00:00\",\"2022-03-02T00:00:00\",\"2022-03-03T00:00:00\",\"2022-03-04T00:00:00\",\"2022-03-05T00:00:00\",\"2022-03-06T00:00:00\",\"2022-03-07T00:00:00\",\"2022-03-08T00:00:00\",\"2022-03-09T00:00:00\",\"2022-03-10T00:00:00\",\"2022-03-11T00:00:00\",\"2022-03-12T00:00:00\",\"2022-03-13T00:00:00\",\"2022-03-14T00:00:00\",\"2022-03-15T00:00:00\",\"2022-03-16T00:00:00\",\"2022-03-17T00:00:00\",\"2022-03-18T00:00:00\",\"2022-03-19T00:00:00\",\"2022-03-20T00:00:00\",\"2022-03-21T00:00:00\",\"2022-03-22T00:00:00\",\"2022-03-23T00:00:00\",\"2022-03-24T00:00:00\",\"2022-03-25T00:00:00\",\"2022-03-26T00:00:00\",\"2022-03-27T00:00:00\",\"2022-03-28T00:00:00\",\"2022-03-29T00:00:00\",\"2022-03-30T00:00:00\",\"2022-03-31T00:00:00\",\"2022-04-01T00:00:00\",\"2022-04-02T00:00:00\",\"2022-04-03T00:00:00\",\"2022-04-04T00:00:00\",\"2022-04-05T00:00:00\",\"2022-04-06T00:00:00\",\"2022-04-07T00:00:00\",\"2022-04-08T00:00:00\",\"2022-04-09T00:00:00\",\"2022-04-10T00:00:00\",\"2022-04-11T00:00:00\",\"2022-04-12T00:00:00\",\"2022-04-13T00:00:00\",\"2022-04-14T00:00:00\",\"2022-04-15T00:00:00\",\"2022-04-16T00:00:00\",\"2022-04-17T00:00:00\",\"2022-04-18T00:00:00\",\"2022-04-19T00:00:00\",\"2022-04-20T00:00:00\",\"2022-04-21T00:00:00\",\"2022-04-22T00:00:00\",\"2022-04-23T00:00:00\",\"2022-04-24T00:00:00\",\"2022-04-25T00:00:00\",\"2022-04-26T00:00:00\",\"2022-04-27T00:00:00\",\"2022-04-28T00:00:00\",\"2022-04-29T00:00:00\",\"2022-04-30T00:00:00\",\"2022-05-01T00:00:00\",\"2022-05-02T00:00:00\",\"2022-05-03T00:00:00\",\"2022-05-04T00:00:00\",\"2022-05-05T00:00:00\",\"2022-05-06T00:00:00\",\"2022-05-07T00:00:00\",\"2022-05-08T00:00:00\",\"2022-05-09T00:00:00\",\"2022-05-10T00:00:00\",\"2022-05-11T00:00:00\",\"2022-05-12T00:00:00\",\"2022-05-13T00:00:00\",\"2022-05-14T00:00:00\",\"2022-05-15T00:00:00\",\"2022-05-16T00:00:00\",\"2022-05-17T00:00:00\",\"2022-05-18T00:00:00\",\"2022-05-19T00:00:00\",\"2022-05-20T00:00:00\",\"2022-05-21T00:00:00\",\"2022-05-22T00:00:00\",\"2022-05-23T00:00:00\",\"2022-05-24T00:00:00\",\"2022-05-25T00:00:00\",\"2022-05-26T00:00:00\",\"2022-05-27T00:00:00\",\"2022-05-28T00:00:00\",\"2022-05-29T00:00:00\",\"2022-05-30T00:00:00\",\"2022-05-31T00:00:00\",\"2022-06-01T00:00:00\",\"2022-06-02T00:00:00\",\"2022-06-03T00:00:00\",\"2022-06-04T00:00:00\",\"2022-06-05T00:00:00\",\"2022-06-06T00:00:00\",\"2022-06-07T00:00:00\",\"2022-06-08T00:00:00\",\"2022-06-09T00:00:00\",\"2022-06-10T00:00:00\",\"2022-06-11T00:00:00\",\"2022-06-12T00:00:00\",\"2022-06-13T00:00:00\",\"2022-06-14T00:00:00\",\"2022-06-15T00:00:00\",\"2022-06-16T00:00:00\",\"2022-06-17T00:00:00\",\"2022-06-18T00:00:00\",\"2022-06-19T00:00:00\",\"2022-06-20T00:00:00\",\"2022-06-21T00:00:00\",\"2022-06-22T00:00:00\",\"2022-06-23T00:00:00\",\"2022-06-24T00:00:00\",\"2022-06-25T00:00:00\",\"2022-06-26T00:00:00\",\"2022-06-27T00:00:00\",\"2022-06-28T00:00:00\",\"2022-06-29T00:00:00\",\"2022-06-30T00:00:00\",\"2022-07-01T00:00:00\",\"2022-07-02T00:00:00\",\"2022-07-03T00:00:00\",\"2022-07-04T00:00:00\",\"2022-07-05T00:00:00\",\"2022-07-06T00:00:00\",\"2022-07-07T00:00:00\",\"2022-07-08T00:00:00\",\"2022-07-09T00:00:00\",\"2022-07-10T00:00:00\",\"2022-07-11T00:00:00\",\"2022-07-12T00:00:00\",\"2022-07-13T00:00:00\",\"2022-07-14T00:00:00\",\"2022-07-15T00:00:00\",\"2022-07-16T00:00:00\",\"2022-07-17T00:00:00\",\"2022-07-18T00:00:00\",\"2022-07-19T00:00:00\",\"2022-07-20T00:00:00\",\"2022-07-21T00:00:00\",\"2022-07-22T00:00:00\",\"2022-07-23T00:00:00\",\"2022-07-24T00:00:00\",\"2022-07-25T00:00:00\",\"2022-07-26T00:00:00\",\"2022-07-27T00:00:00\",\"2022-07-28T00:00:00\",\"2022-07-29T00:00:00\",\"2022-07-30T00:00:00\",\"2022-07-31T00:00:00\",\"2022-08-01T00:00:00\",\"2022-08-02T00:00:00\",\"2022-08-03T00:00:00\",\"2022-08-04T00:00:00\",\"2022-08-05T00:00:00\",\"2022-08-06T00:00:00\",\"2022-08-07T00:00:00\",\"2022-08-08T00:00:00\",\"2022-08-09T00:00:00\",\"2022-08-10T00:00:00\",\"2022-08-11T00:00:00\",\"2022-08-12T00:00:00\",\"2022-08-13T00:00:00\",\"2022-08-14T00:00:00\",\"2022-08-15T00:00:00\",\"2022-08-16T00:00:00\",\"2022-08-17T00:00:00\",\"2022-08-18T00:00:00\",\"2022-08-19T00:00:00\",\"2022-08-20T00:00:00\",\"2022-08-21T00:00:00\",\"2022-08-22T00:00:00\",\"2022-08-23T00:00:00\",\"2022-08-24T00:00:00\",\"2022-08-25T00:00:00\",\"2022-08-26T00:00:00\",\"2022-08-27T00:00:00\",\"2022-08-28T00:00:00\",\"2022-08-29T00:00:00\",\"2022-08-30T00:00:00\",\"2022-08-31T00:00:00\",\"2022-09-01T00:00:00\",\"2022-09-02T00:00:00\",\"2022-09-03T00:00:00\",\"2022-09-04T00:00:00\",\"2022-09-05T00:00:00\",\"2022-09-06T00:00:00\",\"2022-09-07T00:00:00\",\"2022-09-08T00:00:00\",\"2022-09-09T00:00:00\",\"2022-09-10T00:00:00\",\"2022-09-11T00:00:00\",\"2022-09-12T00:00:00\",\"2022-09-13T00:00:00\",\"2022-09-14T00:00:00\",\"2022-09-15T00:00:00\",\"2022-09-16T00:00:00\",\"2022-09-17T00:00:00\",\"2022-09-18T00:00:00\",\"2022-09-19T00:00:00\",\"2022-09-20T00:00:00\",\"2022-09-21T00:00:00\",\"2022-09-22T00:00:00\",\"2022-09-23T00:00:00\",\"2022-09-24T00:00:00\",\"2022-09-25T00:00:00\",\"2022-09-26T00:00:00\",\"2022-09-27T00:00:00\",\"2022-09-28T00:00:00\",\"2022-09-29T00:00:00\",\"2022-09-30T00:00:00\",\"2022-10-01T00:00:00\",\"2022-10-02T00:00:00\",\"2022-10-03T00:00:00\",\"2022-10-04T00:00:00\",\"2022-10-05T00:00:00\",\"2022-10-06T00:00:00\",\"2022-10-07T00:00:00\",\"2022-10-08T00:00:00\",\"2022-10-09T00:00:00\",\"2022-10-10T00:00:00\",\"2022-10-11T00:00:00\",\"2022-10-12T00:00:00\",\"2022-10-13T00:00:00\",\"2022-10-14T00:00:00\",\"2022-10-15T00:00:00\",\"2022-10-16T00:00:00\",\"2022-10-17T00:00:00\",\"2022-10-18T00:00:00\"],\"y\":[null,null,null,null,null,null,0.0,0.0,0.0,0.0,0.0,0.0,0.0,0.0,0.0,0.0,0.0,0.0,0.0,0.0,0.0,0.0,0.0,0.0,0.0,0.0,0.0,0.0,0.0,0.0,0.0,0.0,0.0,0.0,0.0,0.0,0.14285714285714285,0.14285714285714285,0.2857142857142857,0.2857142857142857,1.1428571428571428,1.5714285714285714,1.8571428571428572,2.142857142857143,2.5714285714285716,3.142857142857143,3.7142857142857144,3.4285714285714284,4.0,5.428571428571429,6.0,7.142857142857143,8.285714285714286,10.285714285714286,12.714285714285714,15.714285714285714,23.142857142857142,32.0,43.57142857142857,57.714285714285715,72.14285714285714,92.71428571428571,118.57142857142857,152.42857142857142,191.28571428571428,247.71428571428572,311.14285714285717,389.2857142857143,456.0,566.5714285714286,684.0,822.8571428571429,950.4285714285714,1091.2857142857142,1264.0,1415.5714285714287,1575.2857142857142,1732.4285714285713,1864.5714285714287,1987.857142857143,2081.1428571428573,2078.5714285714284,2109.285714285714,2157.4285714285716,2230.5714285714284,2260.1428571428573,2274.0,2224.5714285714284,2244.1428571428573,2268.5714285714284,2302.4285714285716,2230.1428571428573,2165.4285714285716,2131.8571428571427,2138.0,2072.714285714286,1988.5714285714287,1908.857142857143,1935.7142857142858,1971.142857142857,1949.5714285714287,1909.4285714285713,1891.5714285714287,1860.5714285714287,1906.2857142857142,1895.4285714285713,1866.5714285714287,1824.857142857143,1808.0,1759.5714285714287,1725.857142857143,1597.142857142857,1478.4285714285713,1465.0,1449.0,1412.857142857143,1392.0,1379.142857142857,1328.142857142857,1308.857142857143,1185.857142857143,1223.142857142857,1180.142857142857,1160.2857142857142,1123.142857142857,1070.857142857143,1058.0,1082.2857142857142,973.7142857142857,969.4285714285714,953.0,954.1428571428571,971.4285714285714,933.8571428571429,881.5714285714286,856.5714285714286,822.2857142857143,810.8571428571429,822.4285714285714,807.4285714285714,787.7142857142857,787.8571428571429,767.8571428571429,770.1428571428571,755.2857142857143,719.4285714285714,697.2857142857143,668.7142857142857,633.7142857142857,636.7142857142857,621.1428571428571,610.2857142857143,594.5714285714286,605.0,606.2857142857143,615.7142857142857,608.5714285714286,611.1428571428571,614.8571428571429,621.4285714285714,609.2857142857143,622.0,621.4285714285714,636.2857142857143,628.4285714285714,631.5714285714286,651.2857142857143,689.5714285714286,732.1428571428571,769.0,791.5714285714286,841.5714285714286,895.7142857142857,914.8571428571429,913.0,919.5714285714286,938.0,954.4285714285714,971.0,984.1428571428571,1003.2857142857143,1043.2857142857142,1053.142857142857,1076.4285714285713,1106.4285714285713,1126.857142857143,1129.7142857142858,1140.5714285714287,1136.2857142857142,1134.4285714285713,1155.857142857143,1167.7142857142858,1170.142857142857,1165.857142857143,1154.4285714285713,1142.4285714285713,1155.2857142857142,1128.2857142857142,1121.2857142857142,1103.857142857143,1100.7142857142858,1092.5714285714287,1096.0,1105.2857142857142,1104.0,1065.857142857143,1052.857142857143,1051.2857142857142,1028.7142857142858,1004.8571428571429,996.4285714285714,967.4285714285714,961.8571428571429,969.5714285714286,962.2857142857143,954.7142857142857,947.7142857142857,918.5714285714286,910.5714285714286,913.5714285714286,889.7142857142857,872.4285714285714,868.0,863.8571428571429,838.1428571428571,839.1428571428571,821.8571428571429,816.7142857142857,812.8571428571429,793.1428571428571,751.2857142857143,743.5714285714286,728.7142857142857,721.7142857142857,701.5714285714286,706.2857142857143,699.1428571428571,736.0,775.2857142857143,759.5714285714286,750.4285714285714,752.1428571428571,718.1428571428571,742.5714285714286,720.1428571428571,691.1428571428571,692.4285714285714,689.0,687.5714285714286,690.5714285714286,672.4285714285714,691.0,659.5714285714286,658.8571428571429,677.1428571428571,663.0,677.5714285714286,691.5714285714286,669.5714285714286,683.4285714285714,683.4285714285714,666.8571428571429,683.4285714285714,679.4285714285714,676.8571428571429,678.5714285714286,684.8571428571429,678.8571428571429,691.8571428571429,693.5714285714286,715.7142857142857,732.7142857142857,753.2857142857143,786.7142857142857,817.8571428571429,823.4285714285714,843.8571428571429,826.0,836.2857142857143,849.8571428571429,849.7142857142857,878.0,876.7142857142857,891.8571428571429,907.0,915.0,934.5714285714286,969.1428571428571,985.7142857142857,1036.4285714285713,1058.2857142857142,1083.4285714285713,1111.2857142857142,1138.4285714285713,1168.857142857143,1185.7142857142858,1187.857142857143,1241.7142857142858,1262.0,1276.2857142857142,1329.4285714285713,1376.4285714285713,1459.857142857143,1559.0,1595.0,1635.5714285714287,1690.4285714285713,1734.142857142857,1800.2857142857142,1763.142857142857,1719.4285714285713,1688.2857142857142,1684.7142857142858,1705.5714285714287,1776.5714285714287,1842.5714285714287,1995.4285714285713,2129.0,2253.285714285714,2297.0,2355.4285714285716,2380.714285714286,2461.5714285714284,2458.1428571428573,2542.0,2551.4285714285716,2616.0,2615.5714285714284,2643.714285714286,2651.714285714286,2741.1428571428573,2709.285714285714,2750.285714285714,2757.8571428571427,2782.1428571428573,2801.8571428571427,2779.8571428571427,2734.285714285714,2628.8571428571427,2476.5714285714284,2449.4285714285716,2457.4285714285716,2522.5714285714284,2598.285714285714,2704.5714285714284,2820.5714285714284,2926.285714285714,2946.4285714285716,2923.5714285714284,2944.4285714285716,2956.714285714286,2989.0,3086.285714285714,3230.285714285714,3303.4285714285716,3374.8571428571427,3390.1428571428573,3422.1428571428573,3388.714285714286,3340.714285714286,3360.4285714285716,3365.1428571428573,3323.5714285714284,3200.714285714286,3167.4285714285716,3181.714285714286,3223.8571428571427,3156.0,3139.1428571428573,3109.714285714286,3227.714285714286,3242.714285714286,3244.714285714286,3186.714285714286,3151.8571428571427,3125.4285714285716,3153.0,3062.4285714285716,2967.5714285714284,2860.4285714285716,2878.4285714285716,2875.4285714285716,2801.0,2720.0,2652.0,2584.8571428571427,2602.285714285714,2474.0,2374.8571428571427,2346.0,2305.714285714286,2153.714285714286,2064.0,1922.2857142857142,1898.7142857142858,1859.2857142857142,1852.857142857143,1869.5714285714287,1914.5714285714287,1884.5714285714287,1970.2857142857142,1916.7142857142858,1887.4285714285713,1815.7142857142858,1790.7142857142858,1706.0,1694.0,1502.4285714285713,1496.142857142857,1445.5714285714287,1427.142857142857,1351.5714285714287,1341.5714285714287,1296.2857142857142,1268.0,1182.142857142857,1136.2857142857142,1101.4285714285713,1085.7142857142858,1055.857142857143,984.0,932.5714285714286,897.4285714285714,863.4285714285714,849.0,884.2857142857143,870.1428571428571,877.1428571428571,880.4285714285714,875.5714285714286,894.4285714285714,903.7142857142857,847.8571428571429,844.0,819.0,796.0,767.2857142857143,747.1428571428571,735.0,709.1428571428571,712.1428571428571,693.7142857142857,700.5714285714286,700.4285714285714,704.7142857142857,695.7142857142857,720.7142857142857,722.1428571428571,717.0,706.5714285714286,702.7142857142857,686.8571428571429,692.2857142857143,682.0,681.1428571428571,680.1428571428571,680.1428571428571,684.2857142857143,687.5714285714286,677.2857142857143,679.2857142857143,650.2857142857143,659.1428571428571,654.1428571428571,649.0,643.8571428571429,653.2857142857143,652.4285714285714,672.2857142857143,655.7142857142857,643.1428571428571,644.2857142857143,643.7142857142857,630.7142857142857,620.4285714285714,609.4285714285714,604.2857142857143,591.7142857142857,576.5714285714286,552.4285714285714,556.5714285714286,551.2857142857143,551.1428571428571,537.0,531.1428571428571,523.0,518.0,496.42857142857144,492.7142857142857,479.85714285714283,469.85714285714283,470.57142857142856,478.14285714285717,462.7142857142857,458.0,442.14285714285717,415.42857142857144,412.0,401.7142857142857,384.42857142857144,397.7142857142857,421.7142857142857,434.85714285714283,432.14285714285717,413.7142857142857,400.42857142857144,374.14285714285717,347.42857142857144,308.57142857142856,291.42857142857144,291.85714285714283,287.2857142857143,272.0,253.42857142857142,259.57142857142856,269.7142857142857,278.7142857142857,277.14285714285717,275.7142857142857,281.0,299.57142857142856,298.2857142857143,291.42857142857144,279.14285714285717,275.7142857142857,263.85714285714283,260.14285714285717,246.28571428571428,233.42857142857142,226.28571428571428,214.85714285714286,217.71428571428572,218.57142857142858,214.71428571428572,216.28571428571428,215.85714285714286,215.14285714285714,242.71428571428572,247.85714285714286,261.2857142857143,269.2857142857143,276.85714285714283,281.85714285714283,285.7142857142857,284.2857142857143,281.85714285714283,289.85714285714283,293.0,299.2857142857143,309.42857142857144,324.0,342.0,368.0,382.0,404.2857142857143,420.42857142857144,440.57142857142856,458.2857142857143,493.57142857142856,522.1428571428571,557.5714285714286,594.7142857142857,640.2857142857143,676.8571428571429,699.2857142857143,709.1428571428571,746.8571428571429,728.0,760.1428571428571,809.0,845.5714285714286,867.5714285714286,885.5714285714286,919.0,1045.0,1100.0,1152.4285714285713,1190.857142857143,1220.5714285714287,1264.0,1330.0,1352.2857142857142,1406.2857142857142,1443.2857142857142,1484.142857142857,1521.5714285714287,1533.7142857142858,1549.2857142857142,1598.0,1638.4285714285713,1659.0,1664.0,1682.142857142857,1659.4285714285713,1614.7142857142858,1626.857142857143,1659.5714285714287,1702.2857142857142,1737.4285714285713,1716.4285714285713,1752.4285714285713,1889.0,1936.4285714285713,1912.7142857142858,1920.4285714285713,1898.4285714285713,1903.2857142857142,1903.0,1893.0,1876.142857142857,1871.2857142857142,1885.857142857143,1863.857142857143,1840.0,1867.7142857142858,1837.7142857142858,1825.5714285714287,1808.142857142857,1774.142857142857,1752.857142857143,1742.2857142857142,1709.4285714285713,1698.857142857143,1670.4285714285713,1640.857142857143,1647.0,1613.4285714285713,1583.5714285714287,1538.5714285714287,1517.142857142857,1486.142857142857,1464.2857142857142,1430.4285714285713,1407.5714285714287,1402.5714285714287,1451.0,1442.5714285714287,1438.857142857143,1432.0,1418.4285714285713,1384.4285714285713,1336.4285714285713,1288.4285714285713,1313.5714285714287,1304.5714285714287,1269.4285714285713,1246.142857142857,1217.4285714285713,1211.5714285714287,1234.857142857143,1150.4285714285713,1113.142857142857,1102.7142857142858,1079.5714285714287,1083.142857142857,1076.142857142857,1075.4285714285713,1097.142857142857,1071.4285714285713,1037.7142857142858,1056.7142857142858,1066.142857142857,1060.4285714285713,1046.142857142857,1028.142857142857,1028.857142857143,1045.0,1030.5714285714287,1006.2857142857143,1000.7142857142857,1014.1428571428571,1026.7142857142858,1021.1428571428571,932.5714285714286,785.4285714285714,762.8571428571429,765.1428571428571,832.0,840.8571428571429,889.5714285714286,1001.0,1130.0,1180.857142857143,1193.5714285714287,1141.857142857143,1172.857142857143,1133.857142857143,1122.0,1172.857142857143,1161.142857142857,1164.857142857143,1169.5714285714287,1180.5714285714287,1234.4285714285713,1227.7142857142858,1227.4285714285713,1242.5714285714287,1239.5714285714287,1257.2857142857142,1305.142857142857,1291.857142857143,1277.4285714285713,1212.857142857143,1165.857142857143,1162.857142857143,1195.4285714285713,1208.2857142857142,1210.5714285714287,1257.4285714285713,1254.0,1278.0,1294.4285714285713,1277.2857142857142,1350.4285714285713,1364.7142857142858,1474.142857142857,1615.7142857142858,1677.7142857142858,1724.5714285714287,1789.4285714285713,1845.4285714285713,1921.0,1935.142857142857,2010.5714285714287,2086.4285714285716,2112.285714285714,2043.857142857143,1962.4285714285713,2052.0,2155.4285714285716,2283.8571428571427,2264.0,2277.714285714286,2465.0,2595.4285714285716,2640.0,2635.4285714285716,2600.8571428571427,2641.285714285714,2635.5714285714284,2624.1428571428573,2699.714285714286,2710.714285714286,2686.8571428571427,2673.285714285714,2633.8571428571427,2601.5714285714284,2685.714285714286,2648.285714285714,2615.0,2597.0,2521.0,2480.714285714286,2482.8571428571427,2436.4285714285716,2321.0,2279.1428571428573,2237.8571428571427,2155.8571428571427,2118.5714285714284,2098.285714285714,1830.5714285714287,1861.7142857142858,1848.5714285714287,1873.142857142857,1869.857142857143,1849.142857142857,1816.4285714285713,1989.2857142857142,1805.4285714285713,1685.5714285714287,1526.0,1422.142857142857,1385.7142857142858,1386.142857142857,1275.2857142857142,1241.7142857142858,1267.4285714285713,1251.4285714285713,1232.857142857143,1259.0,1234.4285714285713,1206.5714285714287,1165.0,1099.2857142857142,1071.7142857142858,1005.0,961.1428571428571,954.4285714285714,875.2857142857143,802.7142857142857,766.1428571428571,742.1428571428571,714.1428571428571,711.1428571428571,703.8571428571429,689.8571428571429,660.8571428571429,651.0,624.2857142857143,599.4285714285714,594.8571428571429,598.1428571428571,545.7142857142857,534.5714285714286,501.2857142857143,474.42857142857144,515.5714285714286,515.4285714285714,508.2857142857143,508.14285714285717,476.7142857142857,429.0,436.2857142857143,386.85714285714283,372.85714285714283,371.0,377.42857142857144,376.57142857142856,367.7142857142857,354.14285714285717,357.7142857142857,361.0,361.57142857142856,334.7142857142857,325.7142857142857,352.0,324.85714285714283,314.2857142857143,317.7142857142857,328.2857142857143,328.14285714285717,369.0,380.0,382.42857142857144,381.7142857142857,377.2857142857143,367.42857142857144,368.85714285714283,332.0,298.14285714285717,292.85714285714283,285.2857142857143,287.7142857142857,288.0,294.0,291.42857142857144,297.7142857142857,296.2857142857143,303.2857142857143,307.0,307.7142857142857,308.0,322.7142857142857,336.2857142857143,347.2857142857143,342.2857142857143,341.0,339.2857142857143,317.0,301.2857142857143,283.57142857142856,286.7142857142857,289.57142857142856,289.0,298.57142857142856,330.2857142857143,345.14285714285717,354.85714285714283,342.2857142857143,331.14285714285717,339.0,334.42857142857144,334.2857142857143,327.85714285714283,317.2857142857143,322.14285714285717,322.85714285714283,316.57142857142856,319.42857142857144,296.7142857142857,310.7142857142857,318.2857142857143,346.14285714285717,358.7142857142857,360.0,354.42857142857144,371.42857142857144,387.2857142857143,378.42857142857144,376.42857142857144,386.2857142857143,390.85714285714283,392.42857142857144,372.7142857142857,349.14285714285717,354.0,355.2857142857143,355.7142857142857,351.85714285714283,355.57142857142856,378.57142857142856,405.57142857142856,421.85714285714283,417.85714285714283,406.42857142857144,412.7142857142857,421.42857142857144,431.7142857142857,439.14285714285717,433.85714285714283,438.85714285714283,462.7142857142857,462.7142857142857,462.85714285714283,456.14285714285717,445.2857142857143,448.7142857142857,452.2857142857143,451.57142857142856,449.42857142857144,441.57142857142856,455.2857142857143,468.7142857142857,470.7142857142857,476.42857142857144,473.0,476.57142857142856,477.85714285714283,468.7142857142857,478.85714285714283,492.85714285714283,497.42857142857144,505.57142857142856,500.7142857142857,499.0,500.7142857142857,493.2857142857143,486.57142857142856,479.14285714285717,472.42857142857144,473.7142857142857,475.57142857142856,469.57142857142856,459.85714285714283,459.85714285714283,459.7142857142857,467.0,470.2857142857143,470.14285714285717,465.42857142857144,459.2857142857143,460.85714285714283,455.57142857142856,432.14285714285717,425.0,422.42857142857144,399.2857142857143,385.2857142857143,372.14285714285717,368.2857142857143,381.85714285714283,384.42857142857144,380.7142857142857,402.42857142857144,407.0,417.57142857142856,447.85714285714283,414.14285714285717,408.85714285714283,408.2857142857143,402.85714285714283,394.14285714285717,385.57142857142856,395.57142857142856,393.14285714285717,394.2857142857143,395.57142857142856,396.2857142857143,390.14285714285717,380.42857142857144,357.7142857142857,359.85714285714283,362.2857142857143,357.2857142857143,350.42857142857144,349.14285714285717,365.42857142857144,374.2857142857143,369.2857142857143,362.57142857142856,366.7142857142857,365.2857142857143,359.85714285714283,347.42857142857144,347.2857142857143,337.42857142857144,331.0,320.57142857142856,327.0,323.2857142857143],\"type\":\"scatter\",\"xaxis\":\"x2\",\"yaxis\":\"y2\"}],                        {\"template\":{\"data\":{\"bar\":[{\"error_x\":{\"color\":\"#2a3f5f\"},\"error_y\":{\"color\":\"#2a3f5f\"},\"marker\":{\"line\":{\"color\":\"#E5ECF6\",\"width\":0.5},\"pattern\":{\"fillmode\":\"overlay\",\"size\":10,\"solidity\":0.2}},\"type\":\"bar\"}],\"barpolar\":[{\"marker\":{\"line\":{\"color\":\"#E5ECF6\",\"width\":0.5},\"pattern\":{\"fillmode\":\"overlay\",\"size\":10,\"solidity\":0.2}},\"type\":\"barpolar\"}],\"carpet\":[{\"aaxis\":{\"endlinecolor\":\"#2a3f5f\",\"gridcolor\":\"white\",\"linecolor\":\"white\",\"minorgridcolor\":\"white\",\"startlinecolor\":\"#2a3f5f\"},\"baxis\":{\"endlinecolor\":\"#2a3f5f\",\"gridcolor\":\"white\",\"linecolor\":\"white\",\"minorgridcolor\":\"white\",\"startlinecolor\":\"#2a3f5f\"},\"type\":\"carpet\"}],\"choropleth\":[{\"colorbar\":{\"outlinewidth\":0,\"ticks\":\"\"},\"type\":\"choropleth\"}],\"contour\":[{\"colorbar\":{\"outlinewidth\":0,\"ticks\":\"\"},\"colorscale\":[[0.0,\"#0d0887\"],[0.1111111111111111,\"#46039f\"],[0.2222222222222222,\"#7201a8\"],[0.3333333333333333,\"#9c179e\"],[0.4444444444444444,\"#bd3786\"],[0.5555555555555556,\"#d8576b\"],[0.6666666666666666,\"#ed7953\"],[0.7777777777777778,\"#fb9f3a\"],[0.8888888888888888,\"#fdca26\"],[1.0,\"#f0f921\"]],\"type\":\"contour\"}],\"contourcarpet\":[{\"colorbar\":{\"outlinewidth\":0,\"ticks\":\"\"},\"type\":\"contourcarpet\"}],\"heatmap\":[{\"colorbar\":{\"outlinewidth\":0,\"ticks\":\"\"},\"colorscale\":[[0.0,\"#0d0887\"],[0.1111111111111111,\"#46039f\"],[0.2222222222222222,\"#7201a8\"],[0.3333333333333333,\"#9c179e\"],[0.4444444444444444,\"#bd3786\"],[0.5555555555555556,\"#d8576b\"],[0.6666666666666666,\"#ed7953\"],[0.7777777777777778,\"#fb9f3a\"],[0.8888888888888888,\"#fdca26\"],[1.0,\"#f0f921\"]],\"type\":\"heatmap\"}],\"heatmapgl\":[{\"colorbar\":{\"outlinewidth\":0,\"ticks\":\"\"},\"colorscale\":[[0.0,\"#0d0887\"],[0.1111111111111111,\"#46039f\"],[0.2222222222222222,\"#7201a8\"],[0.3333333333333333,\"#9c179e\"],[0.4444444444444444,\"#bd3786\"],[0.5555555555555556,\"#d8576b\"],[0.6666666666666666,\"#ed7953\"],[0.7777777777777778,\"#fb9f3a\"],[0.8888888888888888,\"#fdca26\"],[1.0,\"#f0f921\"]],\"type\":\"heatmapgl\"}],\"histogram\":[{\"marker\":{\"pattern\":{\"fillmode\":\"overlay\",\"size\":10,\"solidity\":0.2}},\"type\":\"histogram\"}],\"histogram2d\":[{\"colorbar\":{\"outlinewidth\":0,\"ticks\":\"\"},\"colorscale\":[[0.0,\"#0d0887\"],[0.1111111111111111,\"#46039f\"],[0.2222222222222222,\"#7201a8\"],[0.3333333333333333,\"#9c179e\"],[0.4444444444444444,\"#bd3786\"],[0.5555555555555556,\"#d8576b\"],[0.6666666666666666,\"#ed7953\"],[0.7777777777777778,\"#fb9f3a\"],[0.8888888888888888,\"#fdca26\"],[1.0,\"#f0f921\"]],\"type\":\"histogram2d\"}],\"histogram2dcontour\":[{\"colorbar\":{\"outlinewidth\":0,\"ticks\":\"\"},\"colorscale\":[[0.0,\"#0d0887\"],[0.1111111111111111,\"#46039f\"],[0.2222222222222222,\"#7201a8\"],[0.3333333333333333,\"#9c179e\"],[0.4444444444444444,\"#bd3786\"],[0.5555555555555556,\"#d8576b\"],[0.6666666666666666,\"#ed7953\"],[0.7777777777777778,\"#fb9f3a\"],[0.8888888888888888,\"#fdca26\"],[1.0,\"#f0f921\"]],\"type\":\"histogram2dcontour\"}],\"mesh3d\":[{\"colorbar\":{\"outlinewidth\":0,\"ticks\":\"\"},\"type\":\"mesh3d\"}],\"parcoords\":[{\"line\":{\"colorbar\":{\"outlinewidth\":0,\"ticks\":\"\"}},\"type\":\"parcoords\"}],\"pie\":[{\"automargin\":true,\"type\":\"pie\"}],\"scatter\":[{\"marker\":{\"colorbar\":{\"outlinewidth\":0,\"ticks\":\"\"}},\"type\":\"scatter\"}],\"scatter3d\":[{\"line\":{\"colorbar\":{\"outlinewidth\":0,\"ticks\":\"\"}},\"marker\":{\"colorbar\":{\"outlinewidth\":0,\"ticks\":\"\"}},\"type\":\"scatter3d\"}],\"scattercarpet\":[{\"marker\":{\"colorbar\":{\"outlinewidth\":0,\"ticks\":\"\"}},\"type\":\"scattercarpet\"}],\"scattergeo\":[{\"marker\":{\"colorbar\":{\"outlinewidth\":0,\"ticks\":\"\"}},\"type\":\"scattergeo\"}],\"scattergl\":[{\"marker\":{\"colorbar\":{\"outlinewidth\":0,\"ticks\":\"\"}},\"type\":\"scattergl\"}],\"scattermapbox\":[{\"marker\":{\"colorbar\":{\"outlinewidth\":0,\"ticks\":\"\"}},\"type\":\"scattermapbox\"}],\"scatterpolar\":[{\"marker\":{\"colorbar\":{\"outlinewidth\":0,\"ticks\":\"\"}},\"type\":\"scatterpolar\"}],\"scatterpolargl\":[{\"marker\":{\"colorbar\":{\"outlinewidth\":0,\"ticks\":\"\"}},\"type\":\"scatterpolargl\"}],\"scatterternary\":[{\"marker\":{\"colorbar\":{\"outlinewidth\":0,\"ticks\":\"\"}},\"type\":\"scatterternary\"}],\"surface\":[{\"colorbar\":{\"outlinewidth\":0,\"ticks\":\"\"},\"colorscale\":[[0.0,\"#0d0887\"],[0.1111111111111111,\"#46039f\"],[0.2222222222222222,\"#7201a8\"],[0.3333333333333333,\"#9c179e\"],[0.4444444444444444,\"#bd3786\"],[0.5555555555555556,\"#d8576b\"],[0.6666666666666666,\"#ed7953\"],[0.7777777777777778,\"#fb9f3a\"],[0.8888888888888888,\"#fdca26\"],[1.0,\"#f0f921\"]],\"type\":\"surface\"}],\"table\":[{\"cells\":{\"fill\":{\"color\":\"#EBF0F8\"},\"line\":{\"color\":\"white\"}},\"header\":{\"fill\":{\"color\":\"#C8D4E3\"},\"line\":{\"color\":\"white\"}},\"type\":\"table\"}]},\"layout\":{\"annotationdefaults\":{\"arrowcolor\":\"#2a3f5f\",\"arrowhead\":0,\"arrowwidth\":1},\"autotypenumbers\":\"strict\",\"coloraxis\":{\"colorbar\":{\"outlinewidth\":0,\"ticks\":\"\"}},\"colorscale\":{\"diverging\":[[0,\"#8e0152\"],[0.1,\"#c51b7d\"],[0.2,\"#de77ae\"],[0.3,\"#f1b6da\"],[0.4,\"#fde0ef\"],[0.5,\"#f7f7f7\"],[0.6,\"#e6f5d0\"],[0.7,\"#b8e186\"],[0.8,\"#7fbc41\"],[0.9,\"#4d9221\"],[1,\"#276419\"]],\"sequential\":[[0.0,\"#0d0887\"],[0.1111111111111111,\"#46039f\"],[0.2222222222222222,\"#7201a8\"],[0.3333333333333333,\"#9c179e\"],[0.4444444444444444,\"#bd3786\"],[0.5555555555555556,\"#d8576b\"],[0.6666666666666666,\"#ed7953\"],[0.7777777777777778,\"#fb9f3a\"],[0.8888888888888888,\"#fdca26\"],[1.0,\"#f0f921\"]],\"sequentialminus\":[[0.0,\"#0d0887\"],[0.1111111111111111,\"#46039f\"],[0.2222222222222222,\"#7201a8\"],[0.3333333333333333,\"#9c179e\"],[0.4444444444444444,\"#bd3786\"],[0.5555555555555556,\"#d8576b\"],[0.6666666666666666,\"#ed7953\"],[0.7777777777777778,\"#fb9f3a\"],[0.8888888888888888,\"#fdca26\"],[1.0,\"#f0f921\"]]},\"colorway\":[\"#636efa\",\"#EF553B\",\"#00cc96\",\"#ab63fa\",\"#FFA15A\",\"#19d3f3\",\"#FF6692\",\"#B6E880\",\"#FF97FF\",\"#FECB52\"],\"font\":{\"color\":\"#2a3f5f\"},\"geo\":{\"bgcolor\":\"white\",\"lakecolor\":\"white\",\"landcolor\":\"#E5ECF6\",\"showlakes\":true,\"showland\":true,\"subunitcolor\":\"white\"},\"hoverlabel\":{\"align\":\"left\"},\"hovermode\":\"closest\",\"mapbox\":{\"style\":\"light\"},\"paper_bgcolor\":\"white\",\"plot_bgcolor\":\"#E5ECF6\",\"polar\":{\"angularaxis\":{\"gridcolor\":\"white\",\"linecolor\":\"white\",\"ticks\":\"\"},\"bgcolor\":\"#E5ECF6\",\"radialaxis\":{\"gridcolor\":\"white\",\"linecolor\":\"white\",\"ticks\":\"\"}},\"scene\":{\"xaxis\":{\"backgroundcolor\":\"#E5ECF6\",\"gridcolor\":\"white\",\"gridwidth\":2,\"linecolor\":\"white\",\"showbackground\":true,\"ticks\":\"\",\"zerolinecolor\":\"white\"},\"yaxis\":{\"backgroundcolor\":\"#E5ECF6\",\"gridcolor\":\"white\",\"gridwidth\":2,\"linecolor\":\"white\",\"showbackground\":true,\"ticks\":\"\",\"zerolinecolor\":\"white\"},\"zaxis\":{\"backgroundcolor\":\"#E5ECF6\",\"gridcolor\":\"white\",\"gridwidth\":2,\"linecolor\":\"white\",\"showbackground\":true,\"ticks\":\"\",\"zerolinecolor\":\"white\"}},\"shapedefaults\":{\"line\":{\"color\":\"#2a3f5f\"}},\"ternary\":{\"aaxis\":{\"gridcolor\":\"white\",\"linecolor\":\"white\",\"ticks\":\"\"},\"baxis\":{\"gridcolor\":\"white\",\"linecolor\":\"white\",\"ticks\":\"\"},\"bgcolor\":\"#E5ECF6\",\"caxis\":{\"gridcolor\":\"white\",\"linecolor\":\"white\",\"ticks\":\"\"}},\"title\":{\"x\":0.05},\"xaxis\":{\"automargin\":true,\"gridcolor\":\"white\",\"linecolor\":\"white\",\"ticks\":\"\",\"title\":{\"standoff\":15},\"zerolinecolor\":\"white\",\"zerolinewidth\":2},\"yaxis\":{\"automargin\":true,\"gridcolor\":\"white\",\"linecolor\":\"white\",\"ticks\":\"\",\"title\":{\"standoff\":15},\"zerolinecolor\":\"white\",\"zerolinewidth\":2}}},\"xaxis\":{\"anchor\":\"y\",\"domain\":[0.0,1.0],\"matches\":\"x2\",\"showticklabels\":false,\"title\":{}},\"yaxis\":{\"anchor\":\"x\",\"domain\":[0.51,1.0],\"title\":{}},\"xaxis2\":{\"anchor\":\"y2\",\"domain\":[0.0,1.0],\"title\":{}},\"yaxis2\":{\"anchor\":\"x2\",\"domain\":[0.0,0.49],\"title\":{}},\"hovermode\":\"x unified\",\"showlegend\":true,\"title\":{\"text\":\"Coronavirus Cases and Deaths\"},\"shapes\":[{\"fillcolor\":\"LightSkyBlue\",\"layer\":\"below\",\"line\":{\"color\":\"RoyalBlue\",\"width\":1},\"opacity\":0.5,\"type\":\"rect\",\"x0\":\"2020-01-22\",\"x1\":\"2020-05-01\",\"xref\":\"x\",\"y0\":0,\"y1\":1,\"yref\":\"y domain\"},{\"fillcolor\":\"LightSkyBlue\",\"layer\":\"below\",\"line\":{\"color\":\"RoyalBlue\",\"width\":1},\"opacity\":0.5,\"type\":\"rect\",\"x0\":\"2020-01-22\",\"x1\":\"2020-05-01\",\"xref\":\"x2\",\"y0\":0,\"y1\":1,\"yref\":\"y2 domain\"},{\"fillcolor\":\"Pink\",\"layer\":\"below\",\"line\":{\"color\":\"Red\",\"width\":1},\"opacity\":0.5,\"type\":\"rect\",\"x0\":\"2020-05-01\",\"x1\":\"2020-11-01\",\"xref\":\"x\",\"y0\":0,\"y1\":1,\"yref\":\"y domain\"},{\"fillcolor\":\"Pink\",\"layer\":\"below\",\"line\":{\"color\":\"Red\",\"width\":1},\"opacity\":0.5,\"type\":\"rect\",\"x0\":\"2020-05-01\",\"x1\":\"2020-11-01\",\"xref\":\"x2\",\"y0\":0,\"y1\":1,\"yref\":\"y2 domain\"},{\"fillcolor\":\"LightSkyBlue\",\"layer\":\"below\",\"line\":{\"color\":\"RoyalBlue\",\"width\":1},\"opacity\":0.5,\"type\":\"rect\",\"x0\":\"2020-11-01\",\"x1\":\"2021-11-01\",\"xref\":\"x\",\"y0\":0,\"y1\":1,\"yref\":\"y domain\"},{\"fillcolor\":\"LightSkyBlue\",\"layer\":\"below\",\"line\":{\"color\":\"RoyalBlue\",\"width\":1},\"opacity\":0.5,\"type\":\"rect\",\"x0\":\"2020-11-01\",\"x1\":\"2021-11-01\",\"xref\":\"x2\",\"y0\":0,\"y1\":1,\"yref\":\"y2 domain\"},{\"fillcolor\":\"Pink\",\"layer\":\"below\",\"line\":{\"color\":\"red\",\"width\":1},\"opacity\":0.5,\"type\":\"rect\",\"x0\":\"2021-11-01\",\"x1\":\"2022-10-18 00:00:00\",\"xref\":\"x\",\"y0\":0,\"y1\":1,\"yref\":\"y domain\"},{\"fillcolor\":\"Pink\",\"layer\":\"below\",\"line\":{\"color\":\"red\",\"width\":1},\"opacity\":0.5,\"type\":\"rect\",\"x0\":\"2021-11-01\",\"x1\":\"2022-10-18 00:00:00\",\"xref\":\"x2\",\"y0\":0,\"y1\":1,\"yref\":\"y2 domain\"}],\"annotations\":[{\"showarrow\":false,\"text\":\"Alpha\",\"x\":\"2020-01-22\",\"xanchor\":\"left\",\"xref\":\"x\",\"y\":1,\"yanchor\":\"top\",\"yref\":\"y domain\"},{\"showarrow\":false,\"text\":\"Alpha\",\"x\":\"2020-01-22\",\"xanchor\":\"left\",\"xref\":\"x2\",\"y\":1,\"yanchor\":\"top\",\"yref\":\"y2 domain\"},{\"showarrow\":false,\"text\":\"Beta\",\"x\":\"2020-05-01\",\"xanchor\":\"left\",\"xref\":\"x\",\"y\":1,\"yanchor\":\"top\",\"yref\":\"y domain\"},{\"showarrow\":false,\"text\":\"Beta\",\"x\":\"2020-05-01\",\"xanchor\":\"left\",\"xref\":\"x2\",\"y\":1,\"yanchor\":\"top\",\"yref\":\"y2 domain\"},{\"showarrow\":false,\"text\":\"Delta\",\"x\":\"2020-11-01\",\"xanchor\":\"left\",\"xref\":\"x\",\"y\":1,\"yanchor\":\"top\",\"yref\":\"y domain\"},{\"showarrow\":false,\"text\":\"Delta\",\"x\":\"2020-11-01\",\"xanchor\":\"left\",\"xref\":\"x2\",\"y\":1,\"yanchor\":\"top\",\"yref\":\"y2 domain\"},{\"showarrow\":false,\"text\":\"Omicron\",\"x\":\"2021-11-01\",\"xanchor\":\"left\",\"xref\":\"x\",\"y\":1,\"yanchor\":\"top\",\"yref\":\"y domain\"},{\"showarrow\":false,\"text\":\"Omicron\",\"x\":\"2021-11-01\",\"xanchor\":\"left\",\"xref\":\"x2\",\"y\":1,\"yanchor\":\"top\",\"yref\":\"y2 domain\"}]},                        {\"responsive\": true}                    ).then(function(){\n",
              "                            \n",
              "var gd = document.getElementById('66a3fec1-58a1-4ec5-a804-4f1cb21ed0ed');\n",
              "var x = new MutationObserver(function (mutations, observer) {{\n",
              "        var display = window.getComputedStyle(gd).display;\n",
              "        if (!display || display === 'none') {{\n",
              "            console.log([gd, 'removed!']);\n",
              "            Plotly.purge(gd);\n",
              "            observer.disconnect();\n",
              "        }}\n",
              "}});\n",
              "\n",
              "// Listen for the removal of the full notebook cells\n",
              "var notebookContainer = gd.closest('#notebook-container');\n",
              "if (notebookContainer) {{\n",
              "    x.observe(notebookContainer, {childList: true});\n",
              "}}\n",
              "\n",
              "// Listen for the clearing of the current output cell\n",
              "var outputEl = gd.closest('.output');\n",
              "if (outputEl) {{\n",
              "    x.observe(outputEl, {childList: true});\n",
              "}}\n",
              "\n",
              "                        })                };                            </script>        </div>\n",
              "</body>\n",
              "</html>"
            ]
          },
          "metadata": {}
        },
        {
          "output_type": "stream",
          "name": "stdout",
          "text": [
            "Centers for Disease Control and Prevention, COVID-19 Response. \n",
            "COVID-19 Case Surveillance Public Data Access, Summary, and Limitations\n"
          ]
        }
      ],
      "source": [
        "fig = make_subplots(rows=2, cols=1, shared_xaxes = True, vertical_spacing=0.02)\n",
        "\n",
        "\n",
        "fig.add_trace(go.Scatter(x = grouped_covid.index, y = grouped_covid.new_case, name = \"Cases\", \n",
        "                         line=dict(color=\"crimson\"), hovertemplate=\"%{y}<br>\"),\n",
        "             row = 1, col = 1)\n",
        "\n",
        "fig.add_trace(go.Scatter(x = grouped_covid.index, y = grouped_covid.cases7MA, name = \"7 day MA Cases\",\n",
        "                        line=dict(color=\"blue\"), text = grouped_covid.Mortality_Rate,\n",
        "                         hovertemplate=\"%{y}<br><br>\" + \"Daily Mortality Rate: %{text:.2%} <br>\"),\n",
        "             row = 1, col = 1)\n",
        "\n",
        "fig.add_trace(go.Scatter(x = grouped_covid.index, y = grouped_covid.new_death, name = \"Deaths\",\n",
        "                        line=dict(color=\"darkcyan\"), hovertemplate=\"%{y}<br>\"),\n",
        "             row = 2, col = 1)\n",
        "\n",
        "fig.add_trace(go.Scatter(x = grouped_covid.index, y = grouped_covid.death7MA, name = \"7 day MA Deaths\",\n",
        "                        line=dict(color=\"darkblue\"), text = grouped_covid.Mortality_Rate,\n",
        "                        hovertemplate=\"%{y}<br><br>\" + \"Daily Mortality Rate: %{text:.2%} <br>\"),\n",
        "             row = 2, col = 1)\n",
        "\n",
        "fig.update_xaxes(title = None)\n",
        "fig.update_yaxes(title = None)\n",
        "\n",
        "fig.update_layout(hovermode=\"x unified\",\n",
        "                 showlegend=True,\n",
        "                 title = \"Coronavirus Cases and Deaths\")\n",
        "\n",
        "#fig.update_traces(hovertemplate='Cases: %{grouped_covid.new_case} <br>Deaths: %{grouped_covid.new_death}') #\n",
        "\n",
        "#extends the hoverline option to both subplots but removes the vertical rectangles\n",
        "#fig.update_traces(xaxis='x1')\n",
        "\n",
        "#Alpha variant of Coronavirus\n",
        "fig.add_vrect(type=\"rect\",\n",
        "    x0=\"2020-01-22\", x1=\"2020-05-01\",\n",
        "    line=dict(\n",
        "        color=\"RoyalBlue\",\n",
        "        width=1,\n",
        "    ),\n",
        "    fillcolor=\"LightSkyBlue\", \n",
        "    opacity = 0.5,\n",
        "    layer = \"below\",\n",
        "    annotation_text=\"Alpha\",\n",
        "    annotation_position=\"top left\"\n",
        ")\n",
        "\n",
        "#Beta variant of Coronavirus\n",
        "fig.add_vrect(type=\"rect\",\n",
        "    x0=\"2020-05-01\", x1=\"2020-11-01\",\n",
        "    line=dict(\n",
        "        color=\"Red\",\n",
        "        width=1,\n",
        "    ),\n",
        "    fillcolor=\"Pink\", \n",
        "    opacity = 0.5,\n",
        "    layer = \"below\",\n",
        "    annotation_text=\"Beta\",\n",
        "    annotation_position=\"top left\"\n",
        ")\n",
        "\n",
        "#Delta variant of Coronavirus\n",
        "fig.add_vrect(type=\"rect\",\n",
        "    x0=\"2020-11-01\", x1=\"2021-11-01\",\n",
        "    line=dict(\n",
        "        color=\"RoyalBlue\",\n",
        "        width=1,\n",
        "    ),\n",
        "    fillcolor=\"LightSkyBlue\", \n",
        "    opacity = 0.5,\n",
        "    layer = \"below\",\n",
        "    annotation_text=\"Delta\",\n",
        "    annotation_position=\"top left\"\n",
        ")\n",
        "\n",
        "#Omicron variant of Coronavirus\n",
        "x1 = str(grouped_covid.index.max())\n",
        "\n",
        "fig.add_vrect(type=\"rect\",\n",
        "    x0=\"2021-11-01\", x1=x1,\n",
        "    line=dict(\n",
        "        color=\"red\",\n",
        "        width=1,\n",
        "    ),\n",
        "    fillcolor=\"Pink\", \n",
        "    opacity = 0.5,\n",
        "    layer = \"below\",\n",
        "    annotation_text=\"Omicron\",\n",
        "    annotation_position=\"top left\"\n",
        ")\n",
        "\n",
        "fig.show()\n",
        "\n",
        "print(\"Centers for Disease Control and Prevention, COVID-19 Response. \\nCOVID-19 Case Surveillance Public Data Access, Summary, and Limitations\")"
      ]
    },
    {
      "cell_type": "code",
      "execution_count": 25,
      "id": "af1f71ec",
      "metadata": {
        "id": "af1f71ec"
      },
      "outputs": [],
      "source": [
        "fig.write_html(\"CovidPlot.html\")"
      ]
    },
    {
      "cell_type": "code",
      "execution_count": 28,
      "id": "df9b7ac9",
      "metadata": {
        "colab": {
          "base_uri": "https://localhost:8080/",
          "height": 542
        },
        "id": "df9b7ac9",
        "outputId": "573bb9ec-01e4-4f6e-ddf8-244ba5f08984"
      },
      "outputs": [
        {
          "output_type": "display_data",
          "data": {
            "text/html": [
              "<html>\n",
              "<head><meta charset=\"utf-8\" /></head>\n",
              "<body>\n",
              "    <div>            <script src=\"https://cdnjs.cloudflare.com/ajax/libs/mathjax/2.7.5/MathJax.js?config=TeX-AMS-MML_SVG\"></script><script type=\"text/javascript\">if (window.MathJax) {MathJax.Hub.Config({SVG: {font: \"STIX-Web\"}});}</script>                <script type=\"text/javascript\">window.PlotlyConfig = {MathJaxConfig: 'local'};</script>\n",
              "        <script src=\"https://cdn.plot.ly/plotly-2.8.3.min.js\"></script>                <div id=\"540519cf-4728-4daf-b07d-f7afa8655617\" class=\"plotly-graph-div\" style=\"height:525px; width:100%;\"></div>            <script type=\"text/javascript\">                                    window.PLOTLYENV=window.PLOTLYENV || {};                                    if (document.getElementById(\"540519cf-4728-4daf-b07d-f7afa8655617\")) {                    Plotly.newPlot(                        \"540519cf-4728-4daf-b07d-f7afa8655617\",                        [{\"coloraxis\":\"coloraxis\",\"customdata\":[[\"AK\",284076,0.0012763289916812716],[\"AL\",1530803,0.01932000655106916],[\"AR\",956424,0.011658267618705184],[\"AS\",8251,3.200234934894044e-05],[\"AZ\",2277635,0.02960687937561534],[\"CA\",11309237,0.08998684138694417],[\"CO\",1665451,0.012587276995393545],[\"CT\",907038,0.010749024398967641],[\"DC\",169149,0.0013102138321683852],[\"DE\",311538,0.0029517461046552123],[\"FL\",7145833,0.07724331762708227],[\"FSM\",22193,5.176850629975659e-05],[\"GA\",2913382,0.03807150077841009],[\"GU\",58703,0.0003774394732036799],[\"HI\",349598,0.0015878812750488977],[\"IA\",861010,0.00955552501736598],[\"ID\",498082,0.004892594468111541],[\"IL\",3789532,0.03752463710277084],[\"IN\",1930022,0.023357950042450174],[\"KS\",883063,0.009026545007539378],[\"KY\",1602636,0.016212954927514678],[\"LA\",1459308,0.017070429640952466],[\"MA\",2069848,0.02235552351137307],[\"MD\",1261834,0.014586482584133234],[\"ME\",294927,0.002474534601128365],[\"MI\",2874009,0.036795171786728816],[\"MN\",1676151,0.012930831628110111],[\"MO\",1660094,0.020330904292268043],[\"MP\",13202,3.859106833254582e-05],[\"MS\",930438,0.012184423891824529],[\"MT\",312863,0.0033564816993624],[\"NC\",3229459,0.025341154456515396],[\"ND\",271085,0.0022467531734094363],[\"NE\",540345,0.004291138549465279],[\"NH\",354443,0.0025611291934843215],[\"NJ\",2773961,0.03278734815355857],[\"NM\",623179,0.008095653139712845],[\"NV\",850204,0.010858208884981674],[\"NY\",3275131,0.027631204926102812],[\"NYC\",2912489,0.03974032917240042],[\"OH\",3162278,0.03768464884951554],[\"OK\",1205519,0.01404714887304668],[\"OR\",902319,0.008115419296663661],[\"PA\",3280190,0.04465457228860095],[\"PR\",969066,0.0049104781339241845],[\"PW\",5490,6.588718983605385e-06],[\"RI\",408139,0.003464724939807346],[\"RMI\",15389,1.600117467447022e-05],[\"SC\",1718563,0.01743845665846528],[\"SD\",262837,0.002867034003437429],[\"TN\",2351660,0.026370877109096007],[\"TX\",7902489,0.08417464999783514],[\"UT\",1041651,0.004738230194781358],[\"VA\",2106527,0.020761053517340568],[\"VI\",23269,0.00011577320499763747],[\"VT\",133845,0.0006588718983605385],[\"WA\",1828918,0.013614175911266898],[\"WI\",1884206,0.014470709379135598],[\"WV\",605012,0.00703957561119781],[\"WY\",178032,0.0017940140546788377]],\"geo\":\"geo\",\"hovertemplate\":\"state=%{customdata[0]}<br>tot_cases=%{z}<br>TotalCasePercent=%{customdata[2]}<extra></extra>\",\"locationmode\":\"USA-states\",\"locations\":[\"AK\",\"AL\",\"AR\",\"AS\",\"AZ\",\"CA\",\"CO\",\"CT\",\"DC\",\"DE\",\"FL\",\"FSM\",\"GA\",\"GU\",\"HI\",\"IA\",\"ID\",\"IL\",\"IN\",\"KS\",\"KY\",\"LA\",\"MA\",\"MD\",\"ME\",\"MI\",\"MN\",\"MO\",\"MP\",\"MS\",\"MT\",\"NC\",\"ND\",\"NE\",\"NH\",\"NJ\",\"NM\",\"NV\",\"NY\",\"NYC\",\"OH\",\"OK\",\"OR\",\"PA\",\"PR\",\"PW\",\"RI\",\"RMI\",\"SC\",\"SD\",\"TN\",\"TX\",\"UT\",\"VA\",\"VI\",\"VT\",\"WA\",\"WI\",\"WV\",\"WY\"],\"name\":\"\",\"z\":[284076,1530803,956424,8251,2277635,11309237,1665451,907038,169149,311538,7145833,22193,2913382,58703,349598,861010,498082,3789532,1930022,883063,1602636,1459308,2069848,1261834,294927,2874009,1676151,1660094,13202,930438,312863,3229459,271085,540345,354443,2773961,623179,850204,3275131,2912489,3162278,1205519,902319,3280190,969066,5490,408139,15389,1718563,262837,2351660,7902489,1041651,2106527,23269,133845,1828918,1884206,605012,178032],\"type\":\"choropleth\"}],                        {\"template\":{\"data\":{\"bar\":[{\"error_x\":{\"color\":\"#2a3f5f\"},\"error_y\":{\"color\":\"#2a3f5f\"},\"marker\":{\"line\":{\"color\":\"#E5ECF6\",\"width\":0.5},\"pattern\":{\"fillmode\":\"overlay\",\"size\":10,\"solidity\":0.2}},\"type\":\"bar\"}],\"barpolar\":[{\"marker\":{\"line\":{\"color\":\"#E5ECF6\",\"width\":0.5},\"pattern\":{\"fillmode\":\"overlay\",\"size\":10,\"solidity\":0.2}},\"type\":\"barpolar\"}],\"carpet\":[{\"aaxis\":{\"endlinecolor\":\"#2a3f5f\",\"gridcolor\":\"white\",\"linecolor\":\"white\",\"minorgridcolor\":\"white\",\"startlinecolor\":\"#2a3f5f\"},\"baxis\":{\"endlinecolor\":\"#2a3f5f\",\"gridcolor\":\"white\",\"linecolor\":\"white\",\"minorgridcolor\":\"white\",\"startlinecolor\":\"#2a3f5f\"},\"type\":\"carpet\"}],\"choropleth\":[{\"colorbar\":{\"outlinewidth\":0,\"ticks\":\"\"},\"type\":\"choropleth\"}],\"contour\":[{\"colorbar\":{\"outlinewidth\":0,\"ticks\":\"\"},\"colorscale\":[[0.0,\"#0d0887\"],[0.1111111111111111,\"#46039f\"],[0.2222222222222222,\"#7201a8\"],[0.3333333333333333,\"#9c179e\"],[0.4444444444444444,\"#bd3786\"],[0.5555555555555556,\"#d8576b\"],[0.6666666666666666,\"#ed7953\"],[0.7777777777777778,\"#fb9f3a\"],[0.8888888888888888,\"#fdca26\"],[1.0,\"#f0f921\"]],\"type\":\"contour\"}],\"contourcarpet\":[{\"colorbar\":{\"outlinewidth\":0,\"ticks\":\"\"},\"type\":\"contourcarpet\"}],\"heatmap\":[{\"colorbar\":{\"outlinewidth\":0,\"ticks\":\"\"},\"colorscale\":[[0.0,\"#0d0887\"],[0.1111111111111111,\"#46039f\"],[0.2222222222222222,\"#7201a8\"],[0.3333333333333333,\"#9c179e\"],[0.4444444444444444,\"#bd3786\"],[0.5555555555555556,\"#d8576b\"],[0.6666666666666666,\"#ed7953\"],[0.7777777777777778,\"#fb9f3a\"],[0.8888888888888888,\"#fdca26\"],[1.0,\"#f0f921\"]],\"type\":\"heatmap\"}],\"heatmapgl\":[{\"colorbar\":{\"outlinewidth\":0,\"ticks\":\"\"},\"colorscale\":[[0.0,\"#0d0887\"],[0.1111111111111111,\"#46039f\"],[0.2222222222222222,\"#7201a8\"],[0.3333333333333333,\"#9c179e\"],[0.4444444444444444,\"#bd3786\"],[0.5555555555555556,\"#d8576b\"],[0.6666666666666666,\"#ed7953\"],[0.7777777777777778,\"#fb9f3a\"],[0.8888888888888888,\"#fdca26\"],[1.0,\"#f0f921\"]],\"type\":\"heatmapgl\"}],\"histogram\":[{\"marker\":{\"pattern\":{\"fillmode\":\"overlay\",\"size\":10,\"solidity\":0.2}},\"type\":\"histogram\"}],\"histogram2d\":[{\"colorbar\":{\"outlinewidth\":0,\"ticks\":\"\"},\"colorscale\":[[0.0,\"#0d0887\"],[0.1111111111111111,\"#46039f\"],[0.2222222222222222,\"#7201a8\"],[0.3333333333333333,\"#9c179e\"],[0.4444444444444444,\"#bd3786\"],[0.5555555555555556,\"#d8576b\"],[0.6666666666666666,\"#ed7953\"],[0.7777777777777778,\"#fb9f3a\"],[0.8888888888888888,\"#fdca26\"],[1.0,\"#f0f921\"]],\"type\":\"histogram2d\"}],\"histogram2dcontour\":[{\"colorbar\":{\"outlinewidth\":0,\"ticks\":\"\"},\"colorscale\":[[0.0,\"#0d0887\"],[0.1111111111111111,\"#46039f\"],[0.2222222222222222,\"#7201a8\"],[0.3333333333333333,\"#9c179e\"],[0.4444444444444444,\"#bd3786\"],[0.5555555555555556,\"#d8576b\"],[0.6666666666666666,\"#ed7953\"],[0.7777777777777778,\"#fb9f3a\"],[0.8888888888888888,\"#fdca26\"],[1.0,\"#f0f921\"]],\"type\":\"histogram2dcontour\"}],\"mesh3d\":[{\"colorbar\":{\"outlinewidth\":0,\"ticks\":\"\"},\"type\":\"mesh3d\"}],\"parcoords\":[{\"line\":{\"colorbar\":{\"outlinewidth\":0,\"ticks\":\"\"}},\"type\":\"parcoords\"}],\"pie\":[{\"automargin\":true,\"type\":\"pie\"}],\"scatter\":[{\"marker\":{\"colorbar\":{\"outlinewidth\":0,\"ticks\":\"\"}},\"type\":\"scatter\"}],\"scatter3d\":[{\"line\":{\"colorbar\":{\"outlinewidth\":0,\"ticks\":\"\"}},\"marker\":{\"colorbar\":{\"outlinewidth\":0,\"ticks\":\"\"}},\"type\":\"scatter3d\"}],\"scattercarpet\":[{\"marker\":{\"colorbar\":{\"outlinewidth\":0,\"ticks\":\"\"}},\"type\":\"scattercarpet\"}],\"scattergeo\":[{\"marker\":{\"colorbar\":{\"outlinewidth\":0,\"ticks\":\"\"}},\"type\":\"scattergeo\"}],\"scattergl\":[{\"marker\":{\"colorbar\":{\"outlinewidth\":0,\"ticks\":\"\"}},\"type\":\"scattergl\"}],\"scattermapbox\":[{\"marker\":{\"colorbar\":{\"outlinewidth\":0,\"ticks\":\"\"}},\"type\":\"scattermapbox\"}],\"scatterpolar\":[{\"marker\":{\"colorbar\":{\"outlinewidth\":0,\"ticks\":\"\"}},\"type\":\"scatterpolar\"}],\"scatterpolargl\":[{\"marker\":{\"colorbar\":{\"outlinewidth\":0,\"ticks\":\"\"}},\"type\":\"scatterpolargl\"}],\"scatterternary\":[{\"marker\":{\"colorbar\":{\"outlinewidth\":0,\"ticks\":\"\"}},\"type\":\"scatterternary\"}],\"surface\":[{\"colorbar\":{\"outlinewidth\":0,\"ticks\":\"\"},\"colorscale\":[[0.0,\"#0d0887\"],[0.1111111111111111,\"#46039f\"],[0.2222222222222222,\"#7201a8\"],[0.3333333333333333,\"#9c179e\"],[0.4444444444444444,\"#bd3786\"],[0.5555555555555556,\"#d8576b\"],[0.6666666666666666,\"#ed7953\"],[0.7777777777777778,\"#fb9f3a\"],[0.8888888888888888,\"#fdca26\"],[1.0,\"#f0f921\"]],\"type\":\"surface\"}],\"table\":[{\"cells\":{\"fill\":{\"color\":\"#EBF0F8\"},\"line\":{\"color\":\"white\"}},\"header\":{\"fill\":{\"color\":\"#C8D4E3\"},\"line\":{\"color\":\"white\"}},\"type\":\"table\"}]},\"layout\":{\"annotationdefaults\":{\"arrowcolor\":\"#2a3f5f\",\"arrowhead\":0,\"arrowwidth\":1},\"autotypenumbers\":\"strict\",\"coloraxis\":{\"colorbar\":{\"outlinewidth\":0,\"ticks\":\"\"}},\"colorscale\":{\"diverging\":[[0,\"#8e0152\"],[0.1,\"#c51b7d\"],[0.2,\"#de77ae\"],[0.3,\"#f1b6da\"],[0.4,\"#fde0ef\"],[0.5,\"#f7f7f7\"],[0.6,\"#e6f5d0\"],[0.7,\"#b8e186\"],[0.8,\"#7fbc41\"],[0.9,\"#4d9221\"],[1,\"#276419\"]],\"sequential\":[[0.0,\"#0d0887\"],[0.1111111111111111,\"#46039f\"],[0.2222222222222222,\"#7201a8\"],[0.3333333333333333,\"#9c179e\"],[0.4444444444444444,\"#bd3786\"],[0.5555555555555556,\"#d8576b\"],[0.6666666666666666,\"#ed7953\"],[0.7777777777777778,\"#fb9f3a\"],[0.8888888888888888,\"#fdca26\"],[1.0,\"#f0f921\"]],\"sequentialminus\":[[0.0,\"#0d0887\"],[0.1111111111111111,\"#46039f\"],[0.2222222222222222,\"#7201a8\"],[0.3333333333333333,\"#9c179e\"],[0.4444444444444444,\"#bd3786\"],[0.5555555555555556,\"#d8576b\"],[0.6666666666666666,\"#ed7953\"],[0.7777777777777778,\"#fb9f3a\"],[0.8888888888888888,\"#fdca26\"],[1.0,\"#f0f921\"]]},\"colorway\":[\"#636efa\",\"#EF553B\",\"#00cc96\",\"#ab63fa\",\"#FFA15A\",\"#19d3f3\",\"#FF6692\",\"#B6E880\",\"#FF97FF\",\"#FECB52\"],\"font\":{\"color\":\"#2a3f5f\"},\"geo\":{\"bgcolor\":\"white\",\"lakecolor\":\"white\",\"landcolor\":\"#E5ECF6\",\"showlakes\":true,\"showland\":true,\"subunitcolor\":\"white\"},\"hoverlabel\":{\"align\":\"left\"},\"hovermode\":\"closest\",\"mapbox\":{\"style\":\"light\"},\"paper_bgcolor\":\"white\",\"plot_bgcolor\":\"#E5ECF6\",\"polar\":{\"angularaxis\":{\"gridcolor\":\"white\",\"linecolor\":\"white\",\"ticks\":\"\"},\"bgcolor\":\"#E5ECF6\",\"radialaxis\":{\"gridcolor\":\"white\",\"linecolor\":\"white\",\"ticks\":\"\"}},\"scene\":{\"xaxis\":{\"backgroundcolor\":\"#E5ECF6\",\"gridcolor\":\"white\",\"gridwidth\":2,\"linecolor\":\"white\",\"showbackground\":true,\"ticks\":\"\",\"zerolinecolor\":\"white\"},\"yaxis\":{\"backgroundcolor\":\"#E5ECF6\",\"gridcolor\":\"white\",\"gridwidth\":2,\"linecolor\":\"white\",\"showbackground\":true,\"ticks\":\"\",\"zerolinecolor\":\"white\"},\"zaxis\":{\"backgroundcolor\":\"#E5ECF6\",\"gridcolor\":\"white\",\"gridwidth\":2,\"linecolor\":\"white\",\"showbackground\":true,\"ticks\":\"\",\"zerolinecolor\":\"white\"}},\"shapedefaults\":{\"line\":{\"color\":\"#2a3f5f\"}},\"ternary\":{\"aaxis\":{\"gridcolor\":\"white\",\"linecolor\":\"white\",\"ticks\":\"\"},\"baxis\":{\"gridcolor\":\"white\",\"linecolor\":\"white\",\"ticks\":\"\"},\"bgcolor\":\"#E5ECF6\",\"caxis\":{\"gridcolor\":\"white\",\"linecolor\":\"white\",\"ticks\":\"\"}},\"title\":{\"x\":0.05},\"xaxis\":{\"automargin\":true,\"gridcolor\":\"white\",\"linecolor\":\"white\",\"ticks\":\"\",\"title\":{\"standoff\":15},\"zerolinecolor\":\"white\",\"zerolinewidth\":2},\"yaxis\":{\"automargin\":true,\"gridcolor\":\"white\",\"linecolor\":\"white\",\"ticks\":\"\",\"title\":{\"standoff\":15},\"zerolinecolor\":\"white\",\"zerolinewidth\":2}}},\"geo\":{\"domain\":{\"x\":[0.0,1.0],\"y\":[0.0,1.0]},\"center\":{},\"scope\":\"usa\"},\"coloraxis\":{\"colorbar\":{\"title\":{\"text\":\"tot_cases\"}},\"colorscale\":[[0.0,\"#0d0887\"],[0.1111111111111111,\"#46039f\"],[0.2222222222222222,\"#7201a8\"],[0.3333333333333333,\"#9c179e\"],[0.4444444444444444,\"#bd3786\"],[0.5555555555555556,\"#d8576b\"],[0.6666666666666666,\"#ed7953\"],[0.7777777777777778,\"#fb9f3a\"],[0.8888888888888888,\"#fdca26\"],[1.0,\"#f0f921\"]]},\"legend\":{\"tracegroupgap\":0},\"title\":{\"text\":\"Total Cases by State in the USA\"}},                        {\"responsive\": true}                    ).then(function(){\n",
              "                            \n",
              "var gd = document.getElementById('540519cf-4728-4daf-b07d-f7afa8655617');\n",
              "var x = new MutationObserver(function (mutations, observer) {{\n",
              "        var display = window.getComputedStyle(gd).display;\n",
              "        if (!display || display === 'none') {{\n",
              "            console.log([gd, 'removed!']);\n",
              "            Plotly.purge(gd);\n",
              "            observer.disconnect();\n",
              "        }}\n",
              "}});\n",
              "\n",
              "// Listen for the removal of the full notebook cells\n",
              "var notebookContainer = gd.closest('#notebook-container');\n",
              "if (notebookContainer) {{\n",
              "    x.observe(notebookContainer, {childList: true});\n",
              "}}\n",
              "\n",
              "// Listen for the clearing of the current output cell\n",
              "var outputEl = gd.closest('.output');\n",
              "if (outputEl) {{\n",
              "    x.observe(outputEl, {childList: true});\n",
              "}}\n",
              "\n",
              "                        })                };                            </script>        </div>\n",
              "</body>\n",
              "</html>"
            ]
          },
          "metadata": {}
        }
      ],
      "source": [
        "map1 = px.choropleth(stateData, locations= stateData.index, locationmode=\"USA-states\", color= \"tot_cases\", scope=\"usa\",\n",
        "                   title = \"Total Cases by State in the USA\", hover_data = [stateData.index, \"tot_cases\", \"TotalCasePercent\"])\n",
        "map1.show()"
      ]
    },
    {
      "cell_type": "code",
      "execution_count": 29,
      "id": "f8c844b3",
      "metadata": {
        "colab": {
          "base_uri": "https://localhost:8080/",
          "height": 542
        },
        "id": "f8c844b3",
        "outputId": "2693aea1-8ade-44a6-db7d-824d2267ed19"
      },
      "outputs": [
        {
          "output_type": "display_data",
          "data": {
            "text/html": [
              "<html>\n",
              "<head><meta charset=\"utf-8\" /></head>\n",
              "<body>\n",
              "    <div>            <script src=\"https://cdnjs.cloudflare.com/ajax/libs/mathjax/2.7.5/MathJax.js?config=TeX-AMS-MML_SVG\"></script><script type=\"text/javascript\">if (window.MathJax) {MathJax.Hub.Config({SVG: {font: \"STIX-Web\"}});}</script>                <script type=\"text/javascript\">window.PlotlyConfig = {MathJaxConfig: 'local'};</script>\n",
              "        <script src=\"https://cdn.plot.ly/plotly-2.8.3.min.js\"></script>                <div id=\"26a8e7e5-9fa9-476e-b822-c2eaa80b3180\" class=\"plotly-graph-div\" style=\"height:525px; width:100%;\"></div>            <script type=\"text/javascript\">                                    window.PLOTLYENV=window.PLOTLYENV || {};                                    if (document.getElementById(\"26a8e7e5-9fa9-476e-b822-c2eaa80b3180\")) {                    Plotly.newPlot(                        \"26a8e7e5-9fa9-476e-b822-c2eaa80b3180\",                        [{\"coloraxis\":\"coloraxis\",\"customdata\":[[\"AK\",1356,0.002933395909472153],[\"AL\",20526,0.01580721799239535],[\"AR\",12386,0.009876125576680165],[\"AS\",34,8.520061409290027e-05],[\"AZ\",31455,0.0235190765579303],[\"CA\",95604,0.11678026146190149],[\"CO\",13373,0.017197606101276797],[\"CT\",11420,0.009366161023584544],[\"DC\",1392,0.0017466487302387574],[\"DE\",3136,0.0032169711445005408],[\"FL\",82065,0.07378855409105706],[\"FSM\",55,0.00022916703776072422],[\"GA\",40448,0.03008386080319985],[\"GU\",401,0.0006061727850073354],[\"HI\",1687,0.003609982339795146],[\"IA\",10152,0.008890871499227737],[\"ID\",5198,0.0051432423062198465],[\"IL\",39867,0.039131069388522184],[\"IN\",24816,0.0199295915177321],[\"KS\",9590,0.009118592883616385],[\"KY\",17225,0.01654897241151246],[\"LA\",18136,0.015068953793562247],[\"MA\",23751,0.021373448149189362],[\"MD\",15497,0.0130298184078658],[\"ME\",2629,0.0030454443719036234],[\"MI\",39092,0.02967729144449427],[\"MN\",13738,0.017308095323285526],[\"MO\",21600,0.017142289207603828],[\"MP\",41,0.00013632511298684635],[\"MS\",12945,0.009607791658631674],[\"MT\",3566,0.003230653221057697],[\"NC\",26923,0.033347702095242224],[\"ND\",2387,0.0027992496026389368],[\"NE\",4559,0.005579654080963301],[\"NH\",2721,0.0036600122725645194],[\"NJ\",34834,0.028644186240426098],[\"NM\",8601,0.00643500587683911],[\"NV\",11536,0.008779287711094435],[\"NY\",29356,0.03381931552959575],[\"NYC\",42221,0.0300746395999051],[\"OH\",40037,0.03265398467246012],[\"OK\",14924,0.01244830433894789],[\"OR\",8622,0.00931743217885004],[\"PA\",47442,0.0338715552468053],[\"PR\",5217,0.010006668076178704],[\"PW\",7,5.669026437644194e-05],[\"RI\",3681,0.004214482297329078],[\"RMI\",17,0.00015890828387778963],[\"SC\",18527,0.017746045686260693],[\"SD\",3046,0.0027140799668325813],[\"TN\",28017,0.02428346577841593],[\"TX\",89429,0.08160185621892975],[\"UT\",5034,0.010756187719122973],[\"VA\",22057,0.02175219900657798],[\"VI\",123,0.00024027791653468626],[\"VT\",700,0.0013820962541830368],[\"WA\",14464,0.018885581956800263],[\"WI\",15374,0.019456491125624437],[\"WV\",7479,0.00624741169962111],[\"WY\",1906,0.001838375436697033]],\"geo\":\"geo\",\"hovertemplate\":\"state=%{customdata[0]}<br>tot_death=%{z}<br>TotalDeathPercent=%{customdata[2]}<extra></extra>\",\"locationmode\":\"USA-states\",\"locations\":[\"AK\",\"AL\",\"AR\",\"AS\",\"AZ\",\"CA\",\"CO\",\"CT\",\"DC\",\"DE\",\"FL\",\"FSM\",\"GA\",\"GU\",\"HI\",\"IA\",\"ID\",\"IL\",\"IN\",\"KS\",\"KY\",\"LA\",\"MA\",\"MD\",\"ME\",\"MI\",\"MN\",\"MO\",\"MP\",\"MS\",\"MT\",\"NC\",\"ND\",\"NE\",\"NH\",\"NJ\",\"NM\",\"NV\",\"NY\",\"NYC\",\"OH\",\"OK\",\"OR\",\"PA\",\"PR\",\"PW\",\"RI\",\"RMI\",\"SC\",\"SD\",\"TN\",\"TX\",\"UT\",\"VA\",\"VI\",\"VT\",\"WA\",\"WI\",\"WV\",\"WY\"],\"name\":\"\",\"z\":[1356,20526,12386,34,31455,95604,13373,11420,1392,3136,82065,55,40448,401,1687,10152,5198,39867,24816,9590,17225,18136,23751,15497,2629,39092,13738,21600,41,12945,3566,26923,2387,4559,2721,34834,8601,11536,29356,42221,40037,14924,8622,47442,5217,7,3681,17,18527,3046,28017,89429,5034,22057,123,700,14464,15374,7479,1906],\"type\":\"choropleth\"}],                        {\"template\":{\"data\":{\"bar\":[{\"error_x\":{\"color\":\"#2a3f5f\"},\"error_y\":{\"color\":\"#2a3f5f\"},\"marker\":{\"line\":{\"color\":\"#E5ECF6\",\"width\":0.5},\"pattern\":{\"fillmode\":\"overlay\",\"size\":10,\"solidity\":0.2}},\"type\":\"bar\"}],\"barpolar\":[{\"marker\":{\"line\":{\"color\":\"#E5ECF6\",\"width\":0.5},\"pattern\":{\"fillmode\":\"overlay\",\"size\":10,\"solidity\":0.2}},\"type\":\"barpolar\"}],\"carpet\":[{\"aaxis\":{\"endlinecolor\":\"#2a3f5f\",\"gridcolor\":\"white\",\"linecolor\":\"white\",\"minorgridcolor\":\"white\",\"startlinecolor\":\"#2a3f5f\"},\"baxis\":{\"endlinecolor\":\"#2a3f5f\",\"gridcolor\":\"white\",\"linecolor\":\"white\",\"minorgridcolor\":\"white\",\"startlinecolor\":\"#2a3f5f\"},\"type\":\"carpet\"}],\"choropleth\":[{\"colorbar\":{\"outlinewidth\":0,\"ticks\":\"\"},\"type\":\"choropleth\"}],\"contour\":[{\"colorbar\":{\"outlinewidth\":0,\"ticks\":\"\"},\"colorscale\":[[0.0,\"#0d0887\"],[0.1111111111111111,\"#46039f\"],[0.2222222222222222,\"#7201a8\"],[0.3333333333333333,\"#9c179e\"],[0.4444444444444444,\"#bd3786\"],[0.5555555555555556,\"#d8576b\"],[0.6666666666666666,\"#ed7953\"],[0.7777777777777778,\"#fb9f3a\"],[0.8888888888888888,\"#fdca26\"],[1.0,\"#f0f921\"]],\"type\":\"contour\"}],\"contourcarpet\":[{\"colorbar\":{\"outlinewidth\":0,\"ticks\":\"\"},\"type\":\"contourcarpet\"}],\"heatmap\":[{\"colorbar\":{\"outlinewidth\":0,\"ticks\":\"\"},\"colorscale\":[[0.0,\"#0d0887\"],[0.1111111111111111,\"#46039f\"],[0.2222222222222222,\"#7201a8\"],[0.3333333333333333,\"#9c179e\"],[0.4444444444444444,\"#bd3786\"],[0.5555555555555556,\"#d8576b\"],[0.6666666666666666,\"#ed7953\"],[0.7777777777777778,\"#fb9f3a\"],[0.8888888888888888,\"#fdca26\"],[1.0,\"#f0f921\"]],\"type\":\"heatmap\"}],\"heatmapgl\":[{\"colorbar\":{\"outlinewidth\":0,\"ticks\":\"\"},\"colorscale\":[[0.0,\"#0d0887\"],[0.1111111111111111,\"#46039f\"],[0.2222222222222222,\"#7201a8\"],[0.3333333333333333,\"#9c179e\"],[0.4444444444444444,\"#bd3786\"],[0.5555555555555556,\"#d8576b\"],[0.6666666666666666,\"#ed7953\"],[0.7777777777777778,\"#fb9f3a\"],[0.8888888888888888,\"#fdca26\"],[1.0,\"#f0f921\"]],\"type\":\"heatmapgl\"}],\"histogram\":[{\"marker\":{\"pattern\":{\"fillmode\":\"overlay\",\"size\":10,\"solidity\":0.2}},\"type\":\"histogram\"}],\"histogram2d\":[{\"colorbar\":{\"outlinewidth\":0,\"ticks\":\"\"},\"colorscale\":[[0.0,\"#0d0887\"],[0.1111111111111111,\"#46039f\"],[0.2222222222222222,\"#7201a8\"],[0.3333333333333333,\"#9c179e\"],[0.4444444444444444,\"#bd3786\"],[0.5555555555555556,\"#d8576b\"],[0.6666666666666666,\"#ed7953\"],[0.7777777777777778,\"#fb9f3a\"],[0.8888888888888888,\"#fdca26\"],[1.0,\"#f0f921\"]],\"type\":\"histogram2d\"}],\"histogram2dcontour\":[{\"colorbar\":{\"outlinewidth\":0,\"ticks\":\"\"},\"colorscale\":[[0.0,\"#0d0887\"],[0.1111111111111111,\"#46039f\"],[0.2222222222222222,\"#7201a8\"],[0.3333333333333333,\"#9c179e\"],[0.4444444444444444,\"#bd3786\"],[0.5555555555555556,\"#d8576b\"],[0.6666666666666666,\"#ed7953\"],[0.7777777777777778,\"#fb9f3a\"],[0.8888888888888888,\"#fdca26\"],[1.0,\"#f0f921\"]],\"type\":\"histogram2dcontour\"}],\"mesh3d\":[{\"colorbar\":{\"outlinewidth\":0,\"ticks\":\"\"},\"type\":\"mesh3d\"}],\"parcoords\":[{\"line\":{\"colorbar\":{\"outlinewidth\":0,\"ticks\":\"\"}},\"type\":\"parcoords\"}],\"pie\":[{\"automargin\":true,\"type\":\"pie\"}],\"scatter\":[{\"marker\":{\"colorbar\":{\"outlinewidth\":0,\"ticks\":\"\"}},\"type\":\"scatter\"}],\"scatter3d\":[{\"line\":{\"colorbar\":{\"outlinewidth\":0,\"ticks\":\"\"}},\"marker\":{\"colorbar\":{\"outlinewidth\":0,\"ticks\":\"\"}},\"type\":\"scatter3d\"}],\"scattercarpet\":[{\"marker\":{\"colorbar\":{\"outlinewidth\":0,\"ticks\":\"\"}},\"type\":\"scattercarpet\"}],\"scattergeo\":[{\"marker\":{\"colorbar\":{\"outlinewidth\":0,\"ticks\":\"\"}},\"type\":\"scattergeo\"}],\"scattergl\":[{\"marker\":{\"colorbar\":{\"outlinewidth\":0,\"ticks\":\"\"}},\"type\":\"scattergl\"}],\"scattermapbox\":[{\"marker\":{\"colorbar\":{\"outlinewidth\":0,\"ticks\":\"\"}},\"type\":\"scattermapbox\"}],\"scatterpolar\":[{\"marker\":{\"colorbar\":{\"outlinewidth\":0,\"ticks\":\"\"}},\"type\":\"scatterpolar\"}],\"scatterpolargl\":[{\"marker\":{\"colorbar\":{\"outlinewidth\":0,\"ticks\":\"\"}},\"type\":\"scatterpolargl\"}],\"scatterternary\":[{\"marker\":{\"colorbar\":{\"outlinewidth\":0,\"ticks\":\"\"}},\"type\":\"scatterternary\"}],\"surface\":[{\"colorbar\":{\"outlinewidth\":0,\"ticks\":\"\"},\"colorscale\":[[0.0,\"#0d0887\"],[0.1111111111111111,\"#46039f\"],[0.2222222222222222,\"#7201a8\"],[0.3333333333333333,\"#9c179e\"],[0.4444444444444444,\"#bd3786\"],[0.5555555555555556,\"#d8576b\"],[0.6666666666666666,\"#ed7953\"],[0.7777777777777778,\"#fb9f3a\"],[0.8888888888888888,\"#fdca26\"],[1.0,\"#f0f921\"]],\"type\":\"surface\"}],\"table\":[{\"cells\":{\"fill\":{\"color\":\"#EBF0F8\"},\"line\":{\"color\":\"white\"}},\"header\":{\"fill\":{\"color\":\"#C8D4E3\"},\"line\":{\"color\":\"white\"}},\"type\":\"table\"}]},\"layout\":{\"annotationdefaults\":{\"arrowcolor\":\"#2a3f5f\",\"arrowhead\":0,\"arrowwidth\":1},\"autotypenumbers\":\"strict\",\"coloraxis\":{\"colorbar\":{\"outlinewidth\":0,\"ticks\":\"\"}},\"colorscale\":{\"diverging\":[[0,\"#8e0152\"],[0.1,\"#c51b7d\"],[0.2,\"#de77ae\"],[0.3,\"#f1b6da\"],[0.4,\"#fde0ef\"],[0.5,\"#f7f7f7\"],[0.6,\"#e6f5d0\"],[0.7,\"#b8e186\"],[0.8,\"#7fbc41\"],[0.9,\"#4d9221\"],[1,\"#276419\"]],\"sequential\":[[0.0,\"#0d0887\"],[0.1111111111111111,\"#46039f\"],[0.2222222222222222,\"#7201a8\"],[0.3333333333333333,\"#9c179e\"],[0.4444444444444444,\"#bd3786\"],[0.5555555555555556,\"#d8576b\"],[0.6666666666666666,\"#ed7953\"],[0.7777777777777778,\"#fb9f3a\"],[0.8888888888888888,\"#fdca26\"],[1.0,\"#f0f921\"]],\"sequentialminus\":[[0.0,\"#0d0887\"],[0.1111111111111111,\"#46039f\"],[0.2222222222222222,\"#7201a8\"],[0.3333333333333333,\"#9c179e\"],[0.4444444444444444,\"#bd3786\"],[0.5555555555555556,\"#d8576b\"],[0.6666666666666666,\"#ed7953\"],[0.7777777777777778,\"#fb9f3a\"],[0.8888888888888888,\"#fdca26\"],[1.0,\"#f0f921\"]]},\"colorway\":[\"#636efa\",\"#EF553B\",\"#00cc96\",\"#ab63fa\",\"#FFA15A\",\"#19d3f3\",\"#FF6692\",\"#B6E880\",\"#FF97FF\",\"#FECB52\"],\"font\":{\"color\":\"#2a3f5f\"},\"geo\":{\"bgcolor\":\"white\",\"lakecolor\":\"white\",\"landcolor\":\"#E5ECF6\",\"showlakes\":true,\"showland\":true,\"subunitcolor\":\"white\"},\"hoverlabel\":{\"align\":\"left\"},\"hovermode\":\"closest\",\"mapbox\":{\"style\":\"light\"},\"paper_bgcolor\":\"white\",\"plot_bgcolor\":\"#E5ECF6\",\"polar\":{\"angularaxis\":{\"gridcolor\":\"white\",\"linecolor\":\"white\",\"ticks\":\"\"},\"bgcolor\":\"#E5ECF6\",\"radialaxis\":{\"gridcolor\":\"white\",\"linecolor\":\"white\",\"ticks\":\"\"}},\"scene\":{\"xaxis\":{\"backgroundcolor\":\"#E5ECF6\",\"gridcolor\":\"white\",\"gridwidth\":2,\"linecolor\":\"white\",\"showbackground\":true,\"ticks\":\"\",\"zerolinecolor\":\"white\"},\"yaxis\":{\"backgroundcolor\":\"#E5ECF6\",\"gridcolor\":\"white\",\"gridwidth\":2,\"linecolor\":\"white\",\"showbackground\":true,\"ticks\":\"\",\"zerolinecolor\":\"white\"},\"zaxis\":{\"backgroundcolor\":\"#E5ECF6\",\"gridcolor\":\"white\",\"gridwidth\":2,\"linecolor\":\"white\",\"showbackground\":true,\"ticks\":\"\",\"zerolinecolor\":\"white\"}},\"shapedefaults\":{\"line\":{\"color\":\"#2a3f5f\"}},\"ternary\":{\"aaxis\":{\"gridcolor\":\"white\",\"linecolor\":\"white\",\"ticks\":\"\"},\"baxis\":{\"gridcolor\":\"white\",\"linecolor\":\"white\",\"ticks\":\"\"},\"bgcolor\":\"#E5ECF6\",\"caxis\":{\"gridcolor\":\"white\",\"linecolor\":\"white\",\"ticks\":\"\"}},\"title\":{\"x\":0.05},\"xaxis\":{\"automargin\":true,\"gridcolor\":\"white\",\"linecolor\":\"white\",\"ticks\":\"\",\"title\":{\"standoff\":15},\"zerolinecolor\":\"white\",\"zerolinewidth\":2},\"yaxis\":{\"automargin\":true,\"gridcolor\":\"white\",\"linecolor\":\"white\",\"ticks\":\"\",\"title\":{\"standoff\":15},\"zerolinecolor\":\"white\",\"zerolinewidth\":2}}},\"geo\":{\"domain\":{\"x\":[0.0,1.0],\"y\":[0.0,1.0]},\"center\":{},\"scope\":\"usa\"},\"coloraxis\":{\"colorbar\":{\"title\":{\"text\":\"tot_death\"}},\"colorscale\":[[0.0,\"#0d0887\"],[0.1111111111111111,\"#46039f\"],[0.2222222222222222,\"#7201a8\"],[0.3333333333333333,\"#9c179e\"],[0.4444444444444444,\"#bd3786\"],[0.5555555555555556,\"#d8576b\"],[0.6666666666666666,\"#ed7953\"],[0.7777777777777778,\"#fb9f3a\"],[0.8888888888888888,\"#fdca26\"],[1.0,\"#f0f921\"]]},\"legend\":{\"tracegroupgap\":0},\"title\":{\"text\":\"Total Deaths by State in the USA\"}},                        {\"responsive\": true}                    ).then(function(){\n",
              "                            \n",
              "var gd = document.getElementById('26a8e7e5-9fa9-476e-b822-c2eaa80b3180');\n",
              "var x = new MutationObserver(function (mutations, observer) {{\n",
              "        var display = window.getComputedStyle(gd).display;\n",
              "        if (!display || display === 'none') {{\n",
              "            console.log([gd, 'removed!']);\n",
              "            Plotly.purge(gd);\n",
              "            observer.disconnect();\n",
              "        }}\n",
              "}});\n",
              "\n",
              "// Listen for the removal of the full notebook cells\n",
              "var notebookContainer = gd.closest('#notebook-container');\n",
              "if (notebookContainer) {{\n",
              "    x.observe(notebookContainer, {childList: true});\n",
              "}}\n",
              "\n",
              "// Listen for the clearing of the current output cell\n",
              "var outputEl = gd.closest('.output');\n",
              "if (outputEl) {{\n",
              "    x.observe(outputEl, {childList: true});\n",
              "}}\n",
              "\n",
              "                        })                };                            </script>        </div>\n",
              "</body>\n",
              "</html>"
            ]
          },
          "metadata": {}
        }
      ],
      "source": [
        "map2 = px.choropleth(stateData, locations= stateData.index, locationmode=\"USA-states\", color= stateData.tot_death, scope=\"usa\",\n",
        "                   title = \"Total Deaths by State in the USA\", hover_data = [stateData.index, \"tot_death\", \"TotalDeathPercent\"])\n",
        "map2.show()"
      ]
    },
    {
      "cell_type": "code",
      "execution_count": null,
      "id": "911301b2",
      "metadata": {
        "id": "911301b2"
      },
      "outputs": [],
      "source": [
        "map2.write_html(\"chloroplethCovid.html\")"
      ]
    },
    {
      "cell_type": "code",
      "execution_count": null,
      "id": "15ca7b34",
      "metadata": {
        "id": "15ca7b34"
      },
      "outputs": [],
      "source": []
    }
  ],
  "metadata": {
    "kernelspec": {
      "display_name": "Python 3 (ipykernel)",
      "language": "python",
      "name": "python3"
    },
    "language_info": {
      "codemirror_mode": {
        "name": "ipython",
        "version": 3
      },
      "file_extension": ".py",
      "mimetype": "text/x-python",
      "name": "python",
      "nbconvert_exporter": "python",
      "pygments_lexer": "ipython3",
      "version": "3.9.7"
    },
    "colab": {
      "provenance": [],
      "include_colab_link": true
    }
  },
  "nbformat": 4,
  "nbformat_minor": 5
}